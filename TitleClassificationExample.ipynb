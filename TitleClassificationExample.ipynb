{
 "cells": [
  {
   "cell_type": "code",
   "execution_count": 2,
   "id": "4f0fd730",
   "metadata": {},
   "outputs": [],
   "source": [
    "import pandas as pd\n",
    "import seaborn as sns\n",
    "import nltk\n",
    "import string\n",
    "from nltk.corpus import stopwords\n",
    "from nltk import word_tokenize\n",
    "from nltk.stem import SnowballStemmer\n",
    "from nltk.stem import PorterStemmer\n",
    "from nltk.stem import WordNetLemmatizer\n",
    "\n",
    "import matplotlib.pyplot as plt\n",
    "import numpy as np\n",
    "import re\n",
    "import pandas as pd\n",
    "import tensorflow as tf\n",
    "from tensorflow import keras\n",
    "from tensorflow.keras import layers\n",
    "stopwords = stopwords.words(\"english\")"
   ]
  },
  {
   "cell_type": "code",
   "execution_count": 3,
   "id": "a5dbac02",
   "metadata": {},
   "outputs": [],
   "source": [
    "df = pd.read_csv(\"data.csv\", encoding='utf8')\n",
    "rdf = pd.read_csv(\"reddit_politics.csv\", encoding = 'utf8')\n",
    "# # removing bad entries\n",
    "# rdf = rdf[rdf.title != \"comment\"]\n",
    "# newsdf = pd.read_csv(\"Amalgamated_Data_File.csv\")\n",
    "# blazedf = pd.read_csv(\"BlazeTV_Data_Descriptions.csv\")\n",
    "# blazedf['title']=blazedf['title'].astype(str) \n",
    "# cnndf = pd.read_csv(\"CNN_Data_Descriptions.csv\")\n",
    "# cnndf['title']=cnndf['title'].astype(str) \n",
    "# cnndf['title'] = cnndf['title'].str.replace('CNN', '')\n",
    "# nbcdf = pd.read_csv(\"NBC_Data_Descriptions.csv\")\n",
    "# nbcdf['title']=nbcdf['title'].astype(str) \n",
    "# pbsdf = pd.read_csv(\"PBS_Data_Descriptions.csv\")\n",
    "# pbsdf['title']=pbsdf['title'].astype(str) \n",
    "# # removing bad entries\n",
    "# pbsdf = pbsdf[pbsdf[\"title\"].str.contains(\"Stream your PBS favorites\")==False]\n",
    "# fdf = pd.read_csv(\"FoxNews_Data_Descriptions.csv\")\n",
    "# fdf['title']=fdf['title'].astype(str)"
   ]
  },
  {
   "cell_type": "code",
   "execution_count": null,
   "id": "8bdc8456",
   "metadata": {},
   "outputs": [],
   "source": []
  },
  {
   "cell_type": "code",
   "execution_count": 4,
   "id": "73100e3d",
   "metadata": {
    "scrolled": true
   },
   "outputs": [
    {
     "data": {
      "text/plain": [
       "0        A Right Wing Group in Texas Is Making up Fake ...\n",
       "1        DOJ sues Texas over Gov Abbott’s order for law...\n",
       "2        From white evangelicals to QAnon believers who...\n",
       "3        DeSantis says he’ll sign order allowing parent...\n",
       "4        Show on the road In Utah Florida Gov Ron DeSan...\n",
       "                               ...                        \n",
       "28058                                              Comment\n",
       "28059                                              Comment\n",
       "28060                                              Comment\n",
       "28061                                              Comment\n",
       "28062                                              Comment\n",
       "Name: no_punctuation, Length: 28063, dtype: object"
      ]
     },
     "execution_count": 4,
     "metadata": {},
     "output_type": "execute_result"
    }
   ],
   "source": [
    "#Cleaning Data\n",
    "\n",
    "# removing punctuation\n",
    "def remove_punct(text):\n",
    "    return text.translate(str.maketrans('', '', string.punctuation))\n",
    "df['no_punctuation'] = df['title'].apply(remove_punct)\n",
    "df['no_punctuation']\n",
    "\n",
    "rdf['no_punctuation'] = rdf['title'].apply(remove_punct)\n",
    "rdf['no_punctuation']\n",
    "\n",
    "# newsdf['no_punctuation'] = newsdf['title'].apply(remove_punct)\n",
    "# newsdf['no_punctuation']\n",
    "\n",
    "\n",
    "# blazedf['no_punctuation'] = blazedf['title'].apply(remove_punct)\n",
    "# blazedf['no_punctuation']\n",
    "\n",
    "# cnndf['no_punctuation'] = cnndf['title'].apply(remove_punct)\n",
    "# cnndf['no_punctuation']\n",
    "\n",
    "# nbcdf['no_punctuation'] = nbcdf['title'].apply(remove_punct)\n",
    "# nbcdf['no_punctuation']\n",
    "\n",
    "# pbsdf['no_punctuation'] = pbsdf['title'].apply(remove_punct)\n",
    "# pbsdf['no_punctuation']\n",
    "\n",
    "# fdf['no_punctuation'] = fdf['title'].apply(remove_punct)\n",
    "# fdf['no_punctuation']\n",
    "\n"
   ]
  },
  {
   "cell_type": "code",
   "execution_count": 5,
   "id": "4b24595e",
   "metadata": {},
   "outputs": [],
   "source": [
    "df['no_punctuation_lowercase'] = df['no_punctuation'].apply(lambda x: x.lower())\n",
    "\n",
    "rdf['no_punctuation_lowercase'] = rdf['no_punctuation'].apply(lambda x: x.lower())\n",
    "\n",
    "# newsdf['no_punctuation_lowercase'] = newsdf['no_punctuation'].apply(lambda x: x.lower())\n",
    "\n",
    "# blazedf['no_punctuation_lowercase'] = blazedf['no_punctuation'].apply(lambda x: x.lower())\n",
    "\n",
    "# cnndf['no_punctuation_lowercase'] = cnndf['no_punctuation'].apply(lambda x: x.lower())\n",
    "\n",
    "# nbcdf['no_punctuation_lowercase'] = nbcdf['no_punctuation'].apply(lambda x: x.lower())\n",
    "\n",
    "# pbsdf['no_punctuation_lowercase'] = pbsdf['no_punctuation'].apply(lambda x: x.lower())\n",
    "\n",
    "# fdf['no_punctuation_lowercase'] = fdf['no_punctuation'].apply(lambda x: x.lower())\n"
   ]
  },
  {
   "cell_type": "code",
   "execution_count": 6,
   "id": "41e93162",
   "metadata": {},
   "outputs": [],
   "source": [
    "# Removing stopwords\n",
    "def remove_stopwords(text):\n",
    "    global stopwords\n",
    "    new = []\n",
    "    #print(word_tokenize(text))\n",
    "    for el in word_tokenize(text):\n",
    "        if not el in stopwords:\n",
    "            new.append(el)\n",
    "    return ' '.join(new)\n",
    "\n",
    "df['no_punctuation_no_stopwords'] = df['no_punctuation_lowercase'].apply(remove_stopwords)\n",
    "\n",
    "rdf['no_punctuation_no_stopwords'] = rdf['no_punctuation_lowercase'].apply(remove_stopwords)\n",
    "\n",
    "# newsdf['no_punctuation_no_stopwords'] = newsdf['no_punctuation_lowercase'].apply(remove_stopwords)\n",
    "\n",
    "\n",
    "# blazedf['no_punctuation_no_stopwords'] = blazedf['no_punctuation_lowercase'].apply(remove_stopwords)\n",
    "\n",
    "# cnndf['no_punctuation_no_stopwords'] = cnndf['no_punctuation_lowercase'].apply(remove_stopwords)\n",
    "\n",
    "# nbcdf['no_punctuation_no_stopwords'] = nbcdf['no_punctuation_lowercase'].apply(remove_stopwords)\n",
    "\n",
    "# pbsdf['no_punctuation_no_stopwords'] = pbsdf['no_punctuation_lowercase'].apply(remove_stopwords)\n",
    "\n",
    "# fdf['no_punctuation_no_stopwords'] = fdf['no_punctuation_lowercase'].apply(remove_stopwords)\n"
   ]
  },
  {
   "cell_type": "code",
   "execution_count": 7,
   "id": "d1fd3677",
   "metadata": {
    "scrolled": true
   },
   "outputs": [],
   "source": [
    "# Stemming words. \"speaker -> speak\"\n",
    "def stemm(text):\n",
    "    stemmer = PorterStemmer(PorterStemmer.ORIGINAL_ALGORITHM)\n",
    "    new = []\n",
    "    for word in word_tokenize(text):\n",
    "        new.append(stemmer.stem(word))\n",
    "    return ' '.join(new)\n",
    "\n",
    "df['stemmed'] = df['no_punctuation_no_stopwords'].apply(stemm)\n",
    "\n",
    "rdf['stemmed'] = rdf['no_punctuation_no_stopwords'].apply(stemm)\n",
    "\n",
    "# newsdf['stemmed'] = newsdf['no_punctuation_no_stopwords'].apply(stemm)\n",
    "\n",
    "\n",
    "\n",
    "# blazedf['stemmed'] = blazedf['no_punctuation_no_stopwords'].apply(stemm)\n",
    "\n",
    "# cnndf['stemmed'] = cnndf['no_punctuation_no_stopwords'].apply(stemm)\n",
    "\n",
    "# nbcdf['stemmed'] = nbcdf['no_punctuation_no_stopwords'].apply(stemm)\n",
    "\n",
    "# pbsdf['stemmed'] = pbsdf['no_punctuation_no_stopwords'].apply(stemm)\n",
    "\n",
    "# fdf['stemmed'] = fdf['no_punctuation_no_stopwords'].apply(stemm)"
   ]
  },
  {
   "cell_type": "code",
   "execution_count": 8,
   "id": "675d179b",
   "metadata": {},
   "outputs": [],
   "source": [
    "# Lemmatization\n",
    "\n",
    "def lematize(text):\n",
    "    stemmer = WordNetLemmatizer()\n",
    "    new = []\n",
    "    for word in word_tokenize(text):\n",
    "        new.append(stemmer.lemmatize(word))\n",
    "    return ' '.join(new)\n",
    "\n",
    "df['lematized'] = df['no_punctuation_no_stopwords'].apply(lematize)\n",
    "\n",
    "rdf['lematized'] = rdf['no_punctuation_no_stopwords'].apply(lematize)\n",
    "\n",
    "\n",
    "# newsdf['lematized'] = newsdf['no_punctuation_no_stopwords'].apply(lematize)\n",
    "\n",
    "\n",
    "# blazedf['lematized'] = blazedf['no_punctuation_no_stopwords'].apply(lematize)\n",
    "\n",
    "\n",
    "# cnndf['lematized'] = cnndf['no_punctuation_no_stopwords'].apply(lematize)\n",
    "\n",
    "\n",
    "# nbcdf['lematized'] = nbcdf['no_punctuation_no_stopwords'].apply(lematize)\n",
    "\n",
    "# pbsdf['lematized'] = pbsdf['no_punctuation_no_stopwords'].apply(lematize)\n",
    "\n",
    "# fdf['lematized'] = fdf['no_punctuation_no_stopwords'].apply(lematize)"
   ]
  },
  {
   "cell_type": "code",
   "execution_count": 9,
   "id": "99972e36",
   "metadata": {},
   "outputs": [],
   "source": [
    "from sklearn.model_selection import train_test_split\n",
    "from sklearn.feature_extraction.text import CountVectorizer\n",
    "from sklearn.preprocessing import StandardScaler\n",
    "\n",
    "from sklearn.feature_extraction.text import TfidfVectorizer\n",
    "from sklearn.feature_extraction.text import TfidfTransformer\n",
    "from sklearn.pipeline import Pipeline, FeatureUnion\n",
    "from sklearn.base import BaseEstimator, TransformerMixin\n",
    "from sklearn.impute import SimpleImputer\n",
    "from sklearn.preprocessing import MinMaxScaler\n",
    "\n",
    "\n",
    "from sklearn.pipeline import Pipeline\n",
    "\n",
    "from sklearn.compose import ColumnTransformer\n",
    "\n",
    "\n",
    "\n",
    "\n",
    "# In TfidfVectorizer we consider overall document weightage\n",
    "# of a word. It helps us in dealing with most frequent words.\n",
    "# Using it we can penalize them. TfidfVectorizer weights the\n",
    "# word counts by a measure of how often they appear in the documents.\n",
    "from sklearn.pipeline import make_pipeline\n",
    "from sklearn.metrics import classification_report\n",
    "import matplotlib.pyplot as plt\n",
    "from plotly.offline import iplot\n",
    "\n",
    "# evaluate an ridge regression model on the dataset\n",
    "from numpy import mean\n",
    "from numpy import std\n",
    "from numpy import absolute\n",
    "from pandas import read_csv\n",
    "from sklearn.model_selection import cross_val_score\n",
    "from sklearn.model_selection import RepeatedKFold\n",
    "from sklearn.linear_model import Ridge"
   ]
  },
  {
   "cell_type": "code",
   "execution_count": 44,
   "id": "abbb8d83",
   "metadata": {},
   "outputs": [
    {
     "data": {
      "text/html": [
       "        <script type=\"text/javascript\">\n",
       "        window.PlotlyConfig = {MathJaxConfig: 'local'};\n",
       "        if (window.MathJax) {MathJax.Hub.Config({SVG: {font: \"STIX-Web\"}});}\n",
       "        if (typeof require !== 'undefined') {\n",
       "        require.undef(\"plotly\");\n",
       "        requirejs.config({\n",
       "            paths: {\n",
       "                'plotly': ['https://cdn.plot.ly/plotly-2.11.1.min']\n",
       "            }\n",
       "        });\n",
       "        require(['plotly'], function(Plotly) {\n",
       "            window._Plotly = Plotly;\n",
       "        });\n",
       "        }\n",
       "        </script>\n",
       "        "
      ]
     },
     "metadata": {},
     "output_type": "display_data"
    },
    {
     "name": "stderr",
     "output_type": "stream",
     "text": [
      "[nltk_data] Downloading package stopwords to\n",
      "[nltk_data]     C:\\Users\\Yoni\\AppData\\Roaming\\nltk_data...\n",
      "[nltk_data]   Package stopwords is already up-to-date!\n"
     ]
    }
   ],
   "source": [
    "# standart\n",
    "import numpy as np\n",
    "import pandas as pd \n",
    "from sklearn import linear_model\n",
    "from vaderSentiment.vaderSentiment import SentimentIntensityAnalyzer\n",
    "from sklearn.linear_model import Lasso\n",
    "from sklearn.model_selection import train_test_split, GridSearchCV\n",
    "\n",
    "from sklearn.naive_bayes import MultinomialNB\n",
    "from numpy.random import seed\n",
    "from sklearn.decomposition import PCA\n",
    "\n",
    "seed(42)\n",
    "\n",
    "# visualization\n",
    "import matplotlib.pyplot as plt\n",
    "from plotly.offline import iplot\n",
    "\n",
    "import cufflinks\n",
    "cufflinks.go_offline()\n",
    "cufflinks.set_config_file(world_readable=True, theme='pearl')\n",
    "\n",
    "# text\n",
    "from googletrans import Translator\n",
    "from sklearn.feature_extraction.text import CountVectorizer\n",
    "from bs4 import BeautifulSoup\n",
    "from string import punctuation\n",
    "import re\n",
    "import nltk\n",
    "import math\n",
    "nltk.download('stopwords')\n",
    "\n",
    "from nltk.corpus import stopwords\n",
    "\n",
    "# neural\n",
    "from keras.preprocessing.text import Tokenizer\n",
    "from keras.preprocessing.sequence import pad_sequences\n",
    "from keras.layers import Dense, LSTM, Embedding, Dropout\n",
    "from keras.layers import Bidirectional, GlobalMaxPool1D\n",
    "from keras.models import Model, Sequential\n",
    "\n",
    "import warnings\n",
    "warnings.filterwarnings('ignore')\n"
   ]
  },
  {
   "cell_type": "code",
   "execution_count": 11,
   "id": "ba9ff25e",
   "metadata": {},
   "outputs": [
    {
     "data": {
      "text/html": [
       "<div>\n",
       "<style scoped>\n",
       "    .dataframe tbody tr th:only-of-type {\n",
       "        vertical-align: middle;\n",
       "    }\n",
       "\n",
       "    .dataframe tbody tr th {\n",
       "        vertical-align: top;\n",
       "    }\n",
       "\n",
       "    .dataframe thead th {\n",
       "        text-align: right;\n",
       "    }\n",
       "</style>\n",
       "<table border=\"1\" class=\"dataframe\">\n",
       "  <thead>\n",
       "    <tr style=\"text-align: right;\">\n",
       "      <th></th>\n",
       "      <th>title</th>\n",
       "      <th>politicallean</th>\n",
       "      <th>score</th>\n",
       "      <th>id</th>\n",
       "      <th>subreddit</th>\n",
       "      <th>URL</th>\n",
       "      <th>numcomments</th>\n",
       "      <th>text</th>\n",
       "      <th>date</th>\n",
       "      <th>no_punctuation</th>\n",
       "      <th>no_punctuation_lowercase</th>\n",
       "      <th>no_punctuation_no_stopwords</th>\n",
       "      <th>stemmed</th>\n",
       "      <th>lematized</th>\n",
       "    </tr>\n",
       "  </thead>\n",
       "  <tbody>\n",
       "    <tr>\n",
       "      <th>0</th>\n",
       "      <td>No matter who someone is, how they look like, ...</td>\n",
       "      <td>Liberal</td>\n",
       "      <td>1</td>\n",
       "      <td>t5fybt</td>\n",
       "      <td>socialism</td>\n",
       "      <td>https://v.redd.it/ng5fyl7hp2l81</td>\n",
       "      <td>0</td>\n",
       "      <td>NaN</td>\n",
       "      <td>1646271777</td>\n",
       "      <td>No matter who someone is how they look like wh...</td>\n",
       "      <td>no matter who someone is how they look like wh...</td>\n",
       "      <td>matter someone look like language speak wear r...</td>\n",
       "      <td>matter someon look like languag speak wear rem...</td>\n",
       "      <td>matter someone look like language speak wear r...</td>\n",
       "    </tr>\n",
       "    <tr>\n",
       "      <th>1</th>\n",
       "      <td>Biden speech draws 38.2 million U.S. TV viewers</td>\n",
       "      <td>Liberal</td>\n",
       "      <td>6</td>\n",
       "      <td>t5fqdn</td>\n",
       "      <td>democrats</td>\n",
       "      <td>https://www.reuters.com/world/us/biden-speech-...</td>\n",
       "      <td>1</td>\n",
       "      <td>NaN</td>\n",
       "      <td>1646271108</td>\n",
       "      <td>Biden speech draws 382 million US TV viewers</td>\n",
       "      <td>biden speech draws 382 million us tv viewers</td>\n",
       "      <td>biden speech draws 382 million us tv viewers</td>\n",
       "      <td>biden speech draw 382 million u tv viewer</td>\n",
       "      <td>biden speech draw 382 million u tv viewer</td>\n",
       "    </tr>\n",
       "    <tr>\n",
       "      <th>2</th>\n",
       "      <td>State of the union</td>\n",
       "      <td>Liberal</td>\n",
       "      <td>1</td>\n",
       "      <td>t5fj9a</td>\n",
       "      <td>DemocraticSocialism</td>\n",
       "      <td>https://www.reddit.com/r/DemocraticSocialism/c...</td>\n",
       "      <td>1</td>\n",
       "      <td>Who watched the state of the union last night ...</td>\n",
       "      <td>1646270488</td>\n",
       "      <td>State of the union</td>\n",
       "      <td>state of the union</td>\n",
       "      <td>state union</td>\n",
       "      <td>state union</td>\n",
       "      <td>state union</td>\n",
       "    </tr>\n",
       "    <tr>\n",
       "      <th>3</th>\n",
       "      <td>We Should Just Give Poor People Money</td>\n",
       "      <td>Liberal</td>\n",
       "      <td>7</td>\n",
       "      <td>t5f7n9</td>\n",
       "      <td>SocialDemocracy</td>\n",
       "      <td>https://youtu.be/a80kRjpubG0</td>\n",
       "      <td>3</td>\n",
       "      <td>NaN</td>\n",
       "      <td>1646269508</td>\n",
       "      <td>We Should Just Give Poor People Money</td>\n",
       "      <td>we should just give poor people money</td>\n",
       "      <td>give poor people money</td>\n",
       "      <td>give poor peopl monei</td>\n",
       "      <td>give poor people money</td>\n",
       "    </tr>\n",
       "    <tr>\n",
       "      <th>4</th>\n",
       "      <td>Do it for the Dew</td>\n",
       "      <td>Liberal</td>\n",
       "      <td>6</td>\n",
       "      <td>t5es2c</td>\n",
       "      <td>democrats</td>\n",
       "      <td>https://i.redd.it/drmunn90f2l81.jpg</td>\n",
       "      <td>1</td>\n",
       "      <td>NaN</td>\n",
       "      <td>1646268183</td>\n",
       "      <td>Do it for the Dew</td>\n",
       "      <td>do it for the dew</td>\n",
       "      <td>dew</td>\n",
       "      <td>dew</td>\n",
       "      <td>dew</td>\n",
       "    </tr>\n",
       "    <tr>\n",
       "      <th>...</th>\n",
       "      <td>...</td>\n",
       "      <td>...</td>\n",
       "      <td>...</td>\n",
       "      <td>...</td>\n",
       "      <td>...</td>\n",
       "      <td>...</td>\n",
       "      <td>...</td>\n",
       "      <td>...</td>\n",
       "      <td>...</td>\n",
       "      <td>...</td>\n",
       "      <td>...</td>\n",
       "      <td>...</td>\n",
       "      <td>...</td>\n",
       "      <td>...</td>\n",
       "    </tr>\n",
       "    <tr>\n",
       "      <th>8314</th>\n",
       "      <td>Communist Party Of Greece On Gaza Conflict</td>\n",
       "      <td>Liberal</td>\n",
       "      <td>2</td>\n",
       "      <td>7ofvq</td>\n",
       "      <td>Communist</td>\n",
       "      <td>http://www.ana.gr/anaweb/user/showplain?maindo...</td>\n",
       "      <td>0</td>\n",
       "      <td>NaN</td>\n",
       "      <td>1231475099</td>\n",
       "      <td>Communist Party Of Greece On Gaza Conflict</td>\n",
       "      <td>communist party of greece on gaza conflict</td>\n",
       "      <td>communist party greece gaza conflict</td>\n",
       "      <td>communist parti greec gaza conflict</td>\n",
       "      <td>communist party greece gaza conflict</td>\n",
       "    </tr>\n",
       "    <tr>\n",
       "      <th>8315</th>\n",
       "      <td>U.S. labor union hails Cuba's efforts in prote...</td>\n",
       "      <td>Liberal</td>\n",
       "      <td>3</td>\n",
       "      <td>7o6mi</td>\n",
       "      <td>Communist</td>\n",
       "      <td>http://news.xinhuanet.com/english/2009-01/08/c...</td>\n",
       "      <td>2</td>\n",
       "      <td>NaN</td>\n",
       "      <td>1231389324</td>\n",
       "      <td>US labor union hails Cubas efforts in protecti...</td>\n",
       "      <td>us labor union hails cubas efforts in protecti...</td>\n",
       "      <td>us labor union hails cubas efforts protecting ...</td>\n",
       "      <td>u labor union hail cuba effort protect peopl w...</td>\n",
       "      <td>u labor union hail cuba effort protecting peop...</td>\n",
       "    </tr>\n",
       "    <tr>\n",
       "      <th>8316</th>\n",
       "      <td>I've been wanting to start this reddit for a w...</td>\n",
       "      <td>Liberal</td>\n",
       "      <td>8</td>\n",
       "      <td>7nsdu</td>\n",
       "      <td>Communist</td>\n",
       "      <td>https://www.reddit.com/r/Communist/comments/7n...</td>\n",
       "      <td>1</td>\n",
       "      <td>NaN</td>\n",
       "      <td>1231262563</td>\n",
       "      <td>Ive been wanting to start this reddit for a wh...</td>\n",
       "      <td>ive been wanting to start this reddit for a wh...</td>\n",
       "      <td>ive wanting start reddit didnt want one thanks...</td>\n",
       "      <td>iv want start reddit didnt want on thank peopl...</td>\n",
       "      <td>ive wanting start reddit didnt want one thanks...</td>\n",
       "    </tr>\n",
       "    <tr>\n",
       "      <th>8317</th>\n",
       "      <td>A Little Late But, \"Communist Christmas\"</td>\n",
       "      <td>Liberal</td>\n",
       "      <td>2</td>\n",
       "      <td>7nn4z</td>\n",
       "      <td>Communist</td>\n",
       "      <td>http://www.rathergood.com/christmas</td>\n",
       "      <td>3</td>\n",
       "      <td>NaN</td>\n",
       "      <td>1231209931</td>\n",
       "      <td>A Little Late But Communist Christmas</td>\n",
       "      <td>a little late but communist christmas</td>\n",
       "      <td>little late communist christmas</td>\n",
       "      <td>littl late communist christma</td>\n",
       "      <td>little late communist christmas</td>\n",
       "    </tr>\n",
       "    <tr>\n",
       "      <th>8318</th>\n",
       "      <td>Communist Party of Nepal (M) agrees to return ...</td>\n",
       "      <td>Liberal</td>\n",
       "      <td>1</td>\n",
       "      <td>7n91x</td>\n",
       "      <td>Communist</td>\n",
       "      <td>http://news.xinhuanet.com/english/2009-01/01/c...</td>\n",
       "      <td>0</td>\n",
       "      <td>NaN</td>\n",
       "      <td>1231047851</td>\n",
       "      <td>Communist Party of Nepal M agrees to return se...</td>\n",
       "      <td>communist party of nepal m agrees to return se...</td>\n",
       "      <td>communist party nepal agrees return seized pro...</td>\n",
       "      <td>communist parti nepal agre return seiz properti</td>\n",
       "      <td>communist party nepal agrees return seized pro...</td>\n",
       "    </tr>\n",
       "  </tbody>\n",
       "</table>\n",
       "<p>8319 rows × 14 columns</p>\n",
       "</div>"
      ],
      "text/plain": [
       "                                                  title politicallean  score  \\\n",
       "0     No matter who someone is, how they look like, ...       Liberal      1   \n",
       "1       Biden speech draws 38.2 million U.S. TV viewers       Liberal      6   \n",
       "2                                    State of the union       Liberal      1   \n",
       "3                 We Should Just Give Poor People Money       Liberal      7   \n",
       "4                                     Do it for the Dew       Liberal      6   \n",
       "...                                                 ...           ...    ...   \n",
       "8314        Communist Party Of Greece On Gaza Conflict        Liberal      2   \n",
       "8315  U.S. labor union hails Cuba's efforts in prote...       Liberal      3   \n",
       "8316  I've been wanting to start this reddit for a w...       Liberal      8   \n",
       "8317           A Little Late But, \"Communist Christmas\"       Liberal      2   \n",
       "8318  Communist Party of Nepal (M) agrees to return ...       Liberal      1   \n",
       "\n",
       "          id            subreddit  \\\n",
       "0     t5fybt            socialism   \n",
       "1     t5fqdn            democrats   \n",
       "2     t5fj9a  DemocraticSocialism   \n",
       "3     t5f7n9      SocialDemocracy   \n",
       "4     t5es2c            democrats   \n",
       "...      ...                  ...   \n",
       "8314   7ofvq            Communist   \n",
       "8315   7o6mi            Communist   \n",
       "8316   7nsdu            Communist   \n",
       "8317   7nn4z            Communist   \n",
       "8318   7n91x            Communist   \n",
       "\n",
       "                                                    URL  numcomments  \\\n",
       "0                       https://v.redd.it/ng5fyl7hp2l81            0   \n",
       "1     https://www.reuters.com/world/us/biden-speech-...            1   \n",
       "2     https://www.reddit.com/r/DemocraticSocialism/c...            1   \n",
       "3                          https://youtu.be/a80kRjpubG0            3   \n",
       "4                   https://i.redd.it/drmunn90f2l81.jpg            1   \n",
       "...                                                 ...          ...   \n",
       "8314  http://www.ana.gr/anaweb/user/showplain?maindo...            0   \n",
       "8315  http://news.xinhuanet.com/english/2009-01/08/c...            2   \n",
       "8316  https://www.reddit.com/r/Communist/comments/7n...            1   \n",
       "8317                http://www.rathergood.com/christmas            3   \n",
       "8318  http://news.xinhuanet.com/english/2009-01/01/c...            0   \n",
       "\n",
       "                                                   text        date  \\\n",
       "0                                                   NaN  1646271777   \n",
       "1                                                   NaN  1646271108   \n",
       "2     Who watched the state of the union last night ...  1646270488   \n",
       "3                                                   NaN  1646269508   \n",
       "4                                                   NaN  1646268183   \n",
       "...                                                 ...         ...   \n",
       "8314                                                NaN  1231475099   \n",
       "8315                                                NaN  1231389324   \n",
       "8316                                                NaN  1231262563   \n",
       "8317                                                NaN  1231209931   \n",
       "8318                                                NaN  1231047851   \n",
       "\n",
       "                                         no_punctuation  \\\n",
       "0     No matter who someone is how they look like wh...   \n",
       "1          Biden speech draws 382 million US TV viewers   \n",
       "2                                    State of the union   \n",
       "3                 We Should Just Give Poor People Money   \n",
       "4                                     Do it for the Dew   \n",
       "...                                                 ...   \n",
       "8314        Communist Party Of Greece On Gaza Conflict    \n",
       "8315  US labor union hails Cubas efforts in protecti...   \n",
       "8316  Ive been wanting to start this reddit for a wh...   \n",
       "8317              A Little Late But Communist Christmas   \n",
       "8318  Communist Party of Nepal M agrees to return se...   \n",
       "\n",
       "                               no_punctuation_lowercase  \\\n",
       "0     no matter who someone is how they look like wh...   \n",
       "1          biden speech draws 382 million us tv viewers   \n",
       "2                                    state of the union   \n",
       "3                 we should just give poor people money   \n",
       "4                                     do it for the dew   \n",
       "...                                                 ...   \n",
       "8314        communist party of greece on gaza conflict    \n",
       "8315  us labor union hails cubas efforts in protecti...   \n",
       "8316  ive been wanting to start this reddit for a wh...   \n",
       "8317              a little late but communist christmas   \n",
       "8318  communist party of nepal m agrees to return se...   \n",
       "\n",
       "                            no_punctuation_no_stopwords  \\\n",
       "0     matter someone look like language speak wear r...   \n",
       "1          biden speech draws 382 million us tv viewers   \n",
       "2                                           state union   \n",
       "3                                give poor people money   \n",
       "4                                                   dew   \n",
       "...                                                 ...   \n",
       "8314               communist party greece gaza conflict   \n",
       "8315  us labor union hails cubas efforts protecting ...   \n",
       "8316  ive wanting start reddit didnt want one thanks...   \n",
       "8317                    little late communist christmas   \n",
       "8318  communist party nepal agrees return seized pro...   \n",
       "\n",
       "                                                stemmed  \\\n",
       "0     matter someon look like languag speak wear rem...   \n",
       "1             biden speech draw 382 million u tv viewer   \n",
       "2                                           state union   \n",
       "3                                 give poor peopl monei   \n",
       "4                                                   dew   \n",
       "...                                                 ...   \n",
       "8314                communist parti greec gaza conflict   \n",
       "8315  u labor union hail cuba effort protect peopl w...   \n",
       "8316  iv want start reddit didnt want on thank peopl...   \n",
       "8317                      littl late communist christma   \n",
       "8318    communist parti nepal agre return seiz properti   \n",
       "\n",
       "                                              lematized  \n",
       "0     matter someone look like language speak wear r...  \n",
       "1             biden speech draw 382 million u tv viewer  \n",
       "2                                           state union  \n",
       "3                                give poor people money  \n",
       "4                                                   dew  \n",
       "...                                                 ...  \n",
       "8314               communist party greece gaza conflict  \n",
       "8315  u labor union hail cuba effort protecting peop...  \n",
       "8316  ive wanting start reddit didnt want one thanks...  \n",
       "8317                    little late communist christmas  \n",
       "8318  communist party nepal agrees return seized pro...  \n",
       "\n",
       "[8319 rows x 14 columns]"
      ]
     },
     "execution_count": 11,
     "metadata": {},
     "output_type": "execute_result"
    }
   ],
   "source": [
    "df[df['politicallean'] == \"Liberal\"]"
   ]
  },
  {
   "cell_type": "code",
   "execution_count": 12,
   "id": "abdaa9a0",
   "metadata": {},
   "outputs": [],
   "source": [
    "def get_top_n_gram(corpus,ngram_range,n=None):\n",
    "    vec = CountVectorizer(ngram_range=ngram_range,stop_words = 'english').fit(corpus)\n",
    "    bag_of_words = vec.transform(corpus)\n",
    "    sum_words = bag_of_words.sum(axis=0) \n",
    "    words_freq = [(word, sum_words[0, idx]) for word, idx in vec.vocabulary_.items()]\n",
    "    words_freq = sorted(words_freq, key = lambda x: x[1], reverse=True)\n",
    "    return words_freq[:n]"
   ]
  },
  {
   "cell_type": "code",
   "execution_count": 13,
   "id": "f16aeb7e",
   "metadata": {},
   "outputs": [],
   "source": [
    "def sentiment_scores(sentence):\n",
    " \n",
    "    # Create a SentimentIntensityAnalyzer object.\n",
    "    sid_obj = SentimentIntensityAnalyzer()\n",
    " \n",
    "    # polarity_scores method of SentimentIntensityAnalyzer\n",
    "    # object gives a sentiment dictionary.\n",
    "    # which contains pos, neg, neu, and compound scores.\n",
    "    sentiment_dict = sid_obj.polarity_scores(sentence)\n",
    "     \n",
    "    print(\"Overall sentiment dictionary is : \", sentiment_dict)\n",
    "    print(\"sentence was rated as \", sentiment_dict['neg']*100, \"% Negative\")\n",
    "    print(\"sentence was rated as \", sentiment_dict['neu']*100, \"% Neutral\")\n",
    "    print(\"sentence was rated as \", sentiment_dict['pos']*100, \"% Positive\")\n",
    " \n",
    "    print(\"Sentence Overall Rated As\", end = \" \")\n",
    " \n",
    "    # decide sentiment as positive, negative and neutral\n",
    "    if sentiment_dict['compound'] >= 0.05 :\n",
    "        print(\"Positive\")\n",
    " \n",
    "    elif sentiment_dict['compound'] <= - 0.05 :\n",
    "        print(\"Negative\")\n",
    " \n",
    "    else :\n",
    "        print(\"Neutral\")"
   ]
  },
  {
   "cell_type": "code",
   "execution_count": null,
   "id": "30f6030c",
   "metadata": {},
   "outputs": [],
   "source": []
  },
  {
   "cell_type": "code",
   "execution_count": 15,
   "id": "36ff81b1",
   "metadata": {},
   "outputs": [
    {
     "data": {
      "text/plain": [
       "0        matter someone look like language speak wear r...\n",
       "1             biden speech draws 382 million us tv viewers\n",
       "2                                              state union\n",
       "3                                   give poor people money\n",
       "4                                                      dew\n",
       "                               ...                        \n",
       "12849    ron paul ’ spirited defense wikileaks free inf...\n",
       "12850    “ anarchocapitalism opinion doctrinal system e...\n",
       "12851    mises wiki wiki project dedicated advancement ...\n",
       "12852        fireman protection monopoly failed capitalism\n",
       "12853                     wikipedia article better written\n",
       "Name: no_punctuation_no_stopwords, Length: 12854, dtype: object"
      ]
     },
     "execution_count": 15,
     "metadata": {},
     "output_type": "execute_result"
    }
   ],
   "source": [
    "analyzer = SentimentIntensityAnalyzer()\n",
    "#instantiate CountVectorizer() \n",
    "\n",
    "df['neg'] = [analyzer.polarity_scores(v)['neg'] for v in df['no_punctuation_no_stopwords']]\n",
    "df['neu'] = [analyzer.polarity_scores(v)['neu'] for v in df['no_punctuation_no_stopwords']]\n",
    "df['pos'] = [analyzer.polarity_scores(v)['pos'] for v in df['no_punctuation_no_stopwords']]\n",
    "df['pol'] = df['politicallean'].apply(lambda x: 1 if x == \"Liberal\" else 0)\n",
    "\n",
    "\n",
    "df['no_punctuation_no_stopwords']"
   ]
  },
  {
   "cell_type": "code",
   "execution_count": 16,
   "id": "59812a2a",
   "metadata": {},
   "outputs": [
    {
     "name": "stdout",
     "output_type": "stream",
     "text": [
      "Classification report on train data\n",
      "              precision    recall  f1-score   support\n",
      "\n",
      "           0       0.97      0.53      0.69      3395\n",
      "           1       0.80      0.99      0.88      6245\n",
      "\n",
      "    accuracy                           0.83      9640\n",
      "   macro avg       0.89      0.76      0.79      9640\n",
      "weighted avg       0.86      0.83      0.82      9640\n",
      "\n"
     ]
    }
   ],
   "source": [
    "vectorizer =  TfidfVectorizer()\n",
    "X = vectorizer.fit_transform(df['no_punctuation_no_stopwords'])\n",
    "scaler = MinMaxScaler()\n",
    "scaler2 = StandardScaler()\n",
    "# transform data\n",
    "# df['originalLength'] = df['no_punctuation_no_stopwords'].apply(lambda x: len(x))\n",
    "# X_scalednums = scaler.fit_transform(df[['numcomments','score','pos','neu','neg']])\n",
    "\n",
    "\n",
    "# X_scalednums2 = scaler2.fit_transform(df[['pos','neu','neg']])\n",
    "\n",
    "# X_scalednums2 = scaler2.fit_transform(df[['neu']])\n",
    "# X_scalednums2 = scaler.fit_transform(X_scalednums2)\n",
    "\n",
    "dfx = pd.DataFrame(X.toarray())\n",
    "# df2 = pd.DataFrame(X_scalednums)\n",
    "# df3 = pd.DataFrame(X_scalednums2)\n",
    "\n",
    "\n",
    "newDf = pd.concat([dfx], axis = 1)\n",
    "\n",
    "X_train, X_test, y_train, y_test = train_test_split(dfx, df['pol'], random_state = 0)\n",
    "model = MultinomialNB()\n",
    "model.fit(X_train, y_train)\n",
    "y_pred = model.predict(X_train)\n",
    "\n",
    "clf_report = classification_report(y_train, y_pred)\n",
    "print('Classification report on train data')\n",
    "print(clf_report)"
   ]
  },
  {
   "cell_type": "code",
   "execution_count": 17,
   "id": "b8e2ac44",
   "metadata": {},
   "outputs": [],
   "source": [
    "# Build a ColumnTransformer with FeatureUnion\n",
    "numerical = ['score','numcomments', 'neg', 'neu', 'pos']\n",
    "\n",
    "text = ['no_punctuation_no_stopwords']"
   ]
  },
  {
   "cell_type": "code",
   "execution_count": 20,
   "id": "b7e8e74a",
   "metadata": {},
   "outputs": [
    {
     "name": "stdout",
     "output_type": "stream",
     "text": [
      "Classification report on train data with only TFIDF title as feature\n",
      "CV accuracy scores: [0.72821577 0.73547718 0.73236515 0.70850622 0.74170124 0.74273859\n",
      " 0.72821577 0.74585062 0.73029046 0.72406639]\n",
      "CV accuracy: 0.732 +/- 0.010\n",
      "              precision    recall  f1-score   support\n",
      "\n",
      "           0       0.96      0.54      0.69      3395\n",
      "           1       0.80      0.99      0.88      6245\n",
      "\n",
      "    accuracy                           0.83      9640\n",
      "   macro avg       0.88      0.77      0.79      9640\n",
      "weighted avg       0.86      0.83      0.82      9640\n",
      "\n"
     ]
    }
   ],
   "source": [
    "X_train, X_test, y_train, y_test = train_test_split(df['lematized'], df['pol'], random_state = 0)\n",
    "model = make_pipeline(TfidfVectorizer(),MultinomialNB())\n",
    "model.fit(X_train,y_train)\n",
    "y_pred = model.predict(X_train)\n",
    "\n",
    "clf_report = classification_report(y_train, y_pred)\n",
    "scores = cross_val_score(model, X=X_train, y=y_train, cv=10, n_jobs=1)\n",
    "print('Classification report on train data with only TFIDF title as feature')\n",
    "print('CV accuracy scores: %s' % scores)\n",
    "print('CV accuracy: %.3f +/- %.3f' % (np.mean(scores),np.std(scores)))\n",
    "print(clf_report)"
   ]
  },
  {
   "cell_type": "code",
   "execution_count": 16,
   "id": "91c7d9a9",
   "metadata": {},
   "outputs": [],
   "source": [
    "# words_stemmed = nltk.word_tokenize(df['stemmed'])\n",
    "# words_lematized = nltk.word_tokenize(df['lematized'])\n",
    "\n",
    "# All unigrams stemmed\n",
    "all_unigrams_stemm = get_top_n_gram(df['stemmed'], (1,1))\n",
    "all_unigrams_stemm_df = pd.DataFrame(all_unigrams_stemm, columns= ['Unigram', 'Count'])\n",
    "total_num_unigrams_stemm = 0\n",
    "for uni in all_unigrams_stemm:\n",
    "    total_num_unigrams_stemm += uni[1]\n",
    "\n",
    "\n",
    "# All bigrams stemmed\n",
    "all_bigrams_stemm = get_top_n_gram(df['stemmed'], (2,2))\n",
    "all_bigrams_stemm_df = pd.DataFrame(all_bigrams_stemm, columns= ['Bigram', 'Count'])\n",
    "total_num_bigrams_stemm = 0\n",
    "for bi in all_bigrams_stemm:\n",
    "    total_num_bigrams_stemm += bi[1]\n",
    "# total_num_bigrams_stemmed = all_bigrams_stemmed[1].apply(sum())\n",
    "\n",
    "# All trigrams stemmed\n",
    "all_trigrams_stemm = get_top_n_gram(df['stemmed'], (3,3))\n",
    "all_trigrams_stemm_df = pd.DataFrame(all_trigrams_stemm, columns= ['Trigram', 'Count'])\n",
    "total_num_trigrams_stemm = 0\n",
    "for tri in all_trigrams_stemm:\n",
    "    total_num_trigrams_stemm += tri[1]\n",
    "\n",
    "# All bigrams lematized\n",
    "all_bigrams_lema = get_top_n_gram(df['lematized'], (2,2))\n",
    "all_bigrams_lema_df = pd.DataFrame(all_bigrams_lema, columns= ['Bigram', 'Count'])\n",
    "total_num_bigrams_lema = 0\n",
    "for bi in all_bigrams_lema:\n",
    "    total_num_bigrams_lema += bi[1]\n",
    "\n",
    "# All trigrams lematized\n",
    "all_trigrams_lema = get_top_n_gram(df['lematized'], (3,3))\n",
    "all_trigrams_lema_df = pd.DataFrame(all_trigrams_lema, columns= ['Trigram', 'Count'])\n",
    "total_num_trigrams_lema = 0\n",
    "for tri in all_trigrams_lema:\n",
    "    total_num_trigrams_lema += tri[1]\n",
    "\n",
    "    \n",
    "# Top 300 Conservative unigrams stemmed\n",
    "all_con_unigrams_stemm = get_top_n_gram(df[df['politicallean'] == \"Conservative\"]['stemmed'],(1,1), 100)\n",
    "all_con_unigrams_stemm_df = pd.DataFrame(all_con_unigrams_stemm, columns= ['Unigram', 'Count'])\n",
    "total_num_con_unigrams_stemm = 0\n",
    "for uni in all_con_unigrams_stemm:\n",
    "    total_num_con_unigrams_stemm += uni[1]      \n",
    "    \n",
    "    \n",
    "# Top 300 Conservative bigrams stemmed\n",
    "all_con_bigrams_stemm = get_top_n_gram(df[df['politicallean'] == \"Conservative\"]['stemmed'],(2,2), 100)\n",
    "all_con_bigrams_stemm_df = pd.DataFrame(all_con_bigrams_stemm, columns= ['Bigram', 'Count'])\n",
    "total_num_con_bigrams_stemm = 0\n",
    "for bi in all_con_bigrams_stemm:\n",
    "    total_num_con_bigrams_stemm += bi[1]\n",
    "    \n",
    "# Top 300 Conservative trigrams stemmed\n",
    "all_con_trigrams_stemm = get_top_n_gram(df[df['politicallean'] == \"Conservative\"]['stemmed'],(3,3), 100)\n",
    "all_con_trigrams_stemm_df = pd.DataFrame(all_con_trigrams_stemm, columns= ['Trigram', 'Count'])\n",
    "total_num_con_trigrams_stemm = 0\n",
    "for tri in all_con_trigrams_stemm:\n",
    "    total_num_con_trigrams_stemm += tri[1]\n",
    "\n",
    "# Top 300 liberal unigrams stemmed\n",
    "all_lib_unigrams_stemm = get_top_n_gram(df[df['politicallean'] == \"Liberal\"]['stemmed'],(1,1), 100)\n",
    "all_lib_unigrams_stemm_df = pd.DataFrame(all_lib_unigrams_stemm, columns= ['Unigram', 'Count'])\n",
    "total_num_lib_unigrams_stemm = 0\n",
    "for uni in all_lib_unigrams_stemm:\n",
    "    total_num_lib_unigrams_stemm += uni[1]    \n",
    "    \n",
    "# Top 300 liberal bigrams stemmed\n",
    "all_lib_bigrams_stemm = get_top_n_gram(df[df['politicallean'] == \"Liberal\"]['stemmed'],(2,2), 100)\n",
    "all_lib_bigrams_stemm_df = pd.DataFrame(all_lib_bigrams_stemm, columns= ['Bigram', 'Count'])\n",
    "total_num_lib_bigrams_stemm = 0\n",
    "for bi in all_lib_bigrams_stemm:\n",
    "    total_num_lib_bigrams_stemm += bi[1]\n",
    "    \n",
    "# Top 300 Liberal trigrams stemmed\n",
    "all_lib_trigrams_stemm = get_top_n_gram(df[df['politicallean'] == \"Liberal\"]['stemmed'],(3,3), 100)\n",
    "all_lib_trigrams_stemm_df = pd.DataFrame(all_lib_trigrams_stemm, columns= ['Trigram', 'Count'])\n",
    "total_num_lib_trigrams_stemm = 0\n",
    "for tri in all_lib_trigrams_stemm:\n",
    "    total_num_lib_trigrams_stemm += tri[1]\n",
    "\n",
    "# # Top 10 conservative bigrams lematized\n",
    "# all_con_bigrams_lema = get_top_n_gram(df[df['politicallean'] == \"Conservative\"]['lematized'],(2,2), 10)\n",
    "# all_con_bigrams_lema_df = pd.DataFrame(all_con_bigrams_lema, columns= ['Bigram', 'Count'])\n",
    "# total_num_con_bigrams_lema = 0\n",
    "# for bi in all_con_bigrams_lema:\n",
    "#     total_num_con_bigrams_lema += bi[1]\n",
    "    \n",
    "# # Top 10 liberal bigrams lematized\n",
    "# all_lib_bigrams_lema = get_top_n_gram(df[df['politicallean'] == \"Liberal\"]['lematized'],(2,2), 10)\n",
    "# all_lib_bigrams_lema_df = pd.DataFrame(all_lib_bigrams_lema, columns= ['Bigram', 'Count'])\n",
    "# total_num_lib_bigrams_lema = 0\n",
    "# for bi in all_lib_bigrams_lema:\n",
    "#     total_num_lib_bigrams_lema += bi[1]\n"
   ]
  },
  {
   "cell_type": "code",
   "execution_count": null,
   "id": "76e81e2d",
   "metadata": {},
   "outputs": [],
   "source": [
    "pca = PCA(n_components=2)\n",
    "principalComponents = pca.fit_transform(x)\n",
    "principalDf = pd.DataFrame(data = principalComponents\n",
    "             , columns = ['principal component 1', 'principal component 2'])"
   ]
  },
  {
   "cell_type": "code",
   "execution_count": 23,
   "id": "a81db122",
   "metadata": {},
   "outputs": [],
   "source": [
    "vectorizer =  TfidfVectorizer()\n",
    "vectorizer2 = CountVectorizer(ngram_range=(2,3), max_features = 100)\n",
    "X = vectorizer.fit_transform(df['lematized'])\n",
    "X2 = vectorizer2.fit_transform(df['lematized'])\n",
    "scaler = MinMaxScaler()\n",
    "scaler2 = StandardScaler()\n",
    "# transform data\n",
    "# df['originalLength'] = df['no_punctuation_no_stopwords'].apply(lambda x: len(x))\n",
    "X_scalednums = scaler.fit_transform(df[['numcomments','score']])\n",
    "X_scalednums2 = scaler2.fit_transform(df[['pos','neg']])\n",
    "X_scalednums2 = scaler.fit_transform(X_scalednums2)\n",
    "\n",
    "dfx = pd.DataFrame(X.toarray())\n",
    "dfx2 = pd.DataFrame(X2.toarray())\n",
    "df2 = pd.DataFrame(X_scalednums)\n",
    "df3 = pd.DataFrame(X_scalednums2)\n",
    "\n",
    "\n",
    "newDf = pd.concat([dfx,dfx2,df2,df3], axis = 1)\n",
    "\n",
    "\n",
    "\n",
    "\n",
    "# X_train, X_test, y_train, y_test = train_test_split(newDf, df['pol'], random_state = 0)\n",
    "# model = MultinomialNB()\n",
    "# model.fit(X_train, y_train)\n",
    "# y_pred = model.predict(X_train)\n",
    "\n",
    "# clf_report = classification_report(y_train, y_pred)\n"
   ]
  },
  {
   "cell_type": "code",
   "execution_count": 56,
   "id": "afff9c9d",
   "metadata": {},
   "outputs": [
    {
     "data": {
      "text/plain": [
       "Pipeline(steps=[('tf_idf', TfidfVectorizer()), ('ridge', RidgeClassifier())])"
      ]
     },
     "execution_count": 56,
     "metadata": {},
     "output_type": "execute_result"
    }
   ],
   "source": [
    "\n",
    "estimators = [(\"tf_idf\", TfidfVectorizer()),\n",
    "             (\"ridge\", linear_model.RidgeClassifier())]\n",
    "model = Pipeline(estimators)\n",
    "model.fit(df['lematized'],df['pol'])\n"
   ]
  },
  {
   "cell_type": "code",
   "execution_count": 83,
   "id": "a9bd8b70",
   "metadata": {},
   "outputs": [
    {
     "data": {
      "text/plain": [
       "{'ridge__alpha': 2,\n",
       " 'tf_idf__min_df': 1,\n",
       " 'tf_idf__ngram_range': (1, 2),\n",
       " 'tf_idf__stop_words': 'english'}"
      ]
     },
     "execution_count": 83,
     "metadata": {},
     "output_type": "execute_result"
    }
   ],
   "source": [
    "params = {\"ridge__alpha\":[1, 1.5, 2, 2.5, 3], #regularization param\n",
    "          \"tf_idf__min_df\": [1, 3, 10], #min count of words allowed\n",
    "          \"tf_idf__ngram_range\": [(1,1), (1,2), (1,3)], #1-grams, 2-grams, or 3-grams\n",
    "          \"tf_idf__stop_words\": [None, \"english\"]} #use stopwords or don't\n",
    "grid1 = GridSearchCV(estimator=model, param_grid = params, scoring = \"neg_mean_squared_error\")\n",
    "grid1.fit(df['no_punctuation'],df['pol'])\n",
    "grid1.best_params_"
   ]
  },
  {
   "cell_type": "code",
   "execution_count": 84,
   "id": "4e34b39f",
   "metadata": {},
   "outputs": [
    {
     "data": {
      "text/html": [
       "<div>\n",
       "<style scoped>\n",
       "    .dataframe tbody tr th:only-of-type {\n",
       "        vertical-align: middle;\n",
       "    }\n",
       "\n",
       "    .dataframe tbody tr th {\n",
       "        vertical-align: top;\n",
       "    }\n",
       "\n",
       "    .dataframe thead th {\n",
       "        text-align: right;\n",
       "    }\n",
       "</style>\n",
       "<table border=\"1\" class=\"dataframe\">\n",
       "  <thead>\n",
       "    <tr style=\"text-align: right;\">\n",
       "      <th></th>\n",
       "      <th>mean</th>\n",
       "    </tr>\n",
       "    <tr>\n",
       "      <th>param_ridge__alpha</th>\n",
       "      <th></th>\n",
       "    </tr>\n",
       "  </thead>\n",
       "  <tbody>\n",
       "    <tr>\n",
       "      <th>1.0</th>\n",
       "      <td>-0.298351</td>\n",
       "    </tr>\n",
       "    <tr>\n",
       "      <th>1.5</th>\n",
       "      <td>-0.295802</td>\n",
       "    </tr>\n",
       "    <tr>\n",
       "      <th>2.0</th>\n",
       "      <td>-0.294324</td>\n",
       "    </tr>\n",
       "    <tr>\n",
       "      <th>2.5</th>\n",
       "      <td>-0.293853</td>\n",
       "    </tr>\n",
       "    <tr>\n",
       "      <th>3.0</th>\n",
       "      <td>-0.294575</td>\n",
       "    </tr>\n",
       "  </tbody>\n",
       "</table>\n",
       "</div>"
      ],
      "text/plain": [
       "                        mean\n",
       "param_ridge__alpha          \n",
       "1.0                -0.298351\n",
       "1.5                -0.295802\n",
       "2.0                -0.294324\n",
       "2.5                -0.293853\n",
       "3.0                -0.294575"
      ]
     },
     "execution_count": 84,
     "metadata": {},
     "output_type": "execute_result"
    }
   ],
   "source": [
    "params = pd.DataFrame([i[0] for i in  grid1.cv_results_])\n",
    "results = pd.DataFrame( grid1.cv_results_)\n",
    "results = pd.concat([params, results], 1)\n",
    "results.head(3)\n",
    "results.groupby([\"param_ridge__alpha\"])[\"mean_test_score\"].aggregate([np.mean])"
   ]
  },
  {
   "cell_type": "code",
   "execution_count": 111,
   "id": "d13ab117",
   "metadata": {},
   "outputs": [
    {
     "data": {
      "text/html": [
       "<div>\n",
       "<style scoped>\n",
       "    .dataframe tbody tr th:only-of-type {\n",
       "        vertical-align: middle;\n",
       "    }\n",
       "\n",
       "    .dataframe tbody tr th {\n",
       "        vertical-align: top;\n",
       "    }\n",
       "\n",
       "    .dataframe thead th {\n",
       "        text-align: right;\n",
       "    }\n",
       "</style>\n",
       "<table border=\"1\" class=\"dataframe\">\n",
       "  <thead>\n",
       "    <tr style=\"text-align: right;\">\n",
       "      <th></th>\n",
       "      <th>names</th>\n",
       "      <th>coef</th>\n",
       "    </tr>\n",
       "  </thead>\n",
       "  <tbody>\n",
       "    <tr>\n",
       "      <th>86427</th>\n",
       "      <td>women</td>\n",
       "      <td>1.821142</td>\n",
       "    </tr>\n",
       "    <tr>\n",
       "      <th>86940</th>\n",
       "      <td>workers</td>\n",
       "      <td>1.408554</td>\n",
       "    </tr>\n",
       "    <tr>\n",
       "      <th>54477</th>\n",
       "      <td>opinion</td>\n",
       "      <td>1.261292</td>\n",
       "    </tr>\n",
       "    <tr>\n",
       "      <th>19832</th>\n",
       "      <td>cuba</td>\n",
       "      <td>1.198405</td>\n",
       "    </tr>\n",
       "    <tr>\n",
       "      <th>29900</th>\n",
       "      <td>feminist</td>\n",
       "      <td>1.180107</td>\n",
       "    </tr>\n",
       "    <tr>\n",
       "      <th>25167</th>\n",
       "      <td>dsa</td>\n",
       "      <td>1.115442</td>\n",
       "    </tr>\n",
       "    <tr>\n",
       "      <th>57787</th>\n",
       "      <td>plan</td>\n",
       "      <td>1.083380</td>\n",
       "    </tr>\n",
       "    <tr>\n",
       "      <th>72369</th>\n",
       "      <td>solidarity</td>\n",
       "      <td>1.003841</td>\n",
       "    </tr>\n",
       "    <tr>\n",
       "      <th>41208</th>\n",
       "      <td>jan</td>\n",
       "      <td>0.982875</td>\n",
       "    </tr>\n",
       "    <tr>\n",
       "      <th>26022</th>\n",
       "      <td>election</td>\n",
       "      <td>0.977928</td>\n",
       "    </tr>\n",
       "    <tr>\n",
       "      <th>29856</th>\n",
       "      <td>feminism</td>\n",
       "      <td>0.924440</td>\n",
       "    </tr>\n",
       "    <tr>\n",
       "      <th>29795</th>\n",
       "      <td>female</td>\n",
       "      <td>0.920471</td>\n",
       "    </tr>\n",
       "    <tr>\n",
       "      <th>21919</th>\n",
       "      <td>democratic</td>\n",
       "      <td>0.876867</td>\n",
       "    </tr>\n",
       "    <tr>\n",
       "      <th>18688</th>\n",
       "      <td>coup</td>\n",
       "      <td>0.860612</td>\n",
       "    </tr>\n",
       "    <tr>\n",
       "      <th>74698</th>\n",
       "      <td>strike</td>\n",
       "      <td>0.857727</td>\n",
       "    </tr>\n",
       "    <tr>\n",
       "      <th>21758</th>\n",
       "      <td>democracy</td>\n",
       "      <td>0.848975</td>\n",
       "    </tr>\n",
       "    <tr>\n",
       "      <th>4863</th>\n",
       "      <td>analysis</td>\n",
       "      <td>0.823519</td>\n",
       "    </tr>\n",
       "    <tr>\n",
       "      <th>70352</th>\n",
       "      <td>sexual</td>\n",
       "      <td>0.820075</td>\n",
       "    </tr>\n",
       "    <tr>\n",
       "      <th>13283</th>\n",
       "      <td>cases</td>\n",
       "      <td>0.810788</td>\n",
       "    </tr>\n",
       "    <tr>\n",
       "      <th>55991</th>\n",
       "      <td>party</td>\n",
       "      <td>0.807799</td>\n",
       "    </tr>\n",
       "    <tr>\n",
       "      <th>32984</th>\n",
       "      <td>georgia</td>\n",
       "      <td>0.799033</td>\n",
       "    </tr>\n",
       "    <tr>\n",
       "      <th>60575</th>\n",
       "      <td>progressive</td>\n",
       "      <td>0.797345</td>\n",
       "    </tr>\n",
       "    <tr>\n",
       "      <th>12905</th>\n",
       "      <td>capitol</td>\n",
       "      <td>0.795986</td>\n",
       "    </tr>\n",
       "    <tr>\n",
       "      <th>15319</th>\n",
       "      <td>class</td>\n",
       "      <td>0.794240</td>\n",
       "    </tr>\n",
       "    <tr>\n",
       "      <th>29173</th>\n",
       "      <td>farright</td>\n",
       "      <td>0.792090</td>\n",
       "    </tr>\n",
       "    <tr>\n",
       "      <th>18981</th>\n",
       "      <td>covid19</td>\n",
       "      <td>0.785092</td>\n",
       "    </tr>\n",
       "    <tr>\n",
       "      <th>62424</th>\n",
       "      <td>racist</td>\n",
       "      <td>0.777575</td>\n",
       "    </tr>\n",
       "    <tr>\n",
       "      <th>39605</th>\n",
       "      <td>infrastructure</td>\n",
       "      <td>0.768473</td>\n",
       "    </tr>\n",
       "    <tr>\n",
       "      <th>79414</th>\n",
       "      <td>trans</td>\n",
       "      <td>0.730992</td>\n",
       "    </tr>\n",
       "    <tr>\n",
       "      <th>20706</th>\n",
       "      <td>deal</td>\n",
       "      <td>0.719417</td>\n",
       "    </tr>\n",
       "  </tbody>\n",
       "</table>\n",
       "</div>"
      ],
      "text/plain": [
       "                names      coef\n",
       "86427           women  1.821142\n",
       "86940         workers  1.408554\n",
       "54477         opinion  1.261292\n",
       "19832            cuba  1.198405\n",
       "29900        feminist  1.180107\n",
       "25167             dsa  1.115442\n",
       "57787            plan  1.083380\n",
       "72369      solidarity  1.003841\n",
       "41208             jan  0.982875\n",
       "26022        election  0.977928\n",
       "29856        feminism  0.924440\n",
       "29795          female  0.920471\n",
       "21919      democratic  0.876867\n",
       "18688            coup  0.860612\n",
       "74698          strike  0.857727\n",
       "21758       democracy  0.848975\n",
       "4863         analysis  0.823519\n",
       "70352          sexual  0.820075\n",
       "13283           cases  0.810788\n",
       "55991           party  0.807799\n",
       "32984         georgia  0.799033\n",
       "60575     progressive  0.797345\n",
       "12905         capitol  0.795986\n",
       "15319           class  0.794240\n",
       "29173        farright  0.792090\n",
       "18981         covid19  0.785092\n",
       "62424          racist  0.777575\n",
       "39605  infrastructure  0.768473\n",
       "79414           trans  0.730992\n",
       "20706            deal  0.719417"
      ]
     },
     "execution_count": 111,
     "metadata": {},
     "output_type": "execute_result"
    }
   ],
   "source": [
    "#Examining the Best Model:\n",
    "\n",
    "model = grid1.best_estimator_\n",
    "\n",
    "\n",
    "ridge_model = model.named_steps[\"ridge\"]\n",
    "tf_idf_model = model.named_steps[\"tf_idf\"]\n",
    "\n",
    "#,\"coef\":ridge_model.coef_\n",
    "model.predict(df['no_punctuation'])\n",
    "coefficients = pd.DataFrame({\"names\":tf_idf_model.get_feature_names(), \"coef\": ridge_model.coef_[0]})\n",
    "\n",
    "\n",
    "coefficients.sort_values(\"coef\", ascending=False).head(30)\n"
   ]
  },
  {
   "cell_type": "code",
   "execution_count": 89,
   "id": "b1c2b0a1",
   "metadata": {},
   "outputs": [
    {
     "data": {
      "text/plain": [
       "array([[0.16155789, 0.03799029, 0.13056396, ..., 0.10011758, 0.03022519,\n",
       "        0.03022519]])"
      ]
     },
     "execution_count": 89,
     "metadata": {},
     "output_type": "execute_result"
    }
   ],
   "source": [
    "grid1.best_estimator_.named_steps[\"ridge\"].coef_\n",
    "ridge_model = model.named_steps[\"ridge\"]\n",
    "tf_idf_model = model.named_steps[\"tf_idf\"]"
   ]
  },
  {
   "cell_type": "code",
   "execution_count": 85,
   "id": "da18c21d",
   "metadata": {},
   "outputs": [
    {
     "data": {
      "text/plain": [
       "{'ridge__alpha': 2,\n",
       " 'tf_idf__min_df': 1,\n",
       " 'tf_idf__ngram_range': (1, 2),\n",
       " 'tf_idf__stop_words': None,\n",
       " 'tf_idf__use_idf': True}"
      ]
     },
     "execution_count": 85,
     "metadata": {},
     "output_type": "execute_result"
    }
   ],
   "source": [
    "params = {\"ridge__alpha\":[1, 1.5, 2, 2.5, 3], #regularization param\n",
    "          \"tf_idf__min_df\": [1, 3, 10], #min count of words allowed\n",
    "          \"tf_idf__ngram_range\": [(1,1), (1,2), (1,3)], #1-grams, 2-grams, or 3-grams\n",
    "          \"tf_idf__stop_words\": [None],\n",
    "         \"tf_idf__use_idf\":[True, False]} # tfidf or don't\n",
    "# use neg mean squared error becuse mse is maximized\n",
    "grid2 = GridSearchCV(estimator=model, param_grid = params, scoring = \"neg_mean_squared_error\")\n",
    "grid2.fit(df['lematized'],df['pol'])\n",
    "grid2.best_params_"
   ]
  },
  {
   "cell_type": "code",
   "execution_count": 86,
   "id": "093b70c5",
   "metadata": {},
   "outputs": [
    {
     "data": {
      "text/html": [
       "<div>\n",
       "<style scoped>\n",
       "    .dataframe tbody tr th:only-of-type {\n",
       "        vertical-align: middle;\n",
       "    }\n",
       "\n",
       "    .dataframe tbody tr th {\n",
       "        vertical-align: top;\n",
       "    }\n",
       "\n",
       "    .dataframe thead th {\n",
       "        text-align: right;\n",
       "    }\n",
       "</style>\n",
       "<table border=\"1\" class=\"dataframe\">\n",
       "  <thead>\n",
       "    <tr style=\"text-align: right;\">\n",
       "      <th></th>\n",
       "      <th>mean</th>\n",
       "    </tr>\n",
       "    <tr>\n",
       "      <th>param_ridge__alpha</th>\n",
       "      <th></th>\n",
       "    </tr>\n",
       "  </thead>\n",
       "  <tbody>\n",
       "    <tr>\n",
       "      <th>1.0</th>\n",
       "      <td>-0.299255</td>\n",
       "    </tr>\n",
       "    <tr>\n",
       "      <th>1.5</th>\n",
       "      <td>-0.296497</td>\n",
       "    </tr>\n",
       "    <tr>\n",
       "      <th>2.0</th>\n",
       "      <td>-0.294764</td>\n",
       "    </tr>\n",
       "    <tr>\n",
       "      <th>2.5</th>\n",
       "      <td>-0.294332</td>\n",
       "    </tr>\n",
       "    <tr>\n",
       "      <th>3.0</th>\n",
       "      <td>-0.294121</td>\n",
       "    </tr>\n",
       "  </tbody>\n",
       "</table>\n",
       "</div>"
      ],
      "text/plain": [
       "                        mean\n",
       "param_ridge__alpha          \n",
       "1.0                -0.299255\n",
       "1.5                -0.296497\n",
       "2.0                -0.294764\n",
       "2.5                -0.294332\n",
       "3.0                -0.294121"
      ]
     },
     "execution_count": 86,
     "metadata": {},
     "output_type": "execute_result"
    }
   ],
   "source": [
    "params = pd.DataFrame([i[0] for i in  grid2.cv_results_])\n",
    "results = pd.DataFrame( grid2.cv_results_)\n",
    "results = pd.concat([params, results], 1)\n",
    "results.head(3)\n",
    "results.groupby([\"param_ridge__alpha\"])[\"mean_test_score\"].aggregate([np.mean])"
   ]
  },
  {
   "cell_type": "code",
   "execution_count": 112,
   "id": "de0d8be0",
   "metadata": {},
   "outputs": [
    {
     "data": {
      "text/html": [
       "<div>\n",
       "<style scoped>\n",
       "    .dataframe tbody tr th:only-of-type {\n",
       "        vertical-align: middle;\n",
       "    }\n",
       "\n",
       "    .dataframe tbody tr th {\n",
       "        vertical-align: top;\n",
       "    }\n",
       "\n",
       "    .dataframe thead th {\n",
       "        text-align: right;\n",
       "    }\n",
       "</style>\n",
       "<table border=\"1\" class=\"dataframe\">\n",
       "  <thead>\n",
       "    <tr style=\"text-align: right;\">\n",
       "      <th></th>\n",
       "      <th>names</th>\n",
       "      <th>coef</th>\n",
       "    </tr>\n",
       "  </thead>\n",
       "  <tbody>\n",
       "    <tr>\n",
       "      <th>86940</th>\n",
       "      <td>woman</td>\n",
       "      <td>1.688140</td>\n",
       "    </tr>\n",
       "    <tr>\n",
       "      <th>87421</th>\n",
       "      <td>worker</td>\n",
       "      <td>1.482456</td>\n",
       "    </tr>\n",
       "    <tr>\n",
       "      <th>30005</th>\n",
       "      <td>feminist</td>\n",
       "      <td>1.394371</td>\n",
       "    </tr>\n",
       "    <tr>\n",
       "      <th>55136</th>\n",
       "      <td>opinion</td>\n",
       "      <td>1.196362</td>\n",
       "    </tr>\n",
       "    <tr>\n",
       "      <th>20172</th>\n",
       "      <td>cuba</td>\n",
       "      <td>1.186560</td>\n",
       "    </tr>\n",
       "    <tr>\n",
       "      <th>25055</th>\n",
       "      <td>dsa</td>\n",
       "      <td>1.107344</td>\n",
       "    </tr>\n",
       "    <tr>\n",
       "      <th>25957</th>\n",
       "      <td>election</td>\n",
       "      <td>1.047140</td>\n",
       "    </tr>\n",
       "    <tr>\n",
       "      <th>72821</th>\n",
       "      <td>solidarity</td>\n",
       "      <td>0.974843</td>\n",
       "    </tr>\n",
       "    <tr>\n",
       "      <th>41579</th>\n",
       "      <td>jan</td>\n",
       "      <td>0.949329</td>\n",
       "    </tr>\n",
       "    <tr>\n",
       "      <th>75217</th>\n",
       "      <td>strike</td>\n",
       "      <td>0.927074</td>\n",
       "    </tr>\n",
       "    <tr>\n",
       "      <th>22054</th>\n",
       "      <td>democracy</td>\n",
       "      <td>0.918703</td>\n",
       "    </tr>\n",
       "    <tr>\n",
       "      <th>29901</th>\n",
       "      <td>female</td>\n",
       "      <td>0.916116</td>\n",
       "    </tr>\n",
       "    <tr>\n",
       "      <th>29962</th>\n",
       "      <td>feminism</td>\n",
       "      <td>0.885868</td>\n",
       "    </tr>\n",
       "    <tr>\n",
       "      <th>19063</th>\n",
       "      <td>coup</td>\n",
       "      <td>0.880470</td>\n",
       "    </tr>\n",
       "    <tr>\n",
       "      <th>22435</th>\n",
       "      <td>democratic</td>\n",
       "      <td>0.853802</td>\n",
       "    </tr>\n",
       "    <tr>\n",
       "      <th>56675</th>\n",
       "      <td>party</td>\n",
       "      <td>0.848056</td>\n",
       "    </tr>\n",
       "    <tr>\n",
       "      <th>13382</th>\n",
       "      <td>capitol</td>\n",
       "      <td>0.832124</td>\n",
       "    </tr>\n",
       "    <tr>\n",
       "      <th>15707</th>\n",
       "      <td>class</td>\n",
       "      <td>0.827060</td>\n",
       "    </tr>\n",
       "    <tr>\n",
       "      <th>19341</th>\n",
       "      <td>covid19</td>\n",
       "      <td>0.823801</td>\n",
       "    </tr>\n",
       "    <tr>\n",
       "      <th>70751</th>\n",
       "      <td>sexual</td>\n",
       "      <td>0.814315</td>\n",
       "    </tr>\n",
       "    <tr>\n",
       "      <th>29310</th>\n",
       "      <td>farright</td>\n",
       "      <td>0.807327</td>\n",
       "    </tr>\n",
       "    <tr>\n",
       "      <th>40053</th>\n",
       "      <td>infrastructure</td>\n",
       "      <td>0.796498</td>\n",
       "    </tr>\n",
       "    <tr>\n",
       "      <th>58431</th>\n",
       "      <td>plan</td>\n",
       "      <td>0.793857</td>\n",
       "    </tr>\n",
       "    <tr>\n",
       "      <th>16838</th>\n",
       "      <td>communist</td>\n",
       "      <td>0.791338</td>\n",
       "    </tr>\n",
       "    <tr>\n",
       "      <th>33381</th>\n",
       "      <td>georgia</td>\n",
       "      <td>0.789269</td>\n",
       "    </tr>\n",
       "    <tr>\n",
       "      <th>4978</th>\n",
       "      <td>analysis</td>\n",
       "      <td>0.783517</td>\n",
       "    </tr>\n",
       "    <tr>\n",
       "      <th>51384</th>\n",
       "      <td>movement</td>\n",
       "      <td>0.776756</td>\n",
       "    </tr>\n",
       "    <tr>\n",
       "      <th>62965</th>\n",
       "      <td>racist</td>\n",
       "      <td>0.776193</td>\n",
       "    </tr>\n",
       "    <tr>\n",
       "      <th>17305</th>\n",
       "      <td>comrade</td>\n",
       "      <td>0.753302</td>\n",
       "    </tr>\n",
       "    <tr>\n",
       "      <th>33827</th>\n",
       "      <td>girl</td>\n",
       "      <td>0.746715</td>\n",
       "    </tr>\n",
       "  </tbody>\n",
       "</table>\n",
       "</div>"
      ],
      "text/plain": [
       "                names      coef\n",
       "86940           woman  1.688140\n",
       "87421          worker  1.482456\n",
       "30005        feminist  1.394371\n",
       "55136         opinion  1.196362\n",
       "20172            cuba  1.186560\n",
       "25055             dsa  1.107344\n",
       "25957        election  1.047140\n",
       "72821      solidarity  0.974843\n",
       "41579             jan  0.949329\n",
       "75217          strike  0.927074\n",
       "22054       democracy  0.918703\n",
       "29901          female  0.916116\n",
       "29962        feminism  0.885868\n",
       "19063            coup  0.880470\n",
       "22435      democratic  0.853802\n",
       "56675           party  0.848056\n",
       "13382         capitol  0.832124\n",
       "15707           class  0.827060\n",
       "19341         covid19  0.823801\n",
       "70751          sexual  0.814315\n",
       "29310        farright  0.807327\n",
       "40053  infrastructure  0.796498\n",
       "58431            plan  0.793857\n",
       "16838       communist  0.791338\n",
       "33381         georgia  0.789269\n",
       "4978         analysis  0.783517\n",
       "51384        movement  0.776756\n",
       "62965          racist  0.776193\n",
       "17305         comrade  0.753302\n",
       "33827            girl  0.746715"
      ]
     },
     "execution_count": 112,
     "metadata": {},
     "output_type": "execute_result"
    }
   ],
   "source": [
    "#Examining the Best Model:\n",
    "\n",
    "model = grid2.best_estimator_\n",
    "\n",
    "\n",
    "ridge_model = model.named_steps[\"ridge\"]\n",
    "tf_idf_model = model.named_steps[\"tf_idf\"]\n",
    "\n",
    "#,\"coef\":ridge_model.coef_\n",
    "model.predict(df['no_punctuation'])\n",
    "coefficients = pd.DataFrame({\"names\":tf_idf_model.get_feature_names(), \"coef\": ridge_model.coef_[0]})\n",
    "\n",
    "\n",
    "coefficients.sort_values(\"coef\", ascending=False).head(30)"
   ]
  },
  {
   "cell_type": "code",
   "execution_count": 28,
   "id": "77ee3b5c",
   "metadata": {},
   "outputs": [
    {
     "name": "stdout",
     "output_type": "stream",
     "text": [
      "Fitting 5 folds for each of 99 candidates, totalling 495 fits\n",
      "[CV 1/5] END .................model__alpha=0.1;, score=-0.232 total time=   1.7s\n",
      "[CV 2/5] END .................model__alpha=0.1;, score=-0.225 total time=   1.8s\n",
      "[CV 3/5] END .................model__alpha=0.1;, score=-0.232 total time=   1.8s\n",
      "[CV 4/5] END .................model__alpha=0.1;, score=-0.225 total time=   1.8s\n",
      "[CV 5/5] END .................model__alpha=0.1;, score=-0.227 total time=   1.8s\n",
      "[CV 1/5] END .................model__alpha=0.2;, score=-0.232 total time=   1.8s\n",
      "[CV 2/5] END .................model__alpha=0.2;, score=-0.225 total time=   1.8s\n",
      "[CV 3/5] END .................model__alpha=0.2;, score=-0.232 total time=   1.8s\n",
      "[CV 4/5] END .................model__alpha=0.2;, score=-0.225 total time=   1.8s\n",
      "[CV 5/5] END .................model__alpha=0.2;, score=-0.227 total time=   1.8s\n",
      "[CV 1/5] END .model__alpha=0.30000000000000004;, score=-0.232 total time=   1.8s\n",
      "[CV 2/5] END .model__alpha=0.30000000000000004;, score=-0.225 total time=   1.7s\n",
      "[CV 3/5] END .model__alpha=0.30000000000000004;, score=-0.232 total time=   1.8s\n",
      "[CV 4/5] END .model__alpha=0.30000000000000004;, score=-0.225 total time=   1.8s\n",
      "[CV 5/5] END .model__alpha=0.30000000000000004;, score=-0.227 total time=   1.8s\n",
      "[CV 1/5] END .................model__alpha=0.4;, score=-0.232 total time=   1.8s\n",
      "[CV 2/5] END .................model__alpha=0.4;, score=-0.225 total time=   1.8s\n",
      "[CV 3/5] END .................model__alpha=0.4;, score=-0.232 total time=   1.8s\n",
      "[CV 4/5] END .................model__alpha=0.4;, score=-0.225 total time=   1.8s\n",
      "[CV 5/5] END .................model__alpha=0.4;, score=-0.227 total time=   1.8s\n",
      "[CV 1/5] END .................model__alpha=0.5;, score=-0.232 total time=   1.8s\n",
      "[CV 2/5] END .................model__alpha=0.5;, score=-0.225 total time=   1.8s\n",
      "[CV 3/5] END .................model__alpha=0.5;, score=-0.232 total time=   1.8s\n",
      "[CV 4/5] END .................model__alpha=0.5;, score=-0.225 total time=   1.9s\n",
      "[CV 5/5] END .................model__alpha=0.5;, score=-0.227 total time=   1.8s\n",
      "[CV 1/5] END .................model__alpha=0.6;, score=-0.232 total time=   1.8s\n",
      "[CV 2/5] END .................model__alpha=0.6;, score=-0.225 total time=   1.8s\n",
      "[CV 3/5] END .................model__alpha=0.6;, score=-0.232 total time=   1.7s\n",
      "[CV 4/5] END .................model__alpha=0.6;, score=-0.225 total time=   1.8s\n",
      "[CV 5/5] END .................model__alpha=0.6;, score=-0.227 total time=   1.8s\n",
      "[CV 1/5] END ..model__alpha=0.7000000000000001;, score=-0.232 total time=   1.8s\n",
      "[CV 2/5] END ..model__alpha=0.7000000000000001;, score=-0.225 total time=   1.9s\n",
      "[CV 3/5] END ..model__alpha=0.7000000000000001;, score=-0.232 total time=   2.0s\n",
      "[CV 4/5] END ..model__alpha=0.7000000000000001;, score=-0.225 total time=   2.0s\n",
      "[CV 5/5] END ..model__alpha=0.7000000000000001;, score=-0.227 total time=   1.8s\n",
      "[CV 1/5] END .................model__alpha=0.8;, score=-0.232 total time=   1.9s\n",
      "[CV 2/5] END .................model__alpha=0.8;, score=-0.225 total time=   1.8s\n",
      "[CV 3/5] END .................model__alpha=0.8;, score=-0.232 total time=   1.8s\n",
      "[CV 4/5] END .................model__alpha=0.8;, score=-0.225 total time=   1.8s\n",
      "[CV 5/5] END .................model__alpha=0.8;, score=-0.227 total time=   1.8s\n",
      "[CV 1/5] END .................model__alpha=0.9;, score=-0.232 total time=   1.8s\n",
      "[CV 2/5] END .................model__alpha=0.9;, score=-0.225 total time=   1.8s\n",
      "[CV 3/5] END .................model__alpha=0.9;, score=-0.232 total time=   1.8s\n",
      "[CV 4/5] END .................model__alpha=0.9;, score=-0.225 total time=   1.9s\n",
      "[CV 5/5] END .................model__alpha=0.9;, score=-0.227 total time=   1.8s\n",
      "[CV 1/5] END .................model__alpha=1.0;, score=-0.232 total time=   1.8s\n",
      "[CV 2/5] END .................model__alpha=1.0;, score=-0.225 total time=   1.8s\n",
      "[CV 3/5] END .................model__alpha=1.0;, score=-0.232 total time=   1.8s\n",
      "[CV 4/5] END .................model__alpha=1.0;, score=-0.225 total time=   1.9s\n",
      "[CV 5/5] END .................model__alpha=1.0;, score=-0.227 total time=   1.8s\n",
      "[CV 1/5] END .................model__alpha=1.1;, score=-0.232 total time=   1.8s\n",
      "[CV 2/5] END .................model__alpha=1.1;, score=-0.225 total time=   1.8s\n",
      "[CV 3/5] END .................model__alpha=1.1;, score=-0.232 total time=   1.9s\n",
      "[CV 4/5] END .................model__alpha=1.1;, score=-0.225 total time=   1.9s\n",
      "[CV 5/5] END .................model__alpha=1.1;, score=-0.227 total time=   1.8s\n",
      "[CV 1/5] END ..model__alpha=1.2000000000000002;, score=-0.232 total time=   1.9s\n",
      "[CV 2/5] END ..model__alpha=1.2000000000000002;, score=-0.225 total time=   1.8s\n",
      "[CV 3/5] END ..model__alpha=1.2000000000000002;, score=-0.232 total time=   1.9s\n",
      "[CV 4/5] END ..model__alpha=1.2000000000000002;, score=-0.225 total time=   1.8s\n",
      "[CV 5/5] END ..model__alpha=1.2000000000000002;, score=-0.227 total time=   1.8s\n",
      "[CV 1/5] END ..model__alpha=1.3000000000000003;, score=-0.232 total time=   1.9s\n",
      "[CV 2/5] END ..model__alpha=1.3000000000000003;, score=-0.225 total time=   1.8s\n",
      "[CV 3/5] END ..model__alpha=1.3000000000000003;, score=-0.232 total time=   1.9s\n",
      "[CV 4/5] END ..model__alpha=1.3000000000000003;, score=-0.225 total time=   1.8s\n",
      "[CV 5/5] END ..model__alpha=1.3000000000000003;, score=-0.227 total time=   1.8s\n",
      "[CV 1/5] END ..model__alpha=1.4000000000000001;, score=-0.232 total time=   1.9s\n",
      "[CV 2/5] END ..model__alpha=1.4000000000000001;, score=-0.225 total time=   1.8s\n",
      "[CV 3/5] END ..model__alpha=1.4000000000000001;, score=-0.232 total time=   1.9s\n",
      "[CV 4/5] END ..model__alpha=1.4000000000000001;, score=-0.225 total time=   1.9s\n",
      "[CV 5/5] END ..model__alpha=1.4000000000000001;, score=-0.227 total time=   1.8s\n",
      "[CV 1/5] END ..model__alpha=1.5000000000000002;, score=-0.232 total time=   1.8s\n",
      "[CV 2/5] END ..model__alpha=1.5000000000000002;, score=-0.225 total time=   1.8s\n",
      "[CV 3/5] END ..model__alpha=1.5000000000000002;, score=-0.232 total time=   1.9s\n",
      "[CV 4/5] END ..model__alpha=1.5000000000000002;, score=-0.225 total time=   1.9s\n",
      "[CV 5/5] END ..model__alpha=1.5000000000000002;, score=-0.227 total time=   1.9s\n",
      "[CV 1/5] END .................model__alpha=1.6;, score=-0.232 total time=   1.9s\n",
      "[CV 2/5] END .................model__alpha=1.6;, score=-0.225 total time=   1.8s\n",
      "[CV 3/5] END .................model__alpha=1.6;, score=-0.232 total time=   1.9s\n",
      "[CV 4/5] END .................model__alpha=1.6;, score=-0.225 total time=   1.8s\n",
      "[CV 5/5] END .................model__alpha=1.6;, score=-0.227 total time=   1.9s\n",
      "[CV 1/5] END ..model__alpha=1.7000000000000002;, score=-0.232 total time=   1.8s\n",
      "[CV 2/5] END ..model__alpha=1.7000000000000002;, score=-0.225 total time=   1.8s\n",
      "[CV 3/5] END ..model__alpha=1.7000000000000002;, score=-0.232 total time=   1.9s\n",
      "[CV 4/5] END ..model__alpha=1.7000000000000002;, score=-0.225 total time=   1.8s\n",
      "[CV 5/5] END ..model__alpha=1.7000000000000002;, score=-0.227 total time=   1.8s\n",
      "[CV 1/5] END ..model__alpha=1.8000000000000003;, score=-0.232 total time=   1.9s\n",
      "[CV 2/5] END ..model__alpha=1.8000000000000003;, score=-0.225 total time=   1.9s\n",
      "[CV 3/5] END ..model__alpha=1.8000000000000003;, score=-0.232 total time=   1.9s\n",
      "[CV 4/5] END ..model__alpha=1.8000000000000003;, score=-0.225 total time=   1.9s\n",
      "[CV 5/5] END ..model__alpha=1.8000000000000003;, score=-0.227 total time=   1.9s\n",
      "[CV 1/5] END ..model__alpha=1.9000000000000001;, score=-0.232 total time=   1.9s\n",
      "[CV 2/5] END ..model__alpha=1.9000000000000001;, score=-0.225 total time=   1.9s\n",
      "[CV 3/5] END ..model__alpha=1.9000000000000001;, score=-0.232 total time=   1.9s\n",
      "[CV 4/5] END ..model__alpha=1.9000000000000001;, score=-0.225 total time=   1.9s\n",
      "[CV 5/5] END ..model__alpha=1.9000000000000001;, score=-0.227 total time=   1.8s\n",
      "[CV 1/5] END .................model__alpha=2.0;, score=-0.232 total time=   1.8s\n",
      "[CV 2/5] END .................model__alpha=2.0;, score=-0.225 total time=   1.9s\n",
      "[CV 3/5] END .................model__alpha=2.0;, score=-0.232 total time=   1.9s\n",
      "[CV 4/5] END .................model__alpha=2.0;, score=-0.225 total time=   1.9s\n",
      "[CV 5/5] END .................model__alpha=2.0;, score=-0.227 total time=   1.9s\n",
      "[CV 1/5] END .................model__alpha=2.1;, score=-0.232 total time=   1.9s\n"
     ]
    },
    {
     "name": "stdout",
     "output_type": "stream",
     "text": [
      "[CV 2/5] END .................model__alpha=2.1;, score=-0.225 total time=   1.8s\n",
      "[CV 3/5] END .................model__alpha=2.1;, score=-0.232 total time=   1.9s\n",
      "[CV 4/5] END .................model__alpha=2.1;, score=-0.225 total time=   1.9s\n",
      "[CV 5/5] END .................model__alpha=2.1;, score=-0.227 total time=   1.8s\n",
      "[CV 1/5] END .................model__alpha=2.2;, score=-0.232 total time=   1.9s\n",
      "[CV 2/5] END .................model__alpha=2.2;, score=-0.225 total time=   1.8s\n",
      "[CV 3/5] END .................model__alpha=2.2;, score=-0.232 total time=   1.9s\n",
      "[CV 4/5] END .................model__alpha=2.2;, score=-0.225 total time=   1.9s\n",
      "[CV 5/5] END .................model__alpha=2.2;, score=-0.227 total time=   1.8s\n",
      "[CV 1/5] END ..model__alpha=2.3000000000000003;, score=-0.232 total time=   1.9s\n",
      "[CV 2/5] END ..model__alpha=2.3000000000000003;, score=-0.225 total time=   1.8s\n",
      "[CV 3/5] END ..model__alpha=2.3000000000000003;, score=-0.232 total time=   1.8s\n",
      "[CV 4/5] END ..model__alpha=2.3000000000000003;, score=-0.225 total time=   1.8s\n",
      "[CV 5/5] END ..model__alpha=2.3000000000000003;, score=-0.227 total time=   1.9s\n",
      "[CV 1/5] END ..model__alpha=2.4000000000000004;, score=-0.232 total time=   1.8s\n",
      "[CV 2/5] END ..model__alpha=2.4000000000000004;, score=-0.225 total time=   1.9s\n",
      "[CV 3/5] END ..model__alpha=2.4000000000000004;, score=-0.232 total time=   1.9s\n",
      "[CV 4/5] END ..model__alpha=2.4000000000000004;, score=-0.225 total time=   1.9s\n",
      "[CV 5/5] END ..model__alpha=2.4000000000000004;, score=-0.227 total time=   1.8s\n",
      "[CV 1/5] END ..model__alpha=2.5000000000000004;, score=-0.232 total time=   1.8s\n",
      "[CV 2/5] END ..model__alpha=2.5000000000000004;, score=-0.225 total time=   1.9s\n",
      "[CV 3/5] END ..model__alpha=2.5000000000000004;, score=-0.232 total time=   1.9s\n",
      "[CV 4/5] END ..model__alpha=2.5000000000000004;, score=-0.225 total time=   1.8s\n",
      "[CV 5/5] END ..model__alpha=2.5000000000000004;, score=-0.227 total time=   1.9s\n",
      "[CV 1/5] END .................model__alpha=2.6;, score=-0.232 total time=   1.9s\n",
      "[CV 2/5] END .................model__alpha=2.6;, score=-0.225 total time=   1.9s\n",
      "[CV 3/5] END .................model__alpha=2.6;, score=-0.232 total time=   1.9s\n",
      "[CV 4/5] END .................model__alpha=2.6;, score=-0.225 total time=   1.9s\n",
      "[CV 5/5] END .................model__alpha=2.6;, score=-0.227 total time=   1.8s\n",
      "[CV 1/5] END .................model__alpha=2.7;, score=-0.232 total time=   1.9s\n",
      "[CV 2/5] END .................model__alpha=2.7;, score=-0.225 total time=   1.9s\n",
      "[CV 3/5] END .................model__alpha=2.7;, score=-0.232 total time=   1.8s\n",
      "[CV 4/5] END .................model__alpha=2.7;, score=-0.225 total time=   1.8s\n",
      "[CV 5/5] END .................model__alpha=2.7;, score=-0.227 total time=   1.9s\n",
      "[CV 1/5] END ..model__alpha=2.8000000000000003;, score=-0.232 total time=   1.9s\n",
      "[CV 2/5] END ..model__alpha=2.8000000000000003;, score=-0.225 total time=   1.9s\n",
      "[CV 3/5] END ..model__alpha=2.8000000000000003;, score=-0.232 total time=   1.8s\n",
      "[CV 4/5] END ..model__alpha=2.8000000000000003;, score=-0.225 total time=   1.9s\n",
      "[CV 5/5] END ..model__alpha=2.8000000000000003;, score=-0.227 total time=   1.8s\n",
      "[CV 1/5] END ..model__alpha=2.9000000000000004;, score=-0.232 total time=   1.8s\n",
      "[CV 2/5] END ..model__alpha=2.9000000000000004;, score=-0.225 total time=   1.8s\n",
      "[CV 3/5] END ..model__alpha=2.9000000000000004;, score=-0.232 total time=   1.9s\n",
      "[CV 4/5] END ..model__alpha=2.9000000000000004;, score=-0.225 total time=   1.9s\n",
      "[CV 5/5] END ..model__alpha=2.9000000000000004;, score=-0.227 total time=   1.9s\n",
      "[CV 1/5] END ..model__alpha=3.0000000000000004;, score=-0.232 total time=   1.9s\n",
      "[CV 2/5] END ..model__alpha=3.0000000000000004;, score=-0.225 total time=   1.8s\n",
      "[CV 3/5] END ..model__alpha=3.0000000000000004;, score=-0.232 total time=   1.9s\n",
      "[CV 4/5] END ..model__alpha=3.0000000000000004;, score=-0.225 total time=   1.8s\n",
      "[CV 5/5] END ..model__alpha=3.0000000000000004;, score=-0.227 total time=   1.8s\n",
      "[CV 1/5] END .................model__alpha=3.1;, score=-0.232 total time=   1.9s\n",
      "[CV 2/5] END .................model__alpha=3.1;, score=-0.225 total time=   1.9s\n",
      "[CV 3/5] END .................model__alpha=3.1;, score=-0.232 total time=   1.9s\n",
      "[CV 4/5] END .................model__alpha=3.1;, score=-0.225 total time=   1.9s\n",
      "[CV 5/5] END .................model__alpha=3.1;, score=-0.227 total time=   1.9s\n",
      "[CV 1/5] END .................model__alpha=3.2;, score=-0.232 total time=   1.9s\n",
      "[CV 2/5] END .................model__alpha=3.2;, score=-0.225 total time=   1.8s\n",
      "[CV 3/5] END .................model__alpha=3.2;, score=-0.232 total time=   1.9s\n",
      "[CV 4/5] END .................model__alpha=3.2;, score=-0.225 total time=   1.8s\n",
      "[CV 5/5] END .................model__alpha=3.2;, score=-0.227 total time=   1.9s\n",
      "[CV 1/5] END ..model__alpha=3.3000000000000003;, score=-0.232 total time=   1.9s\n",
      "[CV 2/5] END ..model__alpha=3.3000000000000003;, score=-0.225 total time=   1.8s\n",
      "[CV 3/5] END ..model__alpha=3.3000000000000003;, score=-0.232 total time=   1.9s\n",
      "[CV 4/5] END ..model__alpha=3.3000000000000003;, score=-0.225 total time=   1.9s\n",
      "[CV 5/5] END ..model__alpha=3.3000000000000003;, score=-0.227 total time=   1.9s\n",
      "[CV 1/5] END ..model__alpha=3.4000000000000004;, score=-0.232 total time=   1.9s\n",
      "[CV 2/5] END ..model__alpha=3.4000000000000004;, score=-0.225 total time=   1.8s\n",
      "[CV 3/5] END ..model__alpha=3.4000000000000004;, score=-0.232 total time=   1.8s\n",
      "[CV 4/5] END ..model__alpha=3.4000000000000004;, score=-0.225 total time=   1.9s\n",
      "[CV 5/5] END ..model__alpha=3.4000000000000004;, score=-0.227 total time=   1.9s\n",
      "[CV 1/5] END ..model__alpha=3.5000000000000004;, score=-0.232 total time=   1.8s\n",
      "[CV 2/5] END ..model__alpha=3.5000000000000004;, score=-0.225 total time=   1.9s\n",
      "[CV 3/5] END ..model__alpha=3.5000000000000004;, score=-0.232 total time=   1.9s\n",
      "[CV 4/5] END ..model__alpha=3.5000000000000004;, score=-0.225 total time=   1.9s\n",
      "[CV 5/5] END ..model__alpha=3.5000000000000004;, score=-0.227 total time=   1.9s\n",
      "[CV 1/5] END .................model__alpha=3.6;, score=-0.232 total time=   1.9s\n",
      "[CV 2/5] END .................model__alpha=3.6;, score=-0.225 total time=   1.9s\n",
      "[CV 3/5] END .................model__alpha=3.6;, score=-0.232 total time=   1.9s\n",
      "[CV 4/5] END .................model__alpha=3.6;, score=-0.225 total time=   1.8s\n",
      "[CV 5/5] END .................model__alpha=3.6;, score=-0.227 total time=   1.9s\n",
      "[CV 1/5] END .................model__alpha=3.7;, score=-0.232 total time=   1.8s\n",
      "[CV 2/5] END .................model__alpha=3.7;, score=-0.225 total time=   1.9s\n",
      "[CV 3/5] END .................model__alpha=3.7;, score=-0.232 total time=   1.9s\n",
      "[CV 4/5] END .................model__alpha=3.7;, score=-0.225 total time=   1.9s\n",
      "[CV 5/5] END .................model__alpha=3.7;, score=-0.227 total time=   1.8s\n",
      "[CV 1/5] END ..model__alpha=3.8000000000000003;, score=-0.232 total time=   1.8s\n",
      "[CV 2/5] END ..model__alpha=3.8000000000000003;, score=-0.225 total time=   1.8s\n",
      "[CV 3/5] END ..model__alpha=3.8000000000000003;, score=-0.232 total time=   1.8s\n",
      "[CV 4/5] END ..model__alpha=3.8000000000000003;, score=-0.225 total time=   1.8s\n",
      "[CV 5/5] END ..model__alpha=3.8000000000000003;, score=-0.227 total time=   1.8s\n",
      "[CV 1/5] END ..model__alpha=3.9000000000000004;, score=-0.232 total time=   1.8s\n",
      "[CV 2/5] END ..model__alpha=3.9000000000000004;, score=-0.225 total time=   1.9s\n",
      "[CV 3/5] END ..model__alpha=3.9000000000000004;, score=-0.232 total time=   1.9s\n",
      "[CV 4/5] END ..model__alpha=3.9000000000000004;, score=-0.225 total time=   1.8s\n",
      "[CV 5/5] END ..model__alpha=3.9000000000000004;, score=-0.227 total time=   1.9s\n",
      "[CV 1/5] END .................model__alpha=4.0;, score=-0.232 total time=   1.8s\n",
      "[CV 2/5] END .................model__alpha=4.0;, score=-0.225 total time=   1.8s\n",
      "[CV 3/5] END .................model__alpha=4.0;, score=-0.232 total time=   1.8s\n",
      "[CV 4/5] END .................model__alpha=4.0;, score=-0.225 total time=   1.8s\n",
      "[CV 5/5] END .................model__alpha=4.0;, score=-0.227 total time=   1.8s\n",
      "[CV 1/5] END .................model__alpha=4.1;, score=-0.232 total time=   1.7s\n",
      "[CV 2/5] END .................model__alpha=4.1;, score=-0.225 total time=   1.8s\n",
      "[CV 3/5] END .................model__alpha=4.1;, score=-0.232 total time=   1.8s\n"
     ]
    },
    {
     "name": "stdout",
     "output_type": "stream",
     "text": [
      "[CV 4/5] END .................model__alpha=4.1;, score=-0.225 total time=   1.8s\n",
      "[CV 5/5] END .................model__alpha=4.1;, score=-0.227 total time=   1.8s\n",
      "[CV 1/5] END .................model__alpha=4.2;, score=-0.232 total time=   1.8s\n",
      "[CV 2/5] END .................model__alpha=4.2;, score=-0.225 total time=   1.8s\n",
      "[CV 3/5] END .................model__alpha=4.2;, score=-0.232 total time=   1.8s\n",
      "[CV 4/5] END .................model__alpha=4.2;, score=-0.225 total time=   1.8s\n",
      "[CV 5/5] END .................model__alpha=4.2;, score=-0.227 total time=   1.8s\n",
      "[CV 1/5] END .................model__alpha=4.3;, score=-0.232 total time=   1.8s\n",
      "[CV 2/5] END .................model__alpha=4.3;, score=-0.225 total time=   1.8s\n",
      "[CV 3/5] END .................model__alpha=4.3;, score=-0.232 total time=   1.9s\n",
      "[CV 4/5] END .................model__alpha=4.3;, score=-0.225 total time=   1.8s\n",
      "[CV 5/5] END .................model__alpha=4.3;, score=-0.227 total time=   1.8s\n",
      "[CV 1/5] END ..model__alpha=4.3999999999999995;, score=-0.232 total time=   1.9s\n",
      "[CV 2/5] END ..model__alpha=4.3999999999999995;, score=-0.225 total time=   1.8s\n",
      "[CV 3/5] END ..model__alpha=4.3999999999999995;, score=-0.232 total time=   1.9s\n",
      "[CV 4/5] END ..model__alpha=4.3999999999999995;, score=-0.225 total time=   1.8s\n",
      "[CV 5/5] END ..model__alpha=4.3999999999999995;, score=-0.227 total time=   1.8s\n",
      "[CV 1/5] END .................model__alpha=4.5;, score=-0.232 total time=   1.8s\n",
      "[CV 2/5] END .................model__alpha=4.5;, score=-0.225 total time=   1.8s\n",
      "[CV 3/5] END .................model__alpha=4.5;, score=-0.232 total time=   1.7s\n",
      "[CV 4/5] END .................model__alpha=4.5;, score=-0.225 total time=   1.8s\n",
      "[CV 5/5] END .................model__alpha=4.5;, score=-0.227 total time=   1.8s\n",
      "[CV 1/5] END .................model__alpha=4.6;, score=-0.232 total time=   1.8s\n",
      "[CV 2/5] END .................model__alpha=4.6;, score=-0.225 total time=   1.8s\n",
      "[CV 3/5] END .................model__alpha=4.6;, score=-0.232 total time=   1.8s\n",
      "[CV 4/5] END .................model__alpha=4.6;, score=-0.225 total time=   1.8s\n",
      "[CV 5/5] END .................model__alpha=4.6;, score=-0.227 total time=   1.8s\n",
      "[CV 1/5] END .................model__alpha=4.7;, score=-0.232 total time=   1.9s\n",
      "[CV 2/5] END .................model__alpha=4.7;, score=-0.225 total time=   1.8s\n",
      "[CV 3/5] END .................model__alpha=4.7;, score=-0.232 total time=   1.8s\n",
      "[CV 4/5] END .................model__alpha=4.7;, score=-0.225 total time=   1.8s\n",
      "[CV 5/5] END .................model__alpha=4.7;, score=-0.227 total time=   1.9s\n",
      "[CV 1/5] END .................model__alpha=4.8;, score=-0.232 total time=   1.9s\n",
      "[CV 2/5] END .................model__alpha=4.8;, score=-0.225 total time=   1.8s\n",
      "[CV 3/5] END .................model__alpha=4.8;, score=-0.232 total time=   1.8s\n",
      "[CV 4/5] END .................model__alpha=4.8;, score=-0.225 total time=   1.9s\n",
      "[CV 5/5] END .................model__alpha=4.8;, score=-0.227 total time=   1.9s\n",
      "[CV 1/5] END .................model__alpha=4.9;, score=-0.232 total time=   1.8s\n",
      "[CV 2/5] END .................model__alpha=4.9;, score=-0.225 total time=   1.9s\n",
      "[CV 3/5] END .................model__alpha=4.9;, score=-0.232 total time=   1.8s\n",
      "[CV 4/5] END .................model__alpha=4.9;, score=-0.225 total time=   1.8s\n",
      "[CV 5/5] END .................model__alpha=4.9;, score=-0.227 total time=   1.8s\n",
      "[CV 1/5] END .................model__alpha=5.0;, score=-0.232 total time=   1.8s\n",
      "[CV 2/5] END .................model__alpha=5.0;, score=-0.225 total time=   1.8s\n",
      "[CV 3/5] END .................model__alpha=5.0;, score=-0.232 total time=   1.9s\n",
      "[CV 4/5] END .................model__alpha=5.0;, score=-0.225 total time=   1.8s\n",
      "[CV 5/5] END .................model__alpha=5.0;, score=-0.227 total time=   1.9s\n",
      "[CV 1/5] END .................model__alpha=5.1;, score=-0.232 total time=   1.8s\n",
      "[CV 2/5] END .................model__alpha=5.1;, score=-0.225 total time=   1.9s\n",
      "[CV 3/5] END .................model__alpha=5.1;, score=-0.232 total time=   1.8s\n",
      "[CV 4/5] END .................model__alpha=5.1;, score=-0.225 total time=   1.8s\n",
      "[CV 5/5] END .................model__alpha=5.1;, score=-0.227 total time=   1.8s\n",
      "[CV 1/5] END .................model__alpha=5.2;, score=-0.232 total time=   1.8s\n",
      "[CV 2/5] END .................model__alpha=5.2;, score=-0.225 total time=   1.8s\n",
      "[CV 3/5] END .................model__alpha=5.2;, score=-0.232 total time=   1.8s\n",
      "[CV 4/5] END .................model__alpha=5.2;, score=-0.225 total time=   1.9s\n",
      "[CV 5/5] END .................model__alpha=5.2;, score=-0.227 total time=   1.8s\n",
      "[CV 1/5] END .................model__alpha=5.3;, score=-0.232 total time=   1.8s\n",
      "[CV 2/5] END .................model__alpha=5.3;, score=-0.225 total time=   1.8s\n",
      "[CV 3/5] END .................model__alpha=5.3;, score=-0.232 total time=   1.8s\n",
      "[CV 4/5] END .................model__alpha=5.3;, score=-0.225 total time=   1.9s\n",
      "[CV 5/5] END .................model__alpha=5.3;, score=-0.227 total time=   1.8s\n",
      "[CV 1/5] END .................model__alpha=5.4;, score=-0.232 total time=   1.9s\n",
      "[CV 2/5] END .................model__alpha=5.4;, score=-0.225 total time=   1.8s\n",
      "[CV 3/5] END .................model__alpha=5.4;, score=-0.232 total time=   1.9s\n",
      "[CV 4/5] END .................model__alpha=5.4;, score=-0.225 total time=   1.8s\n",
      "[CV 5/5] END .................model__alpha=5.4;, score=-0.227 total time=   1.8s\n",
      "[CV 1/5] END .................model__alpha=5.5;, score=-0.232 total time=   1.9s\n",
      "[CV 2/5] END .................model__alpha=5.5;, score=-0.225 total time=   1.9s\n",
      "[CV 3/5] END .................model__alpha=5.5;, score=-0.232 total time=   1.8s\n",
      "[CV 4/5] END .................model__alpha=5.5;, score=-0.225 total time=   1.9s\n",
      "[CV 5/5] END .................model__alpha=5.5;, score=-0.227 total time=   1.8s\n",
      "[CV 1/5] END .................model__alpha=5.6;, score=-0.232 total time=   1.8s\n",
      "[CV 2/5] END .................model__alpha=5.6;, score=-0.225 total time=   1.8s\n",
      "[CV 3/5] END .................model__alpha=5.6;, score=-0.232 total time=   1.9s\n",
      "[CV 4/5] END .................model__alpha=5.6;, score=-0.225 total time=   1.8s\n",
      "[CV 5/5] END .................model__alpha=5.6;, score=-0.227 total time=   1.9s\n",
      "[CV 1/5] END .................model__alpha=5.7;, score=-0.232 total time=   1.9s\n",
      "[CV 2/5] END .................model__alpha=5.7;, score=-0.225 total time=   1.9s\n",
      "[CV 3/5] END .................model__alpha=5.7;, score=-0.232 total time=   1.8s\n",
      "[CV 4/5] END .................model__alpha=5.7;, score=-0.225 total time=   1.9s\n",
      "[CV 5/5] END .................model__alpha=5.7;, score=-0.227 total time=   1.8s\n",
      "[CV 1/5] END .................model__alpha=5.8;, score=-0.232 total time=   1.9s\n",
      "[CV 2/5] END .................model__alpha=5.8;, score=-0.225 total time=   1.8s\n",
      "[CV 3/5] END .................model__alpha=5.8;, score=-0.232 total time=   1.8s\n",
      "[CV 4/5] END .................model__alpha=5.8;, score=-0.225 total time=   1.8s\n",
      "[CV 5/5] END .................model__alpha=5.8;, score=-0.227 total time=   1.8s\n",
      "[CV 1/5] END .................model__alpha=5.9;, score=-0.232 total time=   1.9s\n",
      "[CV 2/5] END .................model__alpha=5.9;, score=-0.225 total time=   1.7s\n",
      "[CV 3/5] END .................model__alpha=5.9;, score=-0.232 total time=   1.8s\n",
      "[CV 4/5] END .................model__alpha=5.9;, score=-0.225 total time=   1.8s\n",
      "[CV 5/5] END .................model__alpha=5.9;, score=-0.227 total time=   1.8s\n",
      "[CV 1/5] END .................model__alpha=6.0;, score=-0.232 total time=   1.8s\n",
      "[CV 2/5] END .................model__alpha=6.0;, score=-0.225 total time=   1.8s\n",
      "[CV 3/5] END .................model__alpha=6.0;, score=-0.232 total time=   1.8s\n",
      "[CV 4/5] END .................model__alpha=6.0;, score=-0.225 total time=   1.8s\n",
      "[CV 5/5] END .................model__alpha=6.0;, score=-0.227 total time=   1.9s\n",
      "[CV 1/5] END .................model__alpha=6.1;, score=-0.232 total time=   1.9s\n",
      "[CV 2/5] END .................model__alpha=6.1;, score=-0.225 total time=   1.8s\n",
      "[CV 3/5] END .................model__alpha=6.1;, score=-0.232 total time=   1.8s\n",
      "[CV 4/5] END .................model__alpha=6.1;, score=-0.225 total time=   1.8s\n",
      "[CV 5/5] END .................model__alpha=6.1;, score=-0.227 total time=   1.8s\n"
     ]
    },
    {
     "name": "stdout",
     "output_type": "stream",
     "text": [
      "[CV 1/5] END .................model__alpha=6.2;, score=-0.232 total time=   1.9s\n",
      "[CV 2/5] END .................model__alpha=6.2;, score=-0.225 total time=   1.9s\n",
      "[CV 3/5] END .................model__alpha=6.2;, score=-0.232 total time=   1.8s\n",
      "[CV 4/5] END .................model__alpha=6.2;, score=-0.225 total time=   1.8s\n",
      "[CV 5/5] END .................model__alpha=6.2;, score=-0.227 total time=   1.9s\n",
      "[CV 1/5] END .................model__alpha=6.3;, score=-0.232 total time=   1.8s\n",
      "[CV 2/5] END .................model__alpha=6.3;, score=-0.225 total time=   1.8s\n",
      "[CV 3/5] END .................model__alpha=6.3;, score=-0.232 total time=   1.9s\n",
      "[CV 4/5] END .................model__alpha=6.3;, score=-0.225 total time=   1.8s\n",
      "[CV 5/5] END .................model__alpha=6.3;, score=-0.227 total time=   1.9s\n",
      "[CV 1/5] END .................model__alpha=6.4;, score=-0.232 total time=   1.9s\n",
      "[CV 2/5] END .................model__alpha=6.4;, score=-0.225 total time=   1.9s\n",
      "[CV 3/5] END .................model__alpha=6.4;, score=-0.232 total time=   1.8s\n",
      "[CV 4/5] END .................model__alpha=6.4;, score=-0.225 total time=   1.8s\n",
      "[CV 5/5] END .................model__alpha=6.4;, score=-0.227 total time=   1.9s\n",
      "[CV 1/5] END .................model__alpha=6.5;, score=-0.232 total time=   1.9s\n",
      "[CV 2/5] END .................model__alpha=6.5;, score=-0.225 total time=   1.8s\n",
      "[CV 3/5] END .................model__alpha=6.5;, score=-0.232 total time=   1.9s\n",
      "[CV 4/5] END .................model__alpha=6.5;, score=-0.225 total time=   1.9s\n",
      "[CV 5/5] END .................model__alpha=6.5;, score=-0.227 total time=   1.9s\n",
      "[CV 1/5] END .................model__alpha=6.6;, score=-0.232 total time=   1.9s\n",
      "[CV 2/5] END .................model__alpha=6.6;, score=-0.225 total time=   1.9s\n",
      "[CV 3/5] END .................model__alpha=6.6;, score=-0.232 total time=   1.8s\n",
      "[CV 4/5] END .................model__alpha=6.6;, score=-0.225 total time=   1.9s\n",
      "[CV 5/5] END .................model__alpha=6.6;, score=-0.227 total time=   1.8s\n",
      "[CV 1/5] END .................model__alpha=6.7;, score=-0.232 total time=   1.8s\n",
      "[CV 2/5] END .................model__alpha=6.7;, score=-0.225 total time=   1.8s\n",
      "[CV 3/5] END .................model__alpha=6.7;, score=-0.232 total time=   1.8s\n",
      "[CV 4/5] END .................model__alpha=6.7;, score=-0.225 total time=   1.8s\n",
      "[CV 5/5] END .................model__alpha=6.7;, score=-0.227 total time=   1.8s\n",
      "[CV 1/5] END .................model__alpha=6.8;, score=-0.232 total time=   1.9s\n",
      "[CV 2/5] END .................model__alpha=6.8;, score=-0.225 total time=   1.8s\n",
      "[CV 3/5] END .................model__alpha=6.8;, score=-0.232 total time=   1.8s\n",
      "[CV 4/5] END .................model__alpha=6.8;, score=-0.225 total time=   1.8s\n",
      "[CV 5/5] END .................model__alpha=6.8;, score=-0.227 total time=   1.8s\n",
      "[CV 1/5] END .................model__alpha=6.9;, score=-0.232 total time=   1.7s\n",
      "[CV 2/5] END .................model__alpha=6.9;, score=-0.225 total time=   1.8s\n",
      "[CV 3/5] END .................model__alpha=6.9;, score=-0.232 total time=   1.8s\n",
      "[CV 4/5] END .................model__alpha=6.9;, score=-0.225 total time=   1.8s\n",
      "[CV 5/5] END .................model__alpha=6.9;, score=-0.227 total time=   1.8s\n",
      "[CV 1/5] END .................model__alpha=7.0;, score=-0.232 total time=   1.8s\n",
      "[CV 2/5] END .................model__alpha=7.0;, score=-0.225 total time=   1.8s\n",
      "[CV 3/5] END .................model__alpha=7.0;, score=-0.232 total time=   1.8s\n",
      "[CV 4/5] END .................model__alpha=7.0;, score=-0.225 total time=   1.8s\n",
      "[CV 5/5] END .................model__alpha=7.0;, score=-0.227 total time=   1.8s\n",
      "[CV 1/5] END .................model__alpha=7.1;, score=-0.232 total time=   1.8s\n",
      "[CV 2/5] END .................model__alpha=7.1;, score=-0.225 total time=   1.8s\n",
      "[CV 3/5] END .................model__alpha=7.1;, score=-0.232 total time=   1.9s\n",
      "[CV 4/5] END .................model__alpha=7.1;, score=-0.225 total time=   1.9s\n",
      "[CV 5/5] END .................model__alpha=7.1;, score=-0.227 total time=   1.8s\n",
      "[CV 1/5] END .................model__alpha=7.2;, score=-0.232 total time=   1.8s\n",
      "[CV 2/5] END .................model__alpha=7.2;, score=-0.225 total time=   1.8s\n",
      "[CV 3/5] END .................model__alpha=7.2;, score=-0.232 total time=   1.8s\n",
      "[CV 4/5] END .................model__alpha=7.2;, score=-0.225 total time=   1.8s\n",
      "[CV 5/5] END .................model__alpha=7.2;, score=-0.227 total time=   1.9s\n",
      "[CV 1/5] END .................model__alpha=7.3;, score=-0.232 total time=   1.8s\n",
      "[CV 2/5] END .................model__alpha=7.3;, score=-0.225 total time=   1.9s\n",
      "[CV 3/5] END .................model__alpha=7.3;, score=-0.232 total time=   1.8s\n",
      "[CV 4/5] END .................model__alpha=7.3;, score=-0.225 total time=   1.8s\n",
      "[CV 5/5] END .................model__alpha=7.3;, score=-0.227 total time=   1.9s\n",
      "[CV 1/5] END .................model__alpha=7.4;, score=-0.232 total time=   1.9s\n",
      "[CV 2/5] END .................model__alpha=7.4;, score=-0.225 total time=   1.8s\n",
      "[CV 3/5] END .................model__alpha=7.4;, score=-0.232 total time=   1.8s\n",
      "[CV 4/5] END .................model__alpha=7.4;, score=-0.225 total time=   1.9s\n",
      "[CV 5/5] END .................model__alpha=7.4;, score=-0.227 total time=   1.8s\n",
      "[CV 1/5] END .................model__alpha=7.5;, score=-0.232 total time=   1.8s\n",
      "[CV 2/5] END .................model__alpha=7.5;, score=-0.225 total time=   1.9s\n",
      "[CV 3/5] END .................model__alpha=7.5;, score=-0.232 total time=   1.9s\n",
      "[CV 4/5] END .................model__alpha=7.5;, score=-0.225 total time=   1.8s\n",
      "[CV 5/5] END .................model__alpha=7.5;, score=-0.227 total time=   1.9s\n",
      "[CV 1/5] END .................model__alpha=7.6;, score=-0.232 total time=   1.9s\n",
      "[CV 2/5] END .................model__alpha=7.6;, score=-0.225 total time=   1.8s\n",
      "[CV 3/5] END .................model__alpha=7.6;, score=-0.232 total time=   1.9s\n",
      "[CV 4/5] END .................model__alpha=7.6;, score=-0.225 total time=   1.8s\n",
      "[CV 5/5] END .................model__alpha=7.6;, score=-0.227 total time=   1.7s\n",
      "[CV 1/5] END .................model__alpha=7.7;, score=-0.232 total time=   1.8s\n",
      "[CV 2/5] END .................model__alpha=7.7;, score=-0.225 total time=   1.8s\n",
      "[CV 3/5] END .................model__alpha=7.7;, score=-0.232 total time=   1.8s\n",
      "[CV 4/5] END .................model__alpha=7.7;, score=-0.225 total time=   1.8s\n",
      "[CV 5/5] END .................model__alpha=7.7;, score=-0.227 total time=   1.8s\n",
      "[CV 1/5] END .................model__alpha=7.8;, score=-0.232 total time=   1.8s\n",
      "[CV 2/5] END .................model__alpha=7.8;, score=-0.225 total time=   1.8s\n",
      "[CV 3/5] END .................model__alpha=7.8;, score=-0.232 total time=   1.8s\n",
      "[CV 4/5] END .................model__alpha=7.8;, score=-0.225 total time=   1.9s\n",
      "[CV 5/5] END .................model__alpha=7.8;, score=-0.227 total time=   1.9s\n",
      "[CV 1/5] END .................model__alpha=7.9;, score=-0.232 total time=   1.9s\n",
      "[CV 2/5] END .................model__alpha=7.9;, score=-0.225 total time=   1.8s\n",
      "[CV 3/5] END .................model__alpha=7.9;, score=-0.232 total time=   1.9s\n",
      "[CV 4/5] END .................model__alpha=7.9;, score=-0.225 total time=   1.8s\n",
      "[CV 5/5] END .................model__alpha=7.9;, score=-0.227 total time=   1.9s\n",
      "[CV 1/5] END .................model__alpha=8.0;, score=-0.232 total time=   1.9s\n",
      "[CV 2/5] END .................model__alpha=8.0;, score=-0.225 total time=   1.8s\n",
      "[CV 3/5] END .................model__alpha=8.0;, score=-0.232 total time=   1.8s\n",
      "[CV 4/5] END .................model__alpha=8.0;, score=-0.225 total time=   1.8s\n",
      "[CV 5/5] END .................model__alpha=8.0;, score=-0.227 total time=   1.9s\n",
      "[CV 1/5] END .................model__alpha=8.1;, score=-0.232 total time=   1.9s\n",
      "[CV 2/5] END .................model__alpha=8.1;, score=-0.225 total time=   1.9s\n",
      "[CV 3/5] END .................model__alpha=8.1;, score=-0.232 total time=   1.8s\n",
      "[CV 4/5] END .................model__alpha=8.1;, score=-0.225 total time=   1.9s\n",
      "[CV 5/5] END .................model__alpha=8.1;, score=-0.227 total time=   1.9s\n",
      "[CV 1/5] END .................model__alpha=8.2;, score=-0.232 total time=   1.9s\n",
      "[CV 2/5] END .................model__alpha=8.2;, score=-0.225 total time=   1.8s\n"
     ]
    },
    {
     "name": "stdout",
     "output_type": "stream",
     "text": [
      "[CV 3/5] END .................model__alpha=8.2;, score=-0.232 total time=   1.8s\n",
      "[CV 4/5] END .................model__alpha=8.2;, score=-0.225 total time=   1.9s\n",
      "[CV 5/5] END .................model__alpha=8.2;, score=-0.227 total time=   1.9s\n",
      "[CV 1/5] END .................model__alpha=8.3;, score=-0.232 total time=   1.9s\n",
      "[CV 2/5] END .................model__alpha=8.3;, score=-0.225 total time=   1.9s\n",
      "[CV 3/5] END .................model__alpha=8.3;, score=-0.232 total time=   1.9s\n",
      "[CV 4/5] END .................model__alpha=8.3;, score=-0.225 total time=   1.9s\n",
      "[CV 5/5] END .................model__alpha=8.3;, score=-0.227 total time=   1.9s\n",
      "[CV 1/5] END .................model__alpha=8.4;, score=-0.232 total time=   1.8s\n",
      "[CV 2/5] END .................model__alpha=8.4;, score=-0.225 total time=   1.8s\n",
      "[CV 3/5] END .................model__alpha=8.4;, score=-0.232 total time=   1.9s\n",
      "[CV 4/5] END .................model__alpha=8.4;, score=-0.225 total time=   1.9s\n",
      "[CV 5/5] END .................model__alpha=8.4;, score=-0.227 total time=   1.9s\n",
      "[CV 1/5] END .................model__alpha=8.5;, score=-0.232 total time=   1.9s\n",
      "[CV 2/5] END .................model__alpha=8.5;, score=-0.225 total time=   1.9s\n",
      "[CV 3/5] END .................model__alpha=8.5;, score=-0.232 total time=   1.8s\n",
      "[CV 4/5] END .................model__alpha=8.5;, score=-0.225 total time=   1.8s\n",
      "[CV 5/5] END .................model__alpha=8.5;, score=-0.227 total time=   1.8s\n",
      "[CV 1/5] END .................model__alpha=8.6;, score=-0.232 total time=   1.8s\n",
      "[CV 2/5] END .................model__alpha=8.6;, score=-0.225 total time=   1.8s\n",
      "[CV 3/5] END .................model__alpha=8.6;, score=-0.232 total time=   1.9s\n",
      "[CV 4/5] END .................model__alpha=8.6;, score=-0.225 total time=   1.9s\n",
      "[CV 5/5] END .................model__alpha=8.6;, score=-0.227 total time=   1.9s\n",
      "[CV 1/5] END .................model__alpha=8.7;, score=-0.232 total time=   1.9s\n",
      "[CV 2/5] END .................model__alpha=8.7;, score=-0.225 total time=   1.9s\n",
      "[CV 3/5] END .................model__alpha=8.7;, score=-0.232 total time=   1.8s\n",
      "[CV 4/5] END .................model__alpha=8.7;, score=-0.225 total time=   1.9s\n",
      "[CV 5/5] END .................model__alpha=8.7;, score=-0.227 total time=   1.9s\n",
      "[CV 1/5] END .................model__alpha=8.8;, score=-0.232 total time=   1.8s\n",
      "[CV 2/5] END .................model__alpha=8.8;, score=-0.225 total time=   1.9s\n",
      "[CV 3/5] END .................model__alpha=8.8;, score=-0.232 total time=   1.9s\n",
      "[CV 4/5] END .................model__alpha=8.8;, score=-0.225 total time=   1.8s\n",
      "[CV 5/5] END .................model__alpha=8.8;, score=-0.227 total time=   1.8s\n",
      "[CV 1/5] END .................model__alpha=8.9;, score=-0.232 total time=   1.9s\n",
      "[CV 2/5] END .................model__alpha=8.9;, score=-0.225 total time=   1.9s\n",
      "[CV 3/5] END .................model__alpha=8.9;, score=-0.232 total time=   1.9s\n",
      "[CV 4/5] END .................model__alpha=8.9;, score=-0.225 total time=   1.8s\n",
      "[CV 5/5] END .................model__alpha=8.9;, score=-0.227 total time=   1.8s\n",
      "[CV 1/5] END .................model__alpha=9.0;, score=-0.232 total time=   1.8s\n",
      "[CV 2/5] END .................model__alpha=9.0;, score=-0.225 total time=   1.9s\n",
      "[CV 3/5] END .................model__alpha=9.0;, score=-0.232 total time=   1.9s\n",
      "[CV 4/5] END .................model__alpha=9.0;, score=-0.225 total time=   1.9s\n",
      "[CV 5/5] END .................model__alpha=9.0;, score=-0.227 total time=   1.8s\n",
      "[CV 1/5] END .................model__alpha=9.1;, score=-0.232 total time=   1.9s\n",
      "[CV 2/5] END .................model__alpha=9.1;, score=-0.225 total time=   1.8s\n",
      "[CV 3/5] END .................model__alpha=9.1;, score=-0.232 total time=   1.7s\n",
      "[CV 4/5] END .................model__alpha=9.1;, score=-0.225 total time=   1.7s\n",
      "[CV 5/5] END .................model__alpha=9.1;, score=-0.227 total time=   1.8s\n",
      "[CV 1/5] END .................model__alpha=9.2;, score=-0.232 total time=   1.8s\n",
      "[CV 2/5] END .................model__alpha=9.2;, score=-0.225 total time=   1.8s\n",
      "[CV 3/5] END .................model__alpha=9.2;, score=-0.232 total time=   1.8s\n",
      "[CV 4/5] END .................model__alpha=9.2;, score=-0.225 total time=   1.8s\n",
      "[CV 5/5] END .................model__alpha=9.2;, score=-0.227 total time=   1.8s\n",
      "[CV 1/5] END .................model__alpha=9.3;, score=-0.232 total time=   1.8s\n",
      "[CV 2/5] END .................model__alpha=9.3;, score=-0.225 total time=   1.8s\n",
      "[CV 3/5] END .................model__alpha=9.3;, score=-0.232 total time=   1.8s\n",
      "[CV 4/5] END .................model__alpha=9.3;, score=-0.225 total time=   1.8s\n",
      "[CV 5/5] END .................model__alpha=9.3;, score=-0.227 total time=   1.9s\n",
      "[CV 1/5] END .................model__alpha=9.4;, score=-0.232 total time=   1.9s\n",
      "[CV 2/5] END .................model__alpha=9.4;, score=-0.225 total time=   1.8s\n",
      "[CV 3/5] END .................model__alpha=9.4;, score=-0.232 total time=   1.9s\n",
      "[CV 4/5] END .................model__alpha=9.4;, score=-0.225 total time=   1.8s\n",
      "[CV 5/5] END .................model__alpha=9.4;, score=-0.227 total time=   1.8s\n",
      "[CV 1/5] END .................model__alpha=9.5;, score=-0.232 total time=   1.8s\n",
      "[CV 2/5] END .................model__alpha=9.5;, score=-0.225 total time=   1.8s\n",
      "[CV 3/5] END .................model__alpha=9.5;, score=-0.232 total time=   1.8s\n",
      "[CV 4/5] END .................model__alpha=9.5;, score=-0.225 total time=   1.9s\n",
      "[CV 5/5] END .................model__alpha=9.5;, score=-0.227 total time=   1.9s\n",
      "[CV 1/5] END .................model__alpha=9.6;, score=-0.232 total time=   1.9s\n",
      "[CV 2/5] END .................model__alpha=9.6;, score=-0.225 total time=   1.8s\n",
      "[CV 3/5] END .................model__alpha=9.6;, score=-0.232 total time=   1.8s\n",
      "[CV 4/5] END .................model__alpha=9.6;, score=-0.225 total time=   1.8s\n",
      "[CV 5/5] END .................model__alpha=9.6;, score=-0.227 total time=   1.8s\n",
      "[CV 1/5] END ...model__alpha=9.700000000000001;, score=-0.232 total time=   1.8s\n",
      "[CV 2/5] END ...model__alpha=9.700000000000001;, score=-0.225 total time=   1.8s\n",
      "[CV 3/5] END ...model__alpha=9.700000000000001;, score=-0.232 total time=   1.8s\n",
      "[CV 4/5] END ...model__alpha=9.700000000000001;, score=-0.225 total time=   1.8s\n",
      "[CV 5/5] END ...model__alpha=9.700000000000001;, score=-0.227 total time=   1.8s\n",
      "[CV 1/5] END .................model__alpha=9.8;, score=-0.232 total time=   1.8s\n",
      "[CV 2/5] END .................model__alpha=9.8;, score=-0.225 total time=   1.8s\n",
      "[CV 3/5] END .................model__alpha=9.8;, score=-0.232 total time=   1.8s\n",
      "[CV 4/5] END .................model__alpha=9.8;, score=-0.225 total time=   1.8s\n",
      "[CV 5/5] END .................model__alpha=9.8;, score=-0.227 total time=   1.8s\n",
      "[CV 1/5] END .................model__alpha=9.9;, score=-0.232 total time=   1.8s\n",
      "[CV 2/5] END .................model__alpha=9.9;, score=-0.225 total time=   1.8s\n",
      "[CV 3/5] END .................model__alpha=9.9;, score=-0.232 total time=   1.8s\n",
      "[CV 4/5] END .................model__alpha=9.9;, score=-0.225 total time=   1.8s\n",
      "[CV 5/5] END .................model__alpha=9.9;, score=-0.227 total time=   1.8s\n"
     ]
    },
    {
     "data": {
      "text/plain": [
       "{'model__alpha': 0.1}"
      ]
     },
     "execution_count": 28,
     "metadata": {},
     "output_type": "execute_result"
    }
   ],
   "source": [
    "# Lasso regression, feature selection\n",
    "\n",
    "X_train, X_test, y_train, y_test = train_test_split(newDf, df['pol'], random_state = 0)\n",
    "pipeline = Pipeline([\n",
    "    ('model',Lasso())\n",
    "])\n",
    "\n",
    "search = GridSearchCV(pipeline,\n",
    "                     {'model__alpha':np.arange(0.1, 10, 0.1)},\n",
    "                     cv= 5,\n",
    "                     scoring=\"neg_mean_squared_error\", verbose=3)\n",
    "search.fit(X_train, y_train)\n",
    "search.best_params_"
   ]
  },
  {
   "cell_type": "code",
   "execution_count": 42,
   "id": "b301b8cb",
   "metadata": {},
   "outputs": [
    {
     "data": {
      "text/plain": [
       "0"
      ]
     },
     "execution_count": 42,
     "metadata": {},
     "output_type": "execute_result"
    }
   ],
   "source": [
    "coefficients = search.best_estimator_.named_steps['model'].coef_\n",
    "importance = np.abs(coefficients)\n",
    "(importance > 0).sum()\n",
    "\n"
   ]
  },
  {
   "cell_type": "code",
   "execution_count": 26,
   "id": "26e7ee3b",
   "metadata": {},
   "outputs": [
    {
     "data": {
      "image/png": "[encoded data removed]",
      "text/plain": [
       "<Figure size 576x576 with 1 Axes>"
      ]
     },
     "metadata": {
      "needs_background": "light"
     },
     "output_type": "display_data"
    }
   ],
   "source": [
    "# Principle Component Analysis\n",
    "pca = PCA(n_components=2)\n",
    "principalComponents = pca.fit_transform(newDf)\n",
    "principalDf = pd.DataFrame(data = principalComponents\n",
    "             , columns = ['principal component 1', 'principal component 2'])\n",
    "finalDf = pd.concat([principalDf, df[['pol']]], axis = 1)\n",
    "\n",
    "\n",
    "fig = plt.figure(figsize = (8,8))\n",
    "ax = fig.add_subplot(1,1,1) \n",
    "ax.set_xlabel('Principal Component 1', fontsize = 15)\n",
    "ax.set_ylabel('Principal Component 2', fontsize = 15)\n",
    "ax.set_title('2 component PCA', fontsize = 20)\n",
    "targets = [0, 1]\n",
    "colors = ['r', 'b']\n",
    "for target, color in zip(targets,colors):\n",
    "    indicesToKeep = finalDf['pol'] == target\n",
    "    ax.scatter(finalDf.loc[indicesToKeep, 'principal component 1']\n",
    "               , finalDf.loc[indicesToKeep, 'principal component 2']\n",
    "               , c = color\n",
    "               , s = 50)\n",
    "ax.legend(targets)\n",
    "ax.grid()"
   ]
  },
  {
   "cell_type": "code",
   "execution_count": 24,
   "id": "d43ba76b",
   "metadata": {},
   "outputs": [
    {
     "data": {
      "image/png": "[encoded data removed]",
      "text/plain": [
       "<Figure size 576x576 with 1 Axes>"
      ]
     },
     "metadata": {
      "needs_background": "light"
     },
     "output_type": "display_data"
    }
   ],
   "source": []
  },
  {
   "cell_type": "code",
   "execution_count": 48,
   "id": "4f20668f",
   "metadata": {},
   "outputs": [
    {
     "name": "stdout",
     "output_type": "stream",
     "text": [
      "CV accuracy scores: [0.72925311 0.74273859 0.73962656 0.7126556  0.73651452 0.72821577\n",
      " 0.73651452 0.75414938 0.73443983 0.73340249]\n",
      "CV accuracy: 0.735 +/- 0.010\n",
      "Classification report on train data\n",
      "              precision    recall  f1-score   support\n",
      "\n",
      "           0       0.95      0.53      0.68      3395\n",
      "           1       0.79      0.98      0.88      6245\n",
      "\n",
      "    accuracy                           0.82      9640\n",
      "   macro avg       0.87      0.76      0.78      9640\n",
      "weighted avg       0.85      0.82      0.81      9640\n",
      "\n"
     ]
    }
   ],
   "source": [
    "scores = cross_val_score(model, X=X_train, y=y_train, cv=10, n_jobs=1)\n",
    "print('CV accuracy scores: %s' % scores)\n",
    "print('CV accuracy: %.3f +/- %.3f' % (np.mean(scores),np.std(scores)))\n",
    "print('Classification report on train data')\n",
    "print(clf_report)"
   ]
  },
  {
   "cell_type": "code",
   "execution_count": 13,
   "id": "45b87de1",
   "metadata": {},
   "outputs": [
    {
     "data": {
      "text/plain": [
       "[('trump', 518),\n",
       " ('new', 443),\n",
       " ('democrat', 413),\n",
       " ('biden', 386),\n",
       " ('social', 370),\n",
       " ('sai', 308),\n",
       " ('worker', 299),\n",
       " ('peopl', 298),\n",
       " ('right', 282),\n",
       " ('state', 270),\n",
       " ('vote', 262),\n",
       " ('women', 252),\n",
       " ('elect', 248),\n",
       " ('republican', 227),\n",
       " ('year', 209),\n",
       " ('parti', 205),\n",
       " ('socialist', 204),\n",
       " ('war', 201),\n",
       " ('work', 196),\n",
       " ('american', 194),\n",
       " ('hous', 192),\n",
       " ('democraci', 183),\n",
       " ('america', 176),\n",
       " ('white', 169),\n",
       " ('like', 168),\n",
       " ('gop', 166),\n",
       " ('union', 164),\n",
       " ('ukrain', 162),\n",
       " ('polit', 161),\n",
       " ('communist', 160),\n",
       " ('want', 157),\n",
       " ('need', 152),\n",
       " ('think', 152),\n",
       " ('presid', 152),\n",
       " ('support', 151),\n",
       " ('opinion', 151),\n",
       " ('time', 150),\n",
       " ('black', 148),\n",
       " ('capit', 146),\n",
       " ('make', 139),\n",
       " ('court', 137),\n",
       " ('dai', 133),\n",
       " ('countri', 131),\n",
       " ('protest', 128),\n",
       " ('help', 123),\n",
       " ('senat', 120),\n",
       " ('plan', 118),\n",
       " ('left', 117),\n",
       " ('world', 117),\n",
       " ('fight', 115),\n",
       " ('law', 115),\n",
       " ('chang', 113),\n",
       " ('report', 113),\n",
       " ('liber', 111),\n",
       " ('polic', 110),\n",
       " ('govern', 108),\n",
       " ('texa', 106),\n",
       " ('tax', 106),\n",
       " ('commun', 105),\n",
       " ('good', 105),\n",
       " ('histori', 102),\n",
       " ('nation', 101),\n",
       " ('china', 99),\n",
       " ('russia', 99),\n",
       " ('class', 98),\n",
       " ('stop', 97),\n",
       " ('leader', 95),\n",
       " ('question', 95),\n",
       " ('strike', 95),\n",
       " ('live', 94),\n",
       " ('jan', 94),\n",
       " ('ban', 93),\n",
       " ('feminist', 93),\n",
       " ('polici', 92),\n",
       " ('power', 90),\n",
       " ('gener', 89),\n",
       " ('abort', 89),\n",
       " ('end', 89),\n",
       " ('book', 89),\n",
       " ('thought', 88),\n",
       " ('feder', 88),\n",
       " ('school', 87),\n",
       " ('organ', 87),\n",
       " ('case', 86),\n",
       " ('vaccin', 86),\n",
       " ('look', 85),\n",
       " ('kill', 85),\n",
       " ('know', 84),\n",
       " ('group', 84),\n",
       " ('labor', 84),\n",
       " ('suprem', 84),\n",
       " ('movement', 83),\n",
       " ('justic', 83),\n",
       " ('voter', 82),\n",
       " ('dont', 82),\n",
       " ('act', 81),\n",
       " ('win', 81),\n",
       " ('progress', 80),\n",
       " ('wage', 80),\n",
       " ('million', 79),\n",
       " ('pai', 79),\n",
       " ('joe', 78),\n",
       " ('januari', 78),\n",
       " ('covid', 77),\n",
       " ('student', 77),\n",
       " ('capitol', 77),\n",
       " ('cuba', 77),\n",
       " ('econom', 75),\n",
       " ('wai', 75),\n",
       " ('campaign', 73),\n",
       " ('conserv', 72),\n",
       " ('rule', 71),\n",
       " ('attack', 71),\n",
       " ('climat', 71),\n",
       " ('theori', 71),\n",
       " ('big', 70),\n",
       " ('todai', 69),\n",
       " ('russian', 68),\n",
       " ('putin', 68),\n",
       " ('major', 68),\n",
       " ('talk', 68),\n",
       " ('congress', 68),\n",
       " ('mani', 68),\n",
       " ('care', 67),\n",
       " ('discuss', 67),\n",
       " ('public', 67),\n",
       " ('2022', 67),\n",
       " ('pass', 67),\n",
       " ('investig', 67),\n",
       " ('race', 66),\n",
       " ('media', 65),\n",
       " ('free', 65),\n",
       " ('critic', 65),\n",
       " ('push', 64),\n",
       " ('claim', 64),\n",
       " ('2020', 64),\n",
       " ('governor', 63),\n",
       " ('death', 63),\n",
       " ('men', 63),\n",
       " ('build', 63),\n",
       " ('tell', 63),\n",
       " ('mai', 63),\n",
       " ('unit', 62),\n",
       " ('come', 62),\n",
       " ('pandem', 62),\n",
       " ('fund', 62),\n",
       " ('committe', 62),\n",
       " ('video', 62),\n",
       " ('sexual', 62),\n",
       " ('member', 61),\n",
       " ('child', 61),\n",
       " ('violenc', 61),\n",
       " ('got', 61),\n",
       " ('offic', 61),\n",
       " ('activist', 60),\n",
       " ('job', 60),\n",
       " ('femin', 60),\n",
       " ('face', 60),\n",
       " ('try', 59),\n",
       " ('market', 59),\n",
       " ('read', 59),\n",
       " ('happen', 59),\n",
       " ('deal', 59),\n",
       " ('charg', 59),\n",
       " ('let', 58),\n",
       " ('covid19', 58),\n",
       " ('solidar', 58),\n",
       " ('woman', 58),\n",
       " ('better', 57),\n",
       " ('realli', 57),\n",
       " ('action', 57),\n",
       " ('radic', 57),\n",
       " ('thing', 57),\n",
       " ('man', 57),\n",
       " ('crisi', 57),\n",
       " ('order', 57),\n",
       " ('donald', 57),\n",
       " ('said', 57),\n",
       " ('offici', 57),\n",
       " ('life', 56),\n",
       " ('judg', 56),\n",
       " ('dsa', 56),\n",
       " ('children', 56),\n",
       " ('economi', 56),\n",
       " ('ralli', 56),\n",
       " ('monei', 55),\n",
       " ('california', 55),\n",
       " ('revolut', 55),\n",
       " ('compani', 55),\n",
       " ('leftist', 54),\n",
       " ('militari', 54),\n",
       " ('protect', 54),\n",
       " ('fox', 54),\n",
       " ('famili', 54),\n",
       " ('florida', 54),\n",
       " ('lawmak', 54),\n",
       " ('intern', 54),\n",
       " ('turn', 54),\n",
       " ('sex', 54),\n",
       " ('rais', 53),\n",
       " ('anyon', 53),\n",
       " ('accus', 52),\n",
       " ('poll', 52),\n",
       " ('south', 52),\n",
       " ('debt', 52),\n",
       " ('forc', 52),\n",
       " ('lead', 51),\n",
       " ('run', 51),\n",
       " ('join', 51),\n",
       " ('health', 51),\n",
       " ('human', 50),\n",
       " ('dem', 50),\n",
       " ('green', 50),\n",
       " ('legal', 50),\n",
       " ('capitalist', 50),\n",
       " ('studi', 50),\n",
       " ('busi', 50),\n",
       " ('ask', 49),\n",
       " ('explain', 49),\n",
       " ('warn', 49),\n",
       " ('freedom', 49),\n",
       " ('educ', 49),\n",
       " ('start', 49),\n",
       " ('gender', 49),\n",
       " ('citi', 48),\n",
       " ('respons', 48),\n",
       " ('becom', 48),\n",
       " ('billion', 48),\n",
       " ('record', 48),\n",
       " ('speech', 47),\n",
       " ('candid', 47),\n",
       " ('hope', 47),\n",
       " ('wealth', 47),\n",
       " ('sinc', 47),\n",
       " ('societi', 47),\n",
       " ('young', 46),\n",
       " ('struggl', 46),\n",
       " ('issu', 46),\n",
       " ('virginia', 46),\n",
       " ('idea', 46),\n",
       " ('demand', 46),\n",
       " ('im', 46),\n",
       " ('red', 46),\n",
       " ('administr', 46),\n",
       " ('georgia', 46),\n",
       " ('depart', 45),\n",
       " ('futur', 45),\n",
       " ('prison', 45),\n",
       " ('obama', 45),\n",
       " ('girl', 45),\n",
       " ('starbuck', 45),\n",
       " ('civil', 45),\n",
       " ('analysi', 45),\n",
       " ('rich', 45),\n",
       " ('week', 45),\n",
       " ('rate', 44),\n",
       " ('crime', 44),\n",
       " ('differ', 44),\n",
       " ('threat', 44),\n",
       " ('nato', 44),\n",
       " ('debat', 44),\n",
       " ('teacher', 44),\n",
       " ('interview', 44),\n",
       " ('matter', 43),\n",
       " ('gui', 43),\n",
       " ('everi', 43),\n",
       " ('best', 43),\n",
       " ('cultur', 43),\n",
       " ('home', 43),\n",
       " ('attempt', 43),\n",
       " ('review', 43),\n",
       " ('femal', 43),\n",
       " ('aid', 42),\n",
       " ('mean', 42),\n",
       " ('anoth', 42),\n",
       " ('person', 42),\n",
       " ('global', 42),\n",
       " ('2021', 42),\n",
       " ('allow', 41),\n",
       " ('cost', 41),\n",
       " ('effort', 41),\n",
       " ('stori', 41),\n",
       " ('defend', 41),\n",
       " ('actual', 41),\n",
       " ('kid', 40),\n",
       " ('post', 40),\n",
       " ('labour', 40),\n",
       " ('meet', 40),\n",
       " ('manchin', 40),\n",
       " ('set', 40),\n",
       " ('minimum', 40),\n",
       " ('hold', 40),\n",
       " ('rep', 40),\n",
       " ('mass', 40),\n",
       " ('reveal', 40),\n",
       " ('propos', 39),\n",
       " ('follow', 39),\n",
       " ('racist', 39),\n",
       " ('statement', 39),\n",
       " ('west', 39)]"
      ]
     },
     "execution_count": 13,
     "metadata": {},
     "output_type": "execute_result"
    }
   ],
   "source": [
    "all_lib_unigrams_stemm\n",
    "# all_con_unigrams_stemm_df"
   ]
  },
  {
   "cell_type": "code",
   "execution_count": 15,
   "id": "1febbf06",
   "metadata": {},
   "outputs": [
    {
     "name": "stdout",
     "output_type": "stream",
     "text": [
      "        Unigram  Count  Total_count       pmi       lmi\n",
      "0         trump    483         1001  1.038902  0.005113\n",
      "1         biden    423          809  1.073781  0.004628\n",
      "2        ukrain    335          497  1.184078  0.004042\n",
      "3         capit    237          383  1.146939  0.002770\n",
      "4        russia    223          322  1.195838  0.002717\n",
      "6         putin    195          263  1.225468  0.002435\n",
      "5           sai    199          507  0.949234  0.001925\n",
      "12  libertarian    130          139  1.326318  0.001757\n",
      "11      desanti    132          160  1.271843  0.001711\n",
      "10      russian    140          208  1.183454  0.001688\n",
      "8         peopl    173          471  0.920414  0.001622\n",
      "7           new    188          631  0.829518  0.001589\n",
      "17         poll    118          170  1.196822  0.001439\n",
      "13       govern    122          230  1.080021  0.001343\n",
      "9         state    144          414  0.896751  0.001316\n",
      "14       presid    118          270  0.995907  0.001197\n",
      "24        invas     91          115  1.253733  0.001162\n",
      "15     american    118          312  0.933117  0.001122\n",
      "20         make    106          245  0.991529  0.001071\n",
      "19          war    112          313  0.909063  0.001037\n",
      "28      freedom     83          132  1.153893  0.000976\n",
      "26         free     85          150  1.108717  0.000960\n",
      "22        think     94          246  0.937582  0.000898\n",
      "18       social    117          487  0.736046  0.000877\n",
      "45      trudeau     64           68  1.329060  0.000867\n",
      "21        right    106          388  0.791863  0.000855\n",
      "23         like     92          260  0.904204  0.000848\n",
      "16     democrat    118          531  0.702177  0.000844\n",
      "36      florida     72          126  1.112351  0.000816\n",
      "52         cpac     59           66  1.306697  0.000786\n",
      "             Bigram  Count  Total_count       pmi       lmi\n",
      "0       ron desanti     48           60  0.204120  0.000115\n",
      "5     russian invas     33           35  0.275476  0.000107\n",
      "7     ronald reagan     32           36  0.249877  0.000094\n",
      "4      truth social     33           38  0.239760  0.000093\n",
      "3         elon musk     42           55  0.183917  0.000091\n",
      "11      free market     29           32  0.258278  0.000088\n",
      "9      invas ukrain     31           37  0.224190  0.000081\n",
      "8       state union     31           38  0.212608  0.000077\n",
      "16      thoma sowel     21           21  0.301030  0.000074\n",
      "19    reagan speech     19           19  0.301030  0.000067\n",
      "17      gov desanti     20           21  0.279841  0.000066\n",
      "6      invad ukrain     32           43  0.172712  0.000065\n",
      "22         nov 2021     18           18  0.301030  0.000063\n",
      "21   justin trudeau     18           18  0.301030  0.000063\n",
      "13     ukrain crisi     22           25  0.245513  0.000063\n",
      "24        cpac 2022     17           17  0.301030  0.000060\n",
      "26     ukrain trump     16           16  0.301030  0.000056\n",
      "25        emerg act     17           18  0.276206  0.000055\n",
      "14   freedom convoi     22           28  0.196295  0.000051\n",
      "28      florida gov     15           16  0.273001  0.000048\n",
      "20     trump presid     18           22  0.213880  0.000045\n",
      "32       presid dai     14           15  0.271067  0.000044\n",
      "40  sanction russia     12           12  0.301030  0.000042\n",
      "18  hillari clinton     20           27  0.170696  0.000040\n",
      "33      trump truth     14           16  0.243038  0.000040\n",
      "27      putin invas     15           18  0.221849  0.000039\n",
      "55        app store     11           11  0.301030  0.000039\n",
      "56     durham probe     11           11  0.301030  0.000039\n",
      "47        sai putin     12           13  0.266268  0.000037\n",
      "44     bank account     12           13  0.266268  0.000037\n",
      "                    Trigram  Count  Total_count       pmi       lmi\n",
      "0      ronald reagan speech     19           19  0.301030  0.000079\n",
      "3        invad ukrain trump     13           13  0.301030  0.000054\n",
      "4       ukrain trump presid     13           13  0.301030  0.000054\n",
      "6      russian invas ukrain     12           12  0.301030  0.000050\n",
      "7       florida gov desanti     12           12  0.301030  0.000050\n",
      "2        trump truth social     14           16  0.243038  0.000047\n",
      "5       state union address     12           14  0.234083  0.000039\n",
      "13     wouldnt invad ukrain      8            8  0.301030  0.000033\n",
      "12      putin wouldnt invad      8            8  0.301030  0.000033\n",
      "16        trump presid poll      7            7  0.301030  0.000029\n",
      "20        trump blast biden      6            6  0.301030  0.000025\n",
      "19        cpac 2022 orlando      6            6  0.301030  0.000025\n",
      "25           appl app store      6            6  0.301030  0.000025\n",
      "22        sai putin wouldnt      6            6  0.301030  0.000025\n",
      "1       russia invad ukrain     14           21  0.124939  0.000024\n",
      "10       putin invas ukrain      8           10  0.204120  0.000022\n",
      "11    ketanji brown jackson      8           10  0.204120  0.000022\n",
      "9           gov ron desanti      9           12  0.176091  0.000022\n",
      "33          forc high alert      5            5  0.301030  0.000021\n",
      "34      putin order russian      5            5  0.301030  0.000021\n",
      "39        percent voter sai      5            5  0.301030  0.000021\n",
      "36        poll major believ      5            5  0.301030  0.000021\n",
      "38         62 percent voter      5            5  0.301030  0.000021\n",
      "43       end laissezfair 13      5            5  0.301030  0.000021\n",
      "40          voter sai putin      5            5  0.301030  0.000021\n",
      "41     american economi end      5            5  0.301030  0.000021\n",
      "42  economi end laissezfair      5            5  0.301030  0.000021\n",
      "31      doubt biden newsnat      5            5  0.301030  0.000021\n",
      "44      reagan speech octob      5            5  0.301030  0.000021\n",
      "32       biden newsnat poll      5            5  0.301030  0.000021\n"
     ]
    }
   ],
   "source": [
    "total_col_uni = []\n",
    "for uni, count in all_con_unigrams_stemm:\n",
    "    total_col_uni.append(all_unigrams_stemm_df.query(\"Unigram == @uni\")['Count'].iloc[0])\n",
    "\n",
    "total_col_bi = []\n",
    "for bi, count in all_con_bigrams_stemm:\n",
    "    total_col_bi.append(all_bigrams_stemm_df.query(\"Bigram == @bi\")['Count'].iloc[0])\n",
    "    \n",
    "\n",
    "total_col_tri = []\n",
    "for tri, count in all_con_trigrams_stemm:\n",
    "    total_col_tri.append(all_trigrams_stemm_df.query(\"Trigram == @tri\")['Count'].iloc[0])\n",
    "    \n",
    "all_con_unigrams_stemm_df['Total_count'] = total_col_uni\n",
    "all_con_unigrams_stemm_df['pmi'] = np.log10((all_con_unigrams_stemm_df['Count'] / total_num_con_unigrams_stemm)/(0.5 * all_con_unigrams_stemm_df['Total_count']/total_num_unigrams_stemm))\n",
    "all_con_unigrams_stemm_df['lmi'] = all_con_unigrams_stemm_df['pmi']*(all_con_unigrams_stemm_df['Count']/total_num_unigrams_stemm)\n",
    "print(all_con_unigrams_stemm_df.sort_values(ascending=False, by=['lmi']).head(30))\n",
    "\n",
    "\n",
    "all_con_bigrams_stemm_df['Total_count'] = total_col_bi\n",
    "all_con_bigrams_stemm_df['pmi'] = np.log10((all_con_bigrams_stemm_df['Count'] / total_num_bigrams_stemm)/(0.5 * all_con_bigrams_stemm_df['Total_count']/total_num_bigrams_stemm))\n",
    "all_con_bigrams_stemm_df['lmi'] = all_con_bigrams_stemm_df['pmi']*(all_con_bigrams_stemm_df['Count']/total_num_bigrams_stemm)\n",
    "print(all_con_bigrams_stemm_df.sort_values(ascending=False, by=['lmi']).head(30))\n",
    "\n",
    "\n",
    "all_con_trigrams_stemm_df['Total_count'] = total_col_tri\n",
    "all_con_trigrams_stemm_df['pmi'] = np.log10((all_con_trigrams_stemm_df['Count'] / total_num_trigrams_stemm)/(0.5 * all_con_trigrams_stemm_df['Total_count']/total_num_trigrams_stemm))\n",
    "all_con_trigrams_stemm_df['lmi'] = all_con_trigrams_stemm_df['pmi']*(all_con_trigrams_stemm_df['Count']/total_num_trigrams_stemm)\n",
    "print(all_con_trigrams_stemm_df.sort_values(ascending=False, by=['lmi']).head(30))\n"
   ]
  },
  {
   "cell_type": "code",
   "execution_count": 128,
   "id": "e860ad90",
   "metadata": {},
   "outputs": [
    {
     "name": "stdout",
     "output_type": "stream",
     "text": [
      "Liberals:\n",
      "       Unigram  Count  Total_count       pmi       lmi\n",
      "1          new    443          631  0.730634  0.003298\n",
      "2     democrat    413          531  0.775116  0.003262\n",
      "0        trump    518         1001  0.598156  0.003157\n",
      "4       social    370          487  0.764933  0.002884\n",
      "6       worker    299          329  0.842735  0.002567\n",
      "11       women    252          265  0.862415  0.002214\n",
      "3        biden    386          809  0.562899  0.002214\n",
      "8        right    282          388  0.745677  0.002143\n",
      "10        vote    262          317  0.801502  0.002140\n",
      "5          sai    308          507  0.667803  0.002096\n",
      "7        peopl    298          471  0.685455  0.002081\n",
      "12       elect    248          294  0.810364  0.002048\n",
      "9        state    270          414  0.698624  0.001922\n",
      "13  republican    227          306  0.754565  0.001745\n",
      "15       parti    205          232  0.830526  0.001735\n",
      "16   socialist    204          258  0.782271  0.001626\n",
      "14        year    209          294  0.736059  0.001567\n",
      "21   democraci    183          208  0.828648  0.001545\n",
      "18        work    196          268  0.748381  0.001495\n",
      "20        hous    192          258  0.755942  0.001479\n",
      "17         war    201          313  0.691912  0.001417\n",
      "19    american    194          312  0.677907  0.001340\n",
      "22     america    176          252  0.728372  0.001306\n",
      "29   communist    160          194  0.800578  0.001305\n",
      "23       white    169          227  0.756121  0.001302\n",
      "26       union    164          214  0.768690  0.001284\n",
      "25         gop    166          226  0.750260  0.001269\n",
      "28       polit    161          209  0.770940  0.001265\n",
      "35     opinion    151          179  0.810384  0.001247\n",
      "24        like    168          260  0.694596  0.001189\n",
      "                  Bigram  Count  Total_count       pmi       lmi\n",
      "299              king jr      6            6  0.301030 -0.000077\n",
      "284      socialist parti      6            6  0.301030 -0.000077\n",
      "268          wall street      6            6  0.301030 -0.000077\n",
      "260    audiobook discuss      6            6  0.301030 -0.000077\n",
      "253              mai dai      6            6  0.301030 -0.000077\n",
      "251            right act      6            6  0.301030 -0.000077\n",
      "274            loan debt      6            6  0.301030 -0.000077\n",
      "250          biden nomin      6            6  0.301030 -0.000077\n",
      "276          work condit      6            6  0.301030 -0.000077\n",
      "248            jan panel      6            6  0.301030 -0.000077\n",
      "280         social secur      6            6  0.301030 -0.000077\n",
      "281      russian revolut      6            6  0.301030 -0.000077\n",
      "282        strike worker      6            6  0.301030 -0.000077\n",
      "263            know good      6            6  0.301030 -0.000077\n",
      "245            olof palm      6            6  0.301030 -0.000077\n",
      "285         coup attempt      6            6  0.301030 -0.000077\n",
      "291        trump impeach      6            6  0.301030 -0.000077\n",
      "298           minut left      6            6  0.301030 -0.000077\n",
      "297           year later      6            6  0.301030 -0.000077\n",
      "233      republican vote      6            6  0.301030 -0.000077\n",
      "234      texa republican      6            6  0.301030 -0.000077\n",
      "293          regist vote      6            6  0.301030 -0.000077\n",
      "242         worker parti      6            6  0.301030 -0.000077\n",
      "235        texa governor      6            6  0.301030 -0.000077\n",
      "290          vote matter      6            6  0.301030 -0.000077\n",
      "237          crime human      6            6  0.301030 -0.000077\n",
      "288           new orlean      6            6  0.301030 -0.000077\n",
      "267           hazard pai      6            6  0.301030 -0.000077\n",
      "249       trump campaign      6            7  0.234083 -0.000081\n",
      "247  communist manifesto      6            7  0.234083 -0.000081\n",
      "252            green new      6            7  0.234083 -0.000081\n",
      "256        special elect      6            7  0.234083 -0.000081\n",
      "238        histori month      6            7  0.234083 -0.000081\n",
      "239           dont think      6            7  0.234083 -0.000081\n",
      "283            good luck      6            7  0.234083 -0.000081\n",
      "269            judg rule      6            7  0.234083 -0.000081\n",
      "292            abort ban      6            7  0.234083 -0.000081\n",
      "289           ban critic      6            7  0.234083 -0.000081\n",
      "287            cost live      6            7  0.234083 -0.000081\n",
      "271          trade union      6            7  0.234083 -0.000081\n",
      "272         woman suprem      6            7  0.234083 -0.000081\n",
      "286          state senat      6            7  0.234083 -0.000081\n",
      "266           rule class      6            7  0.234083 -0.000081\n",
      "278    militari industri      6            7  0.234083 -0.000081\n",
      "279            year sinc      6            7  0.234083 -0.000081\n",
      "294          ukrain nato      6            8  0.176091 -0.000086\n",
      "259            dont care      6            8  0.176091 -0.000086\n",
      "236          young peopl      6            8  0.176091 -0.000086\n",
      "244        richard wolff      6            8  0.176091 -0.000086\n",
      "264           mass shoot      6            9  0.124939 -0.000089\n",
      "                       Trigram  Count  Total_count       pmi       lmi\n",
      "1        weekli discuss thread     20           20  0.301030  0.000083\n",
      "0           critic race theori     22           25  0.245513  0.000074\n",
      "4             presid joe biden     12           13  0.266268  0.000044\n",
      "5             child tax credit     10           10  0.301030  0.000041\n",
      "7          cancel student debt      9            9  0.301030  0.000037\n",
      "14          dai post socialist      8            8  0.301030  0.000033\n",
      "18           everi dai januari      8            8  0.301030  0.000033\n",
      "17            leader everi dai      8            8  0.301030  0.000033\n",
      "16      socialist leader everi      8            8  0.301030  0.000033\n",
      "15       post socialist leader      8            8  0.301030  0.000033\n",
      "12          martin luther king      8            8  0.301030  0.000033\n",
      "10      statement presid biden      8            8  0.301030  0.000033\n",
      "20       social democrat parti      7            7  0.301030  0.000029\n",
      "21           rais minimum wage      7            7  0.301030  0.000029\n",
      "2         marjori taylor green     15           22  0.134699  0.000028\n",
      "8               texa abort law      8            9  0.249877  0.000027\n",
      "33           vote right legisl      6            6  0.301030  0.000025\n",
      "26        statement presid joe      6            6  0.301030  0.000025\n",
      "31       justic stephen breyer      6            6  0.301030  0.000025\n",
      "34             pass vote right      6            6  0.301030  0.000025\n",
      "35           trump chief staff      6            6  0.301030  0.000025\n",
      "30              luther king jr      6            6  0.301030  0.000025\n",
      "29         student loan forgiv      6            6  0.301030  0.000025\n",
      "28             ban critic race      6            6  0.301030  0.000025\n",
      "32        stephen breyer retir      6            6  0.301030  0.000025\n",
      "9   democrat socialist america      8           10  0.204120  0.000022\n",
      "44    communist worker organis      5            5  0.301030  0.000021\n",
      "39              vote right act      5            5  0.301030  0.000021\n",
      "51                ku klux klan      5            5  0.301030  0.000021\n",
      "50           ami conei barrett      5            5  0.301030  0.000021\n",
      "49             war cuba episod      5            5  0.301030  0.000021\n",
      "46         record jan committe      5            5  0.301030  0.000021\n",
      "45         overturn 2020 elect      5            5  0.301030  0.000021\n",
      "43           student loan debt      5            5  0.301030  0.000021\n",
      "42      social democrat social      5            5  0.301030  0.000021\n",
      "36               war class war      5            5  0.301030  0.000021\n",
      "40             anyon know good      5            5  0.301030  0.000021\n",
      "38         civil fleet podcast      5            5  0.301030  0.000021\n",
      "24          black woman suprem      6            7  0.234083  0.000019\n",
      "25          woman suprem court      6            7  0.234083  0.000019\n",
      "22                fox new host      6            7  0.234083  0.000019\n",
      "23              green new deal      6            7  0.234083  0.000019\n",
      "27   militari industri complex      6            7  0.234083  0.000019\n",
      "11         presid donald trump      8           11  0.162727  0.000018\n",
      "82       social media platform      4            4  0.301030  0.000017\n",
      "76              grand juri sex      4            4  0.301030  0.000017\n",
      "68          senat major leader      4            4  0.301030  0.000017\n",
      "69            sen berni sander      4            4  0.301030  0.000017\n",
      "70      attornei gener merrick      4            4  0.301030  0.000017\n",
      "71       gener merrick garland      4            4  0.301030  0.000017\n"
     ]
    }
   ],
   "source": [
    "#     numerator = (count / total_num_bigrams_stemm)\n",
    "#     denominator = (0.5 * all_bigrams_stemm_df[all_bigrams_stemm_df['Bigram'] == bi])\n",
    "#     pmi = math.log(numerator / denominator)\n",
    "total_col_uni = []\n",
    "for uni, count in all_lib_unigrams_stemm:\n",
    "    total_col_uni.append(all_unigrams_stemm_df.query(\"Unigram == @uni\")['Count'].iloc[0])\n",
    "\n",
    "total_col_bi = []\n",
    "for bi, count in all_lib_bigrams_stemm:\n",
    "    total_col_bi.append(all_bigrams_stemm_df.query(\"Bigram == @bi\")['Count'].iloc[0])\n",
    "    \n",
    "total_col_tri = []\n",
    "for tri, count in all_lib_trigrams_stemm:\n",
    "    total_col_tri.append(all_trigrams_stemm_df.query(\"Trigram == @tri\")['Count'].iloc[0])\n",
    "\n",
    "print(\"Liberals:\")\n",
    "all_lib_unigrams_stemm_df['Total_count'] = total_col_uni\n",
    "all_lib_unigrams_stemm_df['pmi'] = np.log10((all_lib_unigrams_stemm_df['Count'] / total_num_lib_unigrams_stemm)/(0.5 * (all_lib_unigrams_stemm_df['Total_count']/total_num_unigrams_stemm)))\n",
    "all_lib_unigrams_stemm_df['lmi'] = all_lib_unigrams_stemm_df['pmi']*(all_lib_unigrams_stemm_df['Count']/total_num_unigrams_stemm)\n",
    "# all_lib_unigrams_stemm_df['ppmi'] = max(all_lib_unigrams_stemm_df['pmi'], 0)\n",
    "print(all_lib_unigrams_stemm_df.sort_values(ascending=False, by=['lmi']).head(30))\n",
    "# print(total_col)\n",
    "all_lib_bigrams_stemm_df['Total_count'] = total_col_bi\n",
    "all_lib_bigrams_stemm_df['pmi'] = np.log10((all_lib_bigrams_stemm_df['Count'] / total_num_bigrams_stemm)/(0.5 * (all_lib_bigrams_stemm_df['Total_count']/total_num_bigrams_stemm)))\n",
    "# all_lib_bigrams_stemm_df['lmi'] = all_lib_bigrams_stemm_df['pmi']*(all_lib_bigrams_stemm_df['Count']/total_num_bigrams_stemm)\n",
    "# all_lib_bigrams_stemm_df['ppmi'] = max(all_lib_bigrams_stemm_df['pmi'], 0)\n",
    "print(all_lib_bigrams_stemm_df.sort_values(ascending=False, by=['lmi']).head(50))\n",
    "\n",
    "all_lib_trigrams_stemm_df['Total_count'] = total_col_tri\n",
    "all_lib_trigrams_stemm_df['pmi'] = np.log10((all_lib_trigrams_stemm_df['Count'] / total_num_trigrams_stemm)/(0.5 * (all_lib_trigrams_stemm_df['Total_count']/total_num_trigrams_stemm)))\n",
    "all_lib_trigrams_stemm_df['lmi'] = all_lib_trigrams_stemm_df['pmi']*(all_lib_trigrams_stemm_df['Count']/total_num_trigrams_stemm)\n",
    "# all_lib_trigrams_stemm_df['ppmi'] = max(all_lib_trigrams_stemm_df['pmi'], 0)\n",
    "print(all_lib_trigrams_stemm_df.sort_values(ascending=False, by=['lmi']).head(50))"
   ]
  },
  {
   "cell_type": "code",
   "execution_count": null,
   "id": "0d854e1c",
   "metadata": {},
   "outputs": [],
   "source": []
  },
  {
   "cell_type": "code",
   "execution_count": 11,
   "id": "5392d48a",
   "metadata": {},
   "outputs": [
    {
     "name": "stdout",
     "output_type": "stream",
     "text": [
      "[('supreme court', 111), ('donald trump', 100), ('white house', 93), ('joe biden', 85), ('social democracy', 69), ('ron desantis', 60), ('elon musk', 55), ('fox news', 54), ('voting right', 52), ('new york', 50)]\n"
     ]
    },
    {
     "data": {
      "application/vnd.plotly.v1+json": {
       "config": {
        "linkText": "Export to plot.ly",
        "plotlyServerURL": "https://plot.ly",
        "showLink": true
       },
       "data": [
        {
         "marker": {
          "color": "rgba(219, 64, 82, 0.6)",
          "line": {
           "color": "rgba(219, 64, 82, 1.0)",
           "width": 1
          }
         },
         "name": "count",
         "orientation": "h",
         "text": "",
         "type": "bar",
         "x": [
          30,
          31,
          31,
          32,
          33,
          33,
          41,
          42,
          44,
          48
         ],
         "y": [
          "white house",
          "invasion ukraine",
          "state union",
          "ronald reagan",
          "russian invasion",
          "truth social",
          "joe biden",
          "elon musk",
          "donald trump",
          "ron desantis"
         ]
        }
       ],
       "layout": {
        "legend": {
         "bgcolor": "#F5F6F9",
         "font": {
          "color": "#4D5663"
         }
        },
        "paper_bgcolor": "#F5F6F9",
        "plot_bgcolor": "#F5F6F9",
        "template": {
         "data": {
          "bar": [
           {
            "error_x": {
             "color": "#2a3f5f"
            },
            "error_y": {
             "color": "#2a3f5f"
            },
            "marker": {
             "line": {
              "color": "#E5ECF6",
              "width": 0.5
             },
             "pattern": {
              "fillmode": "overlay",
              "size": 10,
              "solidity": 0.2
             }
            },
            "type": "bar"
           }
          ],
          "barpolar": [
           {
            "marker": {
             "line": {
              "color": "#E5ECF6",
              "width": 0.5
             },
             "pattern": {
              "fillmode": "overlay",
              "size": 10,
              "solidity": 0.2
             }
            },
            "type": "barpolar"
           }
          ],
          "carpet": [
           {
            "aaxis": {
             "endlinecolor": "#2a3f5f",
             "gridcolor": "white",
             "linecolor": "white",
             "minorgridcolor": "white",
             "startlinecolor": "#2a3f5f"
            },
            "baxis": {
             "endlinecolor": "#2a3f5f",
             "gridcolor": "white",
             "linecolor": "white",
             "minorgridcolor": "white",
             "startlinecolor": "#2a3f5f"
            },
            "type": "carpet"
           }
          ],
          "choropleth": [
           {
            "colorbar": {
             "outlinewidth": 0,
             "ticks": ""
            },
            "type": "choropleth"
           }
          ],
          "contour": [
           {
            "colorbar": {
             "outlinewidth": 0,
             "ticks": ""
            },
            "colorscale": [
             [
              0,
              "#0d0887"
             ],
             [
              0.1111111111111111,
              "#46039f"
             ],
             [
              0.2222222222222222,
              "#7201a8"
             ],
             [
              0.3333333333333333,
              "#9c179e"
             ],
             [
              0.4444444444444444,
              "#bd3786"
             ],
             [
              0.5555555555555556,
              "#d8576b"
             ],
             [
              0.6666666666666666,
              "#ed7953"
             ],
             [
              0.7777777777777778,
              "#fb9f3a"
             ],
             [
              0.8888888888888888,
              "#fdca26"
             ],
             [
              1,
              "#f0f921"
             ]
            ],
            "type": "contour"
           }
          ],
          "contourcarpet": [
           {
            "colorbar": {
             "outlinewidth": 0,
             "ticks": ""
            },
            "type": "contourcarpet"
           }
          ],
          "heatmap": [
           {
            "colorbar": {
             "outlinewidth": 0,
             "ticks": ""
            },
            "colorscale": [
             [
              0,
              "#0d0887"
             ],
             [
              0.1111111111111111,
              "#46039f"
             ],
             [
              0.2222222222222222,
              "#7201a8"
             ],
             [
              0.3333333333333333,
              "#9c179e"
             ],
             [
              0.4444444444444444,
              "#bd3786"
             ],
             [
              0.5555555555555556,
              "#d8576b"
             ],
             [
              0.6666666666666666,
              "#ed7953"
             ],
             [
              0.7777777777777778,
              "#fb9f3a"
             ],
             [
              0.8888888888888888,
              "#fdca26"
             ],
             [
              1,
              "#f0f921"
             ]
            ],
            "type": "heatmap"
           }
          ],
          "heatmapgl": [
           {
            "colorbar": {
             "outlinewidth": 0,
             "ticks": ""
            },
            "colorscale": [
             [
              0,
              "#0d0887"
             ],
             [
              0.1111111111111111,
              "#46039f"
             ],
             [
              0.2222222222222222,
              "#7201a8"
             ],
             [
              0.3333333333333333,
              "#9c179e"
             ],
             [
              0.4444444444444444,
              "#bd3786"
             ],
             [
              0.5555555555555556,
              "#d8576b"
             ],
             [
              0.6666666666666666,
              "#ed7953"
             ],
             [
              0.7777777777777778,
              "#fb9f3a"
             ],
             [
              0.8888888888888888,
              "#fdca26"
             ],
             [
              1,
              "#f0f921"
             ]
            ],
            "type": "heatmapgl"
           }
          ],
          "histogram": [
           {
            "marker": {
             "pattern": {
              "fillmode": "overlay",
              "size": 10,
              "solidity": 0.2
             }
            },
            "type": "histogram"
           }
          ],
          "histogram2d": [
           {
            "colorbar": {
             "outlinewidth": 0,
             "ticks": ""
            },
            "colorscale": [
             [
              0,
              "#0d0887"
             ],
             [
              0.1111111111111111,
              "#46039f"
             ],
             [
              0.2222222222222222,
              "#7201a8"
             ],
             [
              0.3333333333333333,
              "#9c179e"
             ],
             [
              0.4444444444444444,
              "#bd3786"
             ],
             [
              0.5555555555555556,
              "#d8576b"
             ],
             [
              0.6666666666666666,
              "#ed7953"
             ],
             [
              0.7777777777777778,
              "#fb9f3a"
             ],
             [
              0.8888888888888888,
              "#fdca26"
             ],
             [
              1,
              "#f0f921"
             ]
            ],
            "type": "histogram2d"
           }
          ],
          "histogram2dcontour": [
           {
            "colorbar": {
             "outlinewidth": 0,
             "ticks": ""
            },
            "colorscale": [
             [
              0,
              "#0d0887"
             ],
             [
              0.1111111111111111,
              "#46039f"
             ],
             [
              0.2222222222222222,
              "#7201a8"
             ],
             [
              0.3333333333333333,
              "#9c179e"
             ],
             [
              0.4444444444444444,
              "#bd3786"
             ],
             [
              0.5555555555555556,
              "#d8576b"
             ],
             [
              0.6666666666666666,
              "#ed7953"
             ],
             [
              0.7777777777777778,
              "#fb9f3a"
             ],
             [
              0.8888888888888888,
              "#fdca26"
             ],
             [
              1,
              "#f0f921"
             ]
            ],
            "type": "histogram2dcontour"
           }
          ],
          "mesh3d": [
           {
            "colorbar": {
             "outlinewidth": 0,
             "ticks": ""
            },
            "type": "mesh3d"
           }
          ],
          "parcoords": [
           {
            "line": {
             "colorbar": {
              "outlinewidth": 0,
              "ticks": ""
             }
            },
            "type": "parcoords"
           }
          ],
          "pie": [
           {
            "automargin": true,
            "type": "pie"
           }
          ],
          "scatter": [
           {
            "fillpattern": {
             "fillmode": "overlay",
             "size": 10,
             "solidity": 0.2
            },
            "type": "scatter"
           }
          ],
          "scatter3d": [
           {
            "line": {
             "colorbar": {
              "outlinewidth": 0,
              "ticks": ""
             }
            },
            "marker": {
             "colorbar": {
              "outlinewidth": 0,
              "ticks": ""
             }
            },
            "type": "scatter3d"
           }
          ],
          "scattercarpet": [
           {
            "marker": {
             "colorbar": {
              "outlinewidth": 0,
              "ticks": ""
             }
            },
            "type": "scattercarpet"
           }
          ],
          "scattergeo": [
           {
            "marker": {
             "colorbar": {
              "outlinewidth": 0,
              "ticks": ""
             }
            },
            "type": "scattergeo"
           }
          ],
          "scattergl": [
           {
            "marker": {
             "colorbar": {
              "outlinewidth": 0,
              "ticks": ""
             }
            },
            "type": "scattergl"
           }
          ],
          "scattermapbox": [
           {
            "marker": {
             "colorbar": {
              "outlinewidth": 0,
              "ticks": ""
             }
            },
            "type": "scattermapbox"
           }
          ],
          "scatterpolar": [
           {
            "marker": {
             "colorbar": {
              "outlinewidth": 0,
              "ticks": ""
             }
            },
            "type": "scatterpolar"
           }
          ],
          "scatterpolargl": [
           {
            "marker": {
             "colorbar": {
              "outlinewidth": 0,
              "ticks": ""
             }
            },
            "type": "scatterpolargl"
           }
          ],
          "scatterternary": [
           {
            "marker": {
             "colorbar": {
              "outlinewidth": 0,
              "ticks": ""
             }
            },
            "type": "scatterternary"
           }
          ],
          "surface": [
           {
            "colorbar": {
             "outlinewidth": 0,
             "ticks": ""
            },
            "colorscale": [
             [
              0,
              "#0d0887"
             ],
             [
              0.1111111111111111,
              "#46039f"
             ],
             [
              0.2222222222222222,
              "#7201a8"
             ],
             [
              0.3333333333333333,
              "#9c179e"
             ],
             [
              0.4444444444444444,
              "#bd3786"
             ],
             [
              0.5555555555555556,
              "#d8576b"
             ],
             [
              0.6666666666666666,
              "#ed7953"
             ],
             [
              0.7777777777777778,
              "#fb9f3a"
             ],
             [
              0.8888888888888888,
              "#fdca26"
             ],
             [
              1,
              "#f0f921"
             ]
            ],
            "type": "surface"
           }
          ],
          "table": [
           {
            "cells": {
             "fill": {
              "color": "#EBF0F8"
             },
             "line": {
              "color": "white"
             }
            },
            "header": {
             "fill": {
              "color": "#C8D4E3"
             },
             "line": {
              "color": "white"
             }
            },
            "type": "table"
           }
          ]
         },
         "layout": {
          "annotationdefaults": {
           "arrowcolor": "#2a3f5f",
           "arrowhead": 0,
           "arrowwidth": 1
          },
          "autotypenumbers": "strict",
          "coloraxis": {
           "colorbar": {
            "outlinewidth": 0,
            "ticks": ""
           }
          },
          "colorscale": {
           "diverging": [
            [
             0,
             "#8e0152"
            ],
            [
             0.1,
             "#c51b7d"
            ],
            [
             0.2,
             "#de77ae"
            ],
            [
             0.3,
             "#f1b6da"
            ],
            [
             0.4,
             "#fde0ef"
            ],
            [
             0.5,
             "#f7f7f7"
            ],
            [
             0.6,
             "#e6f5d0"
            ],
            [
             0.7,
             "#b8e186"
            ],
            [
             0.8,
             "#7fbc41"
            ],
            [
             0.9,
             "#4d9221"
            ],
            [
             1,
             "#276419"
            ]
           ],
           "sequential": [
            [
             0,
             "#0d0887"
            ],
            [
             0.1111111111111111,
             "#46039f"
            ],
            [
             0.2222222222222222,
             "#7201a8"
            ],
            [
             0.3333333333333333,
             "#9c179e"
            ],
            [
             0.4444444444444444,
             "#bd3786"
            ],
            [
             0.5555555555555556,
             "#d8576b"
            ],
            [
             0.6666666666666666,
             "#ed7953"
            ],
            [
             0.7777777777777778,
             "#fb9f3a"
            ],
            [
             0.8888888888888888,
             "#fdca26"
            ],
            [
             1,
             "#f0f921"
            ]
           ],
           "sequentialminus": [
            [
             0,
             "#0d0887"
            ],
            [
             0.1111111111111111,
             "#46039f"
            ],
            [
             0.2222222222222222,
             "#7201a8"
            ],
            [
             0.3333333333333333,
             "#9c179e"
            ],
            [
             0.4444444444444444,
             "#bd3786"
            ],
            [
             0.5555555555555556,
             "#d8576b"
            ],
            [
             0.6666666666666666,
             "#ed7953"
            ],
            [
             0.7777777777777778,
             "#fb9f3a"
            ],
            [
             0.8888888888888888,
             "#fdca26"
            ],
            [
             1,
             "#f0f921"
            ]
           ]
          },
          "colorway": [
           "#636efa",
           "#EF553B",
           "#00cc96",
           "#ab63fa",
           "#FFA15A",
           "#19d3f3",
           "#FF6692",
           "#B6E880",
           "#FF97FF",
           "#FECB52"
          ],
          "font": {
           "color": "#2a3f5f"
          },
          "geo": {
           "bgcolor": "white",
           "lakecolor": "white",
           "landcolor": "#E5ECF6",
           "showlakes": true,
           "showland": true,
           "subunitcolor": "white"
          },
          "hoverlabel": {
           "align": "left"
          },
          "hovermode": "closest",
          "mapbox": {
           "style": "light"
          },
          "paper_bgcolor": "white",
          "plot_bgcolor": "#E5ECF6",
          "polar": {
           "angularaxis": {
            "gridcolor": "white",
            "linecolor": "white",
            "ticks": ""
           },
           "bgcolor": "#E5ECF6",
           "radialaxis": {
            "gridcolor": "white",
            "linecolor": "white",
            "ticks": ""
           }
          },
          "scene": {
           "xaxis": {
            "backgroundcolor": "#E5ECF6",
            "gridcolor": "white",
            "gridwidth": 2,
            "linecolor": "white",
            "showbackground": true,
            "ticks": "",
            "zerolinecolor": "white"
           },
           "yaxis": {
            "backgroundcolor": "#E5ECF6",
            "gridcolor": "white",
            "gridwidth": 2,
            "linecolor": "white",
            "showbackground": true,
            "ticks": "",
            "zerolinecolor": "white"
           },
           "zaxis": {
            "backgroundcolor": "#E5ECF6",
            "gridcolor": "white",
            "gridwidth": 2,
            "linecolor": "white",
            "showbackground": true,
            "ticks": "",
            "zerolinecolor": "white"
           }
          },
          "shapedefaults": {
           "line": {
            "color": "#2a3f5f"
           }
          },
          "ternary": {
           "aaxis": {
            "gridcolor": "white",
            "linecolor": "white",
            "ticks": ""
           },
           "baxis": {
            "gridcolor": "white",
            "linecolor": "white",
            "ticks": ""
           },
           "bgcolor": "#E5ECF6",
           "caxis": {
            "gridcolor": "white",
            "linecolor": "white",
            "ticks": ""
           }
          },
          "title": {
           "x": 0.05
          },
          "xaxis": {
           "automargin": true,
           "gridcolor": "white",
           "linecolor": "white",
           "ticks": "",
           "title": {
            "standoff": 15
           },
           "zerolinecolor": "white",
           "zerolinewidth": 2
          },
          "yaxis": {
           "automargin": true,
           "gridcolor": "white",
           "linecolor": "white",
           "ticks": "",
           "title": {
            "standoff": 15
           },
           "zerolinecolor": "white",
           "zerolinewidth": 2
          }
         }
        },
        "title": {
         "font": {
          "color": "#4D5663"
         },
         "text": "Top 10 Bigrams in Conservative titles"
        },
        "xaxis": {
         "gridcolor": "#E1E5ED",
         "linecolor": "black",
         "showgrid": true,
         "tickfont": {
          "color": "#4D5663"
         },
         "title": {
          "font": {
           "color": "#4D5663"
          },
          "text": ""
         },
         "zerolinecolor": "#E1E5ED"
        },
        "yaxis": {
         "gridcolor": "#E1E5ED",
         "linecolor": "black",
         "showgrid": true,
         "tickfont": {
          "color": "#4D5663"
         },
         "title": {
          "font": {
           "color": "#4D5663"
          },
          "text": "Count"
         },
         "zerolinecolor": "#E1E5ED"
        }
       }
      },
      "text/html": [
       "<div>                            <div id=\"8a6f08cd-6ef4-4599-a93a-0eed442bf4de\" class=\"plotly-graph-div\" style=\"height:525px; width:100%;\"></div>            <script type=\"text/javascript\">                require([\"plotly\"], function(Plotly) {                    window.PLOTLYENV=window.PLOTLYENV || {};\n",
       "                    window.PLOTLYENV.BASE_URL='https://plot.ly';                                    if (document.getElementById(\"8a6f08cd-6ef4-4599-a93a-0eed442bf4de\")) {                    Plotly.newPlot(                        \"8a6f08cd-6ef4-4599-a93a-0eed442bf4de\",                        [{\"marker\":{\"color\":\"rgba(219, 64, 82, 0.6)\",\"line\":{\"color\":\"rgba(219, 64, 82, 1.0)\",\"width\":1}},\"name\":\"count\",\"orientation\":\"h\",\"text\":\"\",\"x\":[30,31,31,32,33,33,41,42,44,48],\"y\":[\"white house\",\"invasion ukraine\",\"state union\",\"ronald reagan\",\"russian invasion\",\"truth social\",\"joe biden\",\"elon musk\",\"donald trump\",\"ron desantis\"],\"type\":\"bar\"}],                        {\"legend\":{\"bgcolor\":\"#F5F6F9\",\"font\":{\"color\":\"#4D5663\"}},\"paper_bgcolor\":\"#F5F6F9\",\"plot_bgcolor\":\"#F5F6F9\",\"template\":{\"data\":{\"barpolar\":[{\"marker\":{\"line\":{\"color\":\"#E5ECF6\",\"width\":0.5},\"pattern\":{\"fillmode\":\"overlay\",\"size\":10,\"solidity\":0.2}},\"type\":\"barpolar\"}],\"bar\":[{\"error_x\":{\"color\":\"#2a3f5f\"},\"error_y\":{\"color\":\"#2a3f5f\"},\"marker\":{\"line\":{\"color\":\"#E5ECF6\",\"width\":0.5},\"pattern\":{\"fillmode\":\"overlay\",\"size\":10,\"solidity\":0.2}},\"type\":\"bar\"}],\"carpet\":[{\"aaxis\":{\"endlinecolor\":\"#2a3f5f\",\"gridcolor\":\"white\",\"linecolor\":\"white\",\"minorgridcolor\":\"white\",\"startlinecolor\":\"#2a3f5f\"},\"baxis\":{\"endlinecolor\":\"#2a3f5f\",\"gridcolor\":\"white\",\"linecolor\":\"white\",\"minorgridcolor\":\"white\",\"startlinecolor\":\"#2a3f5f\"},\"type\":\"carpet\"}],\"choropleth\":[{\"colorbar\":{\"outlinewidth\":0,\"ticks\":\"\"},\"type\":\"choropleth\"}],\"contourcarpet\":[{\"colorbar\":{\"outlinewidth\":0,\"ticks\":\"\"},\"type\":\"contourcarpet\"}],\"contour\":[{\"colorbar\":{\"outlinewidth\":0,\"ticks\":\"\"},\"colorscale\":[[0.0,\"#0d0887\"],[0.1111111111111111,\"#46039f\"],[0.2222222222222222,\"#7201a8\"],[0.3333333333333333,\"#9c179e\"],[0.4444444444444444,\"#bd3786\"],[0.5555555555555556,\"#d8576b\"],[0.6666666666666666,\"#ed7953\"],[0.7777777777777778,\"#fb9f3a\"],[0.8888888888888888,\"#fdca26\"],[1.0,\"#f0f921\"]],\"type\":\"contour\"}],\"heatmapgl\":[{\"colorbar\":{\"outlinewidth\":0,\"ticks\":\"\"},\"colorscale\":[[0.0,\"#0d0887\"],[0.1111111111111111,\"#46039f\"],[0.2222222222222222,\"#7201a8\"],[0.3333333333333333,\"#9c179e\"],[0.4444444444444444,\"#bd3786\"],[0.5555555555555556,\"#d8576b\"],[0.6666666666666666,\"#ed7953\"],[0.7777777777777778,\"#fb9f3a\"],[0.8888888888888888,\"#fdca26\"],[1.0,\"#f0f921\"]],\"type\":\"heatmapgl\"}],\"heatmap\":[{\"colorbar\":{\"outlinewidth\":0,\"ticks\":\"\"},\"colorscale\":[[0.0,\"#0d0887\"],[0.1111111111111111,\"#46039f\"],[0.2222222222222222,\"#7201a8\"],[0.3333333333333333,\"#9c179e\"],[0.4444444444444444,\"#bd3786\"],[0.5555555555555556,\"#d8576b\"],[0.6666666666666666,\"#ed7953\"],[0.7777777777777778,\"#fb9f3a\"],[0.8888888888888888,\"#fdca26\"],[1.0,\"#f0f921\"]],\"type\":\"heatmap\"}],\"histogram2dcontour\":[{\"colorbar\":{\"outlinewidth\":0,\"ticks\":\"\"},\"colorscale\":[[0.0,\"#0d0887\"],[0.1111111111111111,\"#46039f\"],[0.2222222222222222,\"#7201a8\"],[0.3333333333333333,\"#9c179e\"],[0.4444444444444444,\"#bd3786\"],[0.5555555555555556,\"#d8576b\"],[0.6666666666666666,\"#ed7953\"],[0.7777777777777778,\"#fb9f3a\"],[0.8888888888888888,\"#fdca26\"],[1.0,\"#f0f921\"]],\"type\":\"histogram2dcontour\"}],\"histogram2d\":[{\"colorbar\":{\"outlinewidth\":0,\"ticks\":\"\"},\"colorscale\":[[0.0,\"#0d0887\"],[0.1111111111111111,\"#46039f\"],[0.2222222222222222,\"#7201a8\"],[0.3333333333333333,\"#9c179e\"],[0.4444444444444444,\"#bd3786\"],[0.5555555555555556,\"#d8576b\"],[0.6666666666666666,\"#ed7953\"],[0.7777777777777778,\"#fb9f3a\"],[0.8888888888888888,\"#fdca26\"],[1.0,\"#f0f921\"]],\"type\":\"histogram2d\"}],\"histogram\":[{\"marker\":{\"pattern\":{\"fillmode\":\"overlay\",\"size\":10,\"solidity\":0.2}},\"type\":\"histogram\"}],\"mesh3d\":[{\"colorbar\":{\"outlinewidth\":0,\"ticks\":\"\"},\"type\":\"mesh3d\"}],\"parcoords\":[{\"line\":{\"colorbar\":{\"outlinewidth\":0,\"ticks\":\"\"}},\"type\":\"parcoords\"}],\"pie\":[{\"automargin\":true,\"type\":\"pie\"}],\"scatter3d\":[{\"line\":{\"colorbar\":{\"outlinewidth\":0,\"ticks\":\"\"}},\"marker\":{\"colorbar\":{\"outlinewidth\":0,\"ticks\":\"\"}},\"type\":\"scatter3d\"}],\"scattercarpet\":[{\"marker\":{\"colorbar\":{\"outlinewidth\":0,\"ticks\":\"\"}},\"type\":\"scattercarpet\"}],\"scattergeo\":[{\"marker\":{\"colorbar\":{\"outlinewidth\":0,\"ticks\":\"\"}},\"type\":\"scattergeo\"}],\"scattergl\":[{\"marker\":{\"colorbar\":{\"outlinewidth\":0,\"ticks\":\"\"}},\"type\":\"scattergl\"}],\"scattermapbox\":[{\"marker\":{\"colorbar\":{\"outlinewidth\":0,\"ticks\":\"\"}},\"type\":\"scattermapbox\"}],\"scatterpolargl\":[{\"marker\":{\"colorbar\":{\"outlinewidth\":0,\"ticks\":\"\"}},\"type\":\"scatterpolargl\"}],\"scatterpolar\":[{\"marker\":{\"colorbar\":{\"outlinewidth\":0,\"ticks\":\"\"}},\"type\":\"scatterpolar\"}],\"scatter\":[{\"fillpattern\":{\"fillmode\":\"overlay\",\"size\":10,\"solidity\":0.2},\"type\":\"scatter\"}],\"scatterternary\":[{\"marker\":{\"colorbar\":{\"outlinewidth\":0,\"ticks\":\"\"}},\"type\":\"scatterternary\"}],\"surface\":[{\"colorbar\":{\"outlinewidth\":0,\"ticks\":\"\"},\"colorscale\":[[0.0,\"#0d0887\"],[0.1111111111111111,\"#46039f\"],[0.2222222222222222,\"#7201a8\"],[0.3333333333333333,\"#9c179e\"],[0.4444444444444444,\"#bd3786\"],[0.5555555555555556,\"#d8576b\"],[0.6666666666666666,\"#ed7953\"],[0.7777777777777778,\"#fb9f3a\"],[0.8888888888888888,\"#fdca26\"],[1.0,\"#f0f921\"]],\"type\":\"surface\"}],\"table\":[{\"cells\":{\"fill\":{\"color\":\"#EBF0F8\"},\"line\":{\"color\":\"white\"}},\"header\":{\"fill\":{\"color\":\"#C8D4E3\"},\"line\":{\"color\":\"white\"}},\"type\":\"table\"}]},\"layout\":{\"annotationdefaults\":{\"arrowcolor\":\"#2a3f5f\",\"arrowhead\":0,\"arrowwidth\":1},\"autotypenumbers\":\"strict\",\"coloraxis\":{\"colorbar\":{\"outlinewidth\":0,\"ticks\":\"\"}},\"colorscale\":{\"diverging\":[[0,\"#8e0152\"],[0.1,\"#c51b7d\"],[0.2,\"#de77ae\"],[0.3,\"#f1b6da\"],[0.4,\"#fde0ef\"],[0.5,\"#f7f7f7\"],[0.6,\"#e6f5d0\"],[0.7,\"#b8e186\"],[0.8,\"#7fbc41\"],[0.9,\"#4d9221\"],[1,\"#276419\"]],\"sequential\":[[0.0,\"#0d0887\"],[0.1111111111111111,\"#46039f\"],[0.2222222222222222,\"#7201a8\"],[0.3333333333333333,\"#9c179e\"],[0.4444444444444444,\"#bd3786\"],[0.5555555555555556,\"#d8576b\"],[0.6666666666666666,\"#ed7953\"],[0.7777777777777778,\"#fb9f3a\"],[0.8888888888888888,\"#fdca26\"],[1.0,\"#f0f921\"]],\"sequentialminus\":[[0.0,\"#0d0887\"],[0.1111111111111111,\"#46039f\"],[0.2222222222222222,\"#7201a8\"],[0.3333333333333333,\"#9c179e\"],[0.4444444444444444,\"#bd3786\"],[0.5555555555555556,\"#d8576b\"],[0.6666666666666666,\"#ed7953\"],[0.7777777777777778,\"#fb9f3a\"],[0.8888888888888888,\"#fdca26\"],[1.0,\"#f0f921\"]]},\"colorway\":[\"#636efa\",\"#EF553B\",\"#00cc96\",\"#ab63fa\",\"#FFA15A\",\"#19d3f3\",\"#FF6692\",\"#B6E880\",\"#FF97FF\",\"#FECB52\"],\"font\":{\"color\":\"#2a3f5f\"},\"geo\":{\"bgcolor\":\"white\",\"lakecolor\":\"white\",\"landcolor\":\"#E5ECF6\",\"showlakes\":true,\"showland\":true,\"subunitcolor\":\"white\"},\"hoverlabel\":{\"align\":\"left\"},\"hovermode\":\"closest\",\"mapbox\":{\"style\":\"light\"},\"paper_bgcolor\":\"white\",\"plot_bgcolor\":\"#E5ECF6\",\"polar\":{\"angularaxis\":{\"gridcolor\":\"white\",\"linecolor\":\"white\",\"ticks\":\"\"},\"bgcolor\":\"#E5ECF6\",\"radialaxis\":{\"gridcolor\":\"white\",\"linecolor\":\"white\",\"ticks\":\"\"}},\"scene\":{\"xaxis\":{\"backgroundcolor\":\"#E5ECF6\",\"gridcolor\":\"white\",\"gridwidth\":2,\"linecolor\":\"white\",\"showbackground\":true,\"ticks\":\"\",\"zerolinecolor\":\"white\"},\"yaxis\":{\"backgroundcolor\":\"#E5ECF6\",\"gridcolor\":\"white\",\"gridwidth\":2,\"linecolor\":\"white\",\"showbackground\":true,\"ticks\":\"\",\"zerolinecolor\":\"white\"},\"zaxis\":{\"backgroundcolor\":\"#E5ECF6\",\"gridcolor\":\"white\",\"gridwidth\":2,\"linecolor\":\"white\",\"showbackground\":true,\"ticks\":\"\",\"zerolinecolor\":\"white\"}},\"shapedefaults\":{\"line\":{\"color\":\"#2a3f5f\"}},\"ternary\":{\"aaxis\":{\"gridcolor\":\"white\",\"linecolor\":\"white\",\"ticks\":\"\"},\"baxis\":{\"gridcolor\":\"white\",\"linecolor\":\"white\",\"ticks\":\"\"},\"bgcolor\":\"#E5ECF6\",\"caxis\":{\"gridcolor\":\"white\",\"linecolor\":\"white\",\"ticks\":\"\"}},\"title\":{\"x\":0.05},\"xaxis\":{\"automargin\":true,\"gridcolor\":\"white\",\"linecolor\":\"white\",\"ticks\":\"\",\"title\":{\"standoff\":15},\"zerolinecolor\":\"white\",\"zerolinewidth\":2},\"yaxis\":{\"automargin\":true,\"gridcolor\":\"white\",\"linecolor\":\"white\",\"ticks\":\"\",\"title\":{\"standoff\":15},\"zerolinecolor\":\"white\",\"zerolinewidth\":2}}},\"title\":{\"font\":{\"color\":\"#4D5663\"},\"text\":\"Top 10 Bigrams in Conservative titles\"},\"xaxis\":{\"gridcolor\":\"#E1E5ED\",\"linecolor\":\"black\",\"showgrid\":true,\"tickfont\":{\"color\":\"#4D5663\"},\"title\":{\"font\":{\"color\":\"#4D5663\"},\"text\":\"\"},\"zerolinecolor\":\"#E1E5ED\"},\"yaxis\":{\"gridcolor\":\"#E1E5ED\",\"linecolor\":\"black\",\"showgrid\":true,\"tickfont\":{\"color\":\"#4D5663\"},\"title\":{\"font\":{\"color\":\"#4D5663\"},\"text\":\"Count\"},\"zerolinecolor\":\"#E1E5ED\"}},                        {\"showLink\": true, \"linkText\": \"Export to plot.ly\", \"plotlyServerURL\": \"https://plot.ly\", \"responsive\": true}                    ).then(function(){\n",
       "                            \n",
       "var gd = document.getElementById('8a6f08cd-6ef4-4599-a93a-0eed442bf4de');\n",
       "var x = new MutationObserver(function (mutations, observer) {{\n",
       "        var display = window.getComputedStyle(gd).display;\n",
       "        if (!display || display === 'none') {{\n",
       "            console.log([gd, 'removed!']);\n",
       "            Plotly.purge(gd);\n",
       "            observer.disconnect();\n",
       "        }}\n",
       "}});\n",
       "\n",
       "// Listen for the removal of the full notebook cells\n",
       "var notebookContainer = gd.closest('#notebook-container');\n",
       "if (notebookContainer) {{\n",
       "    x.observe(notebookContainer, {childList: true});\n",
       "}}\n",
       "\n",
       "// Listen for the clearing of the current output cell\n",
       "var outputEl = gd.closest('.output');\n",
       "if (outputEl) {{\n",
       "    x.observe(outputEl, {childList: true});\n",
       "}}\n",
       "\n",
       "                        })                };                });            </script>        </div>"
      ]
     },
     "metadata": {},
     "output_type": "display_data"
    },
    {
     "data": {
      "application/vnd.plotly.v1+json": {
       "config": {
        "linkText": "Export to plot.ly",
        "plotlyServerURL": "https://plot.ly",
        "showLink": true
       },
       "data": [
        {
         "marker": {
          "color": "rgba(0, 128, 0, 0.6)",
          "line": {
           "color": "rgba(0, 128, 0, 1.0)",
           "width": 1
          }
         },
         "name": "count",
         "orientation": "h",
         "text": "",
         "type": "bar",
         "x": [
          34,
          37,
          44,
          45,
          47,
          52,
          56,
          63,
          66,
          83
         ],
         "y": [
          "working class",
          "communist party",
          "joe biden",
          "fox news",
          "social democrat",
          "voting right",
          "donald trump",
          "white house",
          "social democracy",
          "supreme court"
         ]
        }
       ],
       "layout": {
        "legend": {
         "bgcolor": "#F5F6F9",
         "font": {
          "color": "#4D5663"
         }
        },
        "paper_bgcolor": "#F5F6F9",
        "plot_bgcolor": "#F5F6F9",
        "template": {
         "data": {
          "bar": [
           {
            "error_x": {
             "color": "#2a3f5f"
            },
            "error_y": {
             "color": "#2a3f5f"
            },
            "marker": {
             "line": {
              "color": "#E5ECF6",
              "width": 0.5
             },
             "pattern": {
              "fillmode": "overlay",
              "size": 10,
              "solidity": 0.2
             }
            },
            "type": "bar"
           }
          ],
          "barpolar": [
           {
            "marker": {
             "line": {
              "color": "#E5ECF6",
              "width": 0.5
             },
             "pattern": {
              "fillmode": "overlay",
              "size": 10,
              "solidity": 0.2
             }
            },
            "type": "barpolar"
           }
          ],
          "carpet": [
           {
            "aaxis": {
             "endlinecolor": "#2a3f5f",
             "gridcolor": "white",
             "linecolor": "white",
             "minorgridcolor": "white",
             "startlinecolor": "#2a3f5f"
            },
            "baxis": {
             "endlinecolor": "#2a3f5f",
             "gridcolor": "white",
             "linecolor": "white",
             "minorgridcolor": "white",
             "startlinecolor": "#2a3f5f"
            },
            "type": "carpet"
           }
          ],
          "choropleth": [
           {
            "colorbar": {
             "outlinewidth": 0,
             "ticks": ""
            },
            "type": "choropleth"
           }
          ],
          "contour": [
           {
            "colorbar": {
             "outlinewidth": 0,
             "ticks": ""
            },
            "colorscale": [
             [
              0,
              "#0d0887"
             ],
             [
              0.1111111111111111,
              "#46039f"
             ],
             [
              0.2222222222222222,
              "#7201a8"
             ],
             [
              0.3333333333333333,
              "#9c179e"
             ],
             [
              0.4444444444444444,
              "#bd3786"
             ],
             [
              0.5555555555555556,
              "#d8576b"
             ],
             [
              0.6666666666666666,
              "#ed7953"
             ],
             [
              0.7777777777777778,
              "#fb9f3a"
             ],
             [
              0.8888888888888888,
              "#fdca26"
             ],
             [
              1,
              "#f0f921"
             ]
            ],
            "type": "contour"
           }
          ],
          "contourcarpet": [
           {
            "colorbar": {
             "outlinewidth": 0,
             "ticks": ""
            },
            "type": "contourcarpet"
           }
          ],
          "heatmap": [
           {
            "colorbar": {
             "outlinewidth": 0,
             "ticks": ""
            },
            "colorscale": [
             [
              0,
              "#0d0887"
             ],
             [
              0.1111111111111111,
              "#46039f"
             ],
             [
              0.2222222222222222,
              "#7201a8"
             ],
             [
              0.3333333333333333,
              "#9c179e"
             ],
             [
              0.4444444444444444,
              "#bd3786"
             ],
             [
              0.5555555555555556,
              "#d8576b"
             ],
             [
              0.6666666666666666,
              "#ed7953"
             ],
             [
              0.7777777777777778,
              "#fb9f3a"
             ],
             [
              0.8888888888888888,
              "#fdca26"
             ],
             [
              1,
              "#f0f921"
             ]
            ],
            "type": "heatmap"
           }
          ],
          "heatmapgl": [
           {
            "colorbar": {
             "outlinewidth": 0,
             "ticks": ""
            },
            "colorscale": [
             [
              0,
              "#0d0887"
             ],
             [
              0.1111111111111111,
              "#46039f"
             ],
             [
              0.2222222222222222,
              "#7201a8"
             ],
             [
              0.3333333333333333,
              "#9c179e"
             ],
             [
              0.4444444444444444,
              "#bd3786"
             ],
             [
              0.5555555555555556,
              "#d8576b"
             ],
             [
              0.6666666666666666,
              "#ed7953"
             ],
             [
              0.7777777777777778,
              "#fb9f3a"
             ],
             [
              0.8888888888888888,
              "#fdca26"
             ],
             [
              1,
              "#f0f921"
             ]
            ],
            "type": "heatmapgl"
           }
          ],
          "histogram": [
           {
            "marker": {
             "pattern": {
              "fillmode": "overlay",
              "size": 10,
              "solidity": 0.2
             }
            },
            "type": "histogram"
           }
          ],
          "histogram2d": [
           {
            "colorbar": {
             "outlinewidth": 0,
             "ticks": ""
            },
            "colorscale": [
             [
              0,
              "#0d0887"
             ],
             [
              0.1111111111111111,
              "#46039f"
             ],
             [
              0.2222222222222222,
              "#7201a8"
             ],
             [
              0.3333333333333333,
              "#9c179e"
             ],
             [
              0.4444444444444444,
              "#bd3786"
             ],
             [
              0.5555555555555556,
              "#d8576b"
             ],
             [
              0.6666666666666666,
              "#ed7953"
             ],
             [
              0.7777777777777778,
              "#fb9f3a"
             ],
             [
              0.8888888888888888,
              "#fdca26"
             ],
             [
              1,
              "#f0f921"
             ]
            ],
            "type": "histogram2d"
           }
          ],
          "histogram2dcontour": [
           {
            "colorbar": {
             "outlinewidth": 0,
             "ticks": ""
            },
            "colorscale": [
             [
              0,
              "#0d0887"
             ],
             [
              0.1111111111111111,
              "#46039f"
             ],
             [
              0.2222222222222222,
              "#7201a8"
             ],
             [
              0.3333333333333333,
              "#9c179e"
             ],
             [
              0.4444444444444444,
              "#bd3786"
             ],
             [
              0.5555555555555556,
              "#d8576b"
             ],
             [
              0.6666666666666666,
              "#ed7953"
             ],
             [
              0.7777777777777778,
              "#fb9f3a"
             ],
             [
              0.8888888888888888,
              "#fdca26"
             ],
             [
              1,
              "#f0f921"
             ]
            ],
            "type": "histogram2dcontour"
           }
          ],
          "mesh3d": [
           {
            "colorbar": {
             "outlinewidth": 0,
             "ticks": ""
            },
            "type": "mesh3d"
           }
          ],
          "parcoords": [
           {
            "line": {
             "colorbar": {
              "outlinewidth": 0,
              "ticks": ""
             }
            },
            "type": "parcoords"
           }
          ],
          "pie": [
           {
            "automargin": true,
            "type": "pie"
           }
          ],
          "scatter": [
           {
            "fillpattern": {
             "fillmode": "overlay",
             "size": 10,
             "solidity": 0.2
            },
            "type": "scatter"
           }
          ],
          "scatter3d": [
           {
            "line": {
             "colorbar": {
              "outlinewidth": 0,
              "ticks": ""
             }
            },
            "marker": {
             "colorbar": {
              "outlinewidth": 0,
              "ticks": ""
             }
            },
            "type": "scatter3d"
           }
          ],
          "scattercarpet": [
           {
            "marker": {
             "colorbar": {
              "outlinewidth": 0,
              "ticks": ""
             }
            },
            "type": "scattercarpet"
           }
          ],
          "scattergeo": [
           {
            "marker": {
             "colorbar": {
              "outlinewidth": 0,
              "ticks": ""
             }
            },
            "type": "scattergeo"
           }
          ],
          "scattergl": [
           {
            "marker": {
             "colorbar": {
              "outlinewidth": 0,
              "ticks": ""
             }
            },
            "type": "scattergl"
           }
          ],
          "scattermapbox": [
           {
            "marker": {
             "colorbar": {
              "outlinewidth": 0,
              "ticks": ""
             }
            },
            "type": "scattermapbox"
           }
          ],
          "scatterpolar": [
           {
            "marker": {
             "colorbar": {
              "outlinewidth": 0,
              "ticks": ""
             }
            },
            "type": "scatterpolar"
           }
          ],
          "scatterpolargl": [
           {
            "marker": {
             "colorbar": {
              "outlinewidth": 0,
              "ticks": ""
             }
            },
            "type": "scatterpolargl"
           }
          ],
          "scatterternary": [
           {
            "marker": {
             "colorbar": {
              "outlinewidth": 0,
              "ticks": ""
             }
            },
            "type": "scatterternary"
           }
          ],
          "surface": [
           {
            "colorbar": {
             "outlinewidth": 0,
             "ticks": ""
            },
            "colorscale": [
             [
              0,
              "#0d0887"
             ],
             [
              0.1111111111111111,
              "#46039f"
             ],
             [
              0.2222222222222222,
              "#7201a8"
             ],
             [
              0.3333333333333333,
              "#9c179e"
             ],
             [
              0.4444444444444444,
              "#bd3786"
             ],
             [
              0.5555555555555556,
              "#d8576b"
             ],
             [
              0.6666666666666666,
              "#ed7953"
             ],
             [
              0.7777777777777778,
              "#fb9f3a"
             ],
             [
              0.8888888888888888,
              "#fdca26"
             ],
             [
              1,
              "#f0f921"
             ]
            ],
            "type": "surface"
           }
          ],
          "table": [
           {
            "cells": {
             "fill": {
              "color": "#EBF0F8"
             },
             "line": {
              "color": "white"
             }
            },
            "header": {
             "fill": {
              "color": "#C8D4E3"
             },
             "line": {
              "color": "white"
             }
            },
            "type": "table"
           }
          ]
         },
         "layout": {
          "annotationdefaults": {
           "arrowcolor": "#2a3f5f",
           "arrowhead": 0,
           "arrowwidth": 1
          },
          "autotypenumbers": "strict",
          "coloraxis": {
           "colorbar": {
            "outlinewidth": 0,
            "ticks": ""
           }
          },
          "colorscale": {
           "diverging": [
            [
             0,
             "#8e0152"
            ],
            [
             0.1,
             "#c51b7d"
            ],
            [
             0.2,
             "#de77ae"
            ],
            [
             0.3,
             "#f1b6da"
            ],
            [
             0.4,
             "#fde0ef"
            ],
            [
             0.5,
             "#f7f7f7"
            ],
            [
             0.6,
             "#e6f5d0"
            ],
            [
             0.7,
             "#b8e186"
            ],
            [
             0.8,
             "#7fbc41"
            ],
            [
             0.9,
             "#4d9221"
            ],
            [
             1,
             "#276419"
            ]
           ],
           "sequential": [
            [
             0,
             "#0d0887"
            ],
            [
             0.1111111111111111,
             "#46039f"
            ],
            [
             0.2222222222222222,
             "#7201a8"
            ],
            [
             0.3333333333333333,
             "#9c179e"
            ],
            [
             0.4444444444444444,
             "#bd3786"
            ],
            [
             0.5555555555555556,
             "#d8576b"
            ],
            [
             0.6666666666666666,
             "#ed7953"
            ],
            [
             0.7777777777777778,
             "#fb9f3a"
            ],
            [
             0.8888888888888888,
             "#fdca26"
            ],
            [
             1,
             "#f0f921"
            ]
           ],
           "sequentialminus": [
            [
             0,
             "#0d0887"
            ],
            [
             0.1111111111111111,
             "#46039f"
            ],
            [
             0.2222222222222222,
             "#7201a8"
            ],
            [
             0.3333333333333333,
             "#9c179e"
            ],
            [
             0.4444444444444444,
             "#bd3786"
            ],
            [
             0.5555555555555556,
             "#d8576b"
            ],
            [
             0.6666666666666666,
             "#ed7953"
            ],
            [
             0.7777777777777778,
             "#fb9f3a"
            ],
            [
             0.8888888888888888,
             "#fdca26"
            ],
            [
             1,
             "#f0f921"
            ]
           ]
          },
          "colorway": [
           "#636efa",
           "#EF553B",
           "#00cc96",
           "#ab63fa",
           "#FFA15A",
           "#19d3f3",
           "#FF6692",
           "#B6E880",
           "#FF97FF",
           "#FECB52"
          ],
          "font": {
           "color": "#2a3f5f"
          },
          "geo": {
           "bgcolor": "white",
           "lakecolor": "white",
           "landcolor": "#E5ECF6",
           "showlakes": true,
           "showland": true,
           "subunitcolor": "white"
          },
          "hoverlabel": {
           "align": "left"
          },
          "hovermode": "closest",
          "mapbox": {
           "style": "light"
          },
          "paper_bgcolor": "white",
          "plot_bgcolor": "#E5ECF6",
          "polar": {
           "angularaxis": {
            "gridcolor": "white",
            "linecolor": "white",
            "ticks": ""
           },
           "bgcolor": "#E5ECF6",
           "radialaxis": {
            "gridcolor": "white",
            "linecolor": "white",
            "ticks": ""
           }
          },
          "scene": {
           "xaxis": {
            "backgroundcolor": "#E5ECF6",
            "gridcolor": "white",
            "gridwidth": 2,
            "linecolor": "white",
            "showbackground": true,
            "ticks": "",
            "zerolinecolor": "white"
           },
           "yaxis": {
            "backgroundcolor": "#E5ECF6",
            "gridcolor": "white",
            "gridwidth": 2,
            "linecolor": "white",
            "showbackground": true,
            "ticks": "",
            "zerolinecolor": "white"
           },
           "zaxis": {
            "backgroundcolor": "#E5ECF6",
            "gridcolor": "white",
            "gridwidth": 2,
            "linecolor": "white",
            "showbackground": true,
            "ticks": "",
            "zerolinecolor": "white"
           }
          },
          "shapedefaults": {
           "line": {
            "color": "#2a3f5f"
           }
          },
          "ternary": {
           "aaxis": {
            "gridcolor": "white",
            "linecolor": "white",
            "ticks": ""
           },
           "baxis": {
            "gridcolor": "white",
            "linecolor": "white",
            "ticks": ""
           },
           "bgcolor": "#E5ECF6",
           "caxis": {
            "gridcolor": "white",
            "linecolor": "white",
            "ticks": ""
           }
          },
          "title": {
           "x": 0.05
          },
          "xaxis": {
           "automargin": true,
           "gridcolor": "white",
           "linecolor": "white",
           "ticks": "",
           "title": {
            "standoff": 15
           },
           "zerolinecolor": "white",
           "zerolinewidth": 2
          },
          "yaxis": {
           "automargin": true,
           "gridcolor": "white",
           "linecolor": "white",
           "ticks": "",
           "title": {
            "standoff": 15
           },
           "zerolinecolor": "white",
           "zerolinewidth": 2
          }
         }
        },
        "title": {
         "font": {
          "color": "#4D5663"
         },
         "text": "Top 10 Bigrams in Liberal titles"
        },
        "xaxis": {
         "gridcolor": "#E1E5ED",
         "linecolor": "black",
         "showgrid": true,
         "tickfont": {
          "color": "#4D5663"
         },
         "title": {
          "font": {
           "color": "#4D5663"
          },
          "text": ""
         },
         "zerolinecolor": "#E1E5ED"
        },
        "yaxis": {
         "gridcolor": "#E1E5ED",
         "linecolor": "black",
         "showgrid": true,
         "tickfont": {
          "color": "#4D5663"
         },
         "title": {
          "font": {
           "color": "#4D5663"
          },
          "text": "Count"
         },
         "zerolinecolor": "#E1E5ED"
        }
       }
      },
      "text/html": [
       "<div>                            <div id=\"a288a6f6-a956-4f25-86e1-6725684c035a\" class=\"plotly-graph-div\" style=\"height:525px; width:100%;\"></div>            <script type=\"text/javascript\">                require([\"plotly\"], function(Plotly) {                    window.PLOTLYENV=window.PLOTLYENV || {};\n",
       "                    window.PLOTLYENV.BASE_URL='https://plot.ly';                                    if (document.getElementById(\"a288a6f6-a956-4f25-86e1-6725684c035a\")) {                    Plotly.newPlot(                        \"a288a6f6-a956-4f25-86e1-6725684c035a\",                        [{\"marker\":{\"color\":\"rgba(0, 128, 0, 0.6)\",\"line\":{\"color\":\"rgba(0, 128, 0, 1.0)\",\"width\":1}},\"name\":\"count\",\"orientation\":\"h\",\"text\":\"\",\"x\":[34,37,44,45,47,52,56,63,66,83],\"y\":[\"working class\",\"communist party\",\"joe biden\",\"fox news\",\"social democrat\",\"voting right\",\"donald trump\",\"white house\",\"social democracy\",\"supreme court\"],\"type\":\"bar\"}],                        {\"legend\":{\"bgcolor\":\"#F5F6F9\",\"font\":{\"color\":\"#4D5663\"}},\"paper_bgcolor\":\"#F5F6F9\",\"plot_bgcolor\":\"#F5F6F9\",\"template\":{\"data\":{\"barpolar\":[{\"marker\":{\"line\":{\"color\":\"#E5ECF6\",\"width\":0.5},\"pattern\":{\"fillmode\":\"overlay\",\"size\":10,\"solidity\":0.2}},\"type\":\"barpolar\"}],\"bar\":[{\"error_x\":{\"color\":\"#2a3f5f\"},\"error_y\":{\"color\":\"#2a3f5f\"},\"marker\":{\"line\":{\"color\":\"#E5ECF6\",\"width\":0.5},\"pattern\":{\"fillmode\":\"overlay\",\"size\":10,\"solidity\":0.2}},\"type\":\"bar\"}],\"carpet\":[{\"aaxis\":{\"endlinecolor\":\"#2a3f5f\",\"gridcolor\":\"white\",\"linecolor\":\"white\",\"minorgridcolor\":\"white\",\"startlinecolor\":\"#2a3f5f\"},\"baxis\":{\"endlinecolor\":\"#2a3f5f\",\"gridcolor\":\"white\",\"linecolor\":\"white\",\"minorgridcolor\":\"white\",\"startlinecolor\":\"#2a3f5f\"},\"type\":\"carpet\"}],\"choropleth\":[{\"colorbar\":{\"outlinewidth\":0,\"ticks\":\"\"},\"type\":\"choropleth\"}],\"contourcarpet\":[{\"colorbar\":{\"outlinewidth\":0,\"ticks\":\"\"},\"type\":\"contourcarpet\"}],\"contour\":[{\"colorbar\":{\"outlinewidth\":0,\"ticks\":\"\"},\"colorscale\":[[0.0,\"#0d0887\"],[0.1111111111111111,\"#46039f\"],[0.2222222222222222,\"#7201a8\"],[0.3333333333333333,\"#9c179e\"],[0.4444444444444444,\"#bd3786\"],[0.5555555555555556,\"#d8576b\"],[0.6666666666666666,\"#ed7953\"],[0.7777777777777778,\"#fb9f3a\"],[0.8888888888888888,\"#fdca26\"],[1.0,\"#f0f921\"]],\"type\":\"contour\"}],\"heatmapgl\":[{\"colorbar\":{\"outlinewidth\":0,\"ticks\":\"\"},\"colorscale\":[[0.0,\"#0d0887\"],[0.1111111111111111,\"#46039f\"],[0.2222222222222222,\"#7201a8\"],[0.3333333333333333,\"#9c179e\"],[0.4444444444444444,\"#bd3786\"],[0.5555555555555556,\"#d8576b\"],[0.6666666666666666,\"#ed7953\"],[0.7777777777777778,\"#fb9f3a\"],[0.8888888888888888,\"#fdca26\"],[1.0,\"#f0f921\"]],\"type\":\"heatmapgl\"}],\"heatmap\":[{\"colorbar\":{\"outlinewidth\":0,\"ticks\":\"\"},\"colorscale\":[[0.0,\"#0d0887\"],[0.1111111111111111,\"#46039f\"],[0.2222222222222222,\"#7201a8\"],[0.3333333333333333,\"#9c179e\"],[0.4444444444444444,\"#bd3786\"],[0.5555555555555556,\"#d8576b\"],[0.6666666666666666,\"#ed7953\"],[0.7777777777777778,\"#fb9f3a\"],[0.8888888888888888,\"#fdca26\"],[1.0,\"#f0f921\"]],\"type\":\"heatmap\"}],\"histogram2dcontour\":[{\"colorbar\":{\"outlinewidth\":0,\"ticks\":\"\"},\"colorscale\":[[0.0,\"#0d0887\"],[0.1111111111111111,\"#46039f\"],[0.2222222222222222,\"#7201a8\"],[0.3333333333333333,\"#9c179e\"],[0.4444444444444444,\"#bd3786\"],[0.5555555555555556,\"#d8576b\"],[0.6666666666666666,\"#ed7953\"],[0.7777777777777778,\"#fb9f3a\"],[0.8888888888888888,\"#fdca26\"],[1.0,\"#f0f921\"]],\"type\":\"histogram2dcontour\"}],\"histogram2d\":[{\"colorbar\":{\"outlinewidth\":0,\"ticks\":\"\"},\"colorscale\":[[0.0,\"#0d0887\"],[0.1111111111111111,\"#46039f\"],[0.2222222222222222,\"#7201a8\"],[0.3333333333333333,\"#9c179e\"],[0.4444444444444444,\"#bd3786\"],[0.5555555555555556,\"#d8576b\"],[0.6666666666666666,\"#ed7953\"],[0.7777777777777778,\"#fb9f3a\"],[0.8888888888888888,\"#fdca26\"],[1.0,\"#f0f921\"]],\"type\":\"histogram2d\"}],\"histogram\":[{\"marker\":{\"pattern\":{\"fillmode\":\"overlay\",\"size\":10,\"solidity\":0.2}},\"type\":\"histogram\"}],\"mesh3d\":[{\"colorbar\":{\"outlinewidth\":0,\"ticks\":\"\"},\"type\":\"mesh3d\"}],\"parcoords\":[{\"line\":{\"colorbar\":{\"outlinewidth\":0,\"ticks\":\"\"}},\"type\":\"parcoords\"}],\"pie\":[{\"automargin\":true,\"type\":\"pie\"}],\"scatter3d\":[{\"line\":{\"colorbar\":{\"outlinewidth\":0,\"ticks\":\"\"}},\"marker\":{\"colorbar\":{\"outlinewidth\":0,\"ticks\":\"\"}},\"type\":\"scatter3d\"}],\"scattercarpet\":[{\"marker\":{\"colorbar\":{\"outlinewidth\":0,\"ticks\":\"\"}},\"type\":\"scattercarpet\"}],\"scattergeo\":[{\"marker\":{\"colorbar\":{\"outlinewidth\":0,\"ticks\":\"\"}},\"type\":\"scattergeo\"}],\"scattergl\":[{\"marker\":{\"colorbar\":{\"outlinewidth\":0,\"ticks\":\"\"}},\"type\":\"scattergl\"}],\"scattermapbox\":[{\"marker\":{\"colorbar\":{\"outlinewidth\":0,\"ticks\":\"\"}},\"type\":\"scattermapbox\"}],\"scatterpolargl\":[{\"marker\":{\"colorbar\":{\"outlinewidth\":0,\"ticks\":\"\"}},\"type\":\"scatterpolargl\"}],\"scatterpolar\":[{\"marker\":{\"colorbar\":{\"outlinewidth\":0,\"ticks\":\"\"}},\"type\":\"scatterpolar\"}],\"scatter\":[{\"fillpattern\":{\"fillmode\":\"overlay\",\"size\":10,\"solidity\":0.2},\"type\":\"scatter\"}],\"scatterternary\":[{\"marker\":{\"colorbar\":{\"outlinewidth\":0,\"ticks\":\"\"}},\"type\":\"scatterternary\"}],\"surface\":[{\"colorbar\":{\"outlinewidth\":0,\"ticks\":\"\"},\"colorscale\":[[0.0,\"#0d0887\"],[0.1111111111111111,\"#46039f\"],[0.2222222222222222,\"#7201a8\"],[0.3333333333333333,\"#9c179e\"],[0.4444444444444444,\"#bd3786\"],[0.5555555555555556,\"#d8576b\"],[0.6666666666666666,\"#ed7953\"],[0.7777777777777778,\"#fb9f3a\"],[0.8888888888888888,\"#fdca26\"],[1.0,\"#f0f921\"]],\"type\":\"surface\"}],\"table\":[{\"cells\":{\"fill\":{\"color\":\"#EBF0F8\"},\"line\":{\"color\":\"white\"}},\"header\":{\"fill\":{\"color\":\"#C8D4E3\"},\"line\":{\"color\":\"white\"}},\"type\":\"table\"}]},\"layout\":{\"annotationdefaults\":{\"arrowcolor\":\"#2a3f5f\",\"arrowhead\":0,\"arrowwidth\":1},\"autotypenumbers\":\"strict\",\"coloraxis\":{\"colorbar\":{\"outlinewidth\":0,\"ticks\":\"\"}},\"colorscale\":{\"diverging\":[[0,\"#8e0152\"],[0.1,\"#c51b7d\"],[0.2,\"#de77ae\"],[0.3,\"#f1b6da\"],[0.4,\"#fde0ef\"],[0.5,\"#f7f7f7\"],[0.6,\"#e6f5d0\"],[0.7,\"#b8e186\"],[0.8,\"#7fbc41\"],[0.9,\"#4d9221\"],[1,\"#276419\"]],\"sequential\":[[0.0,\"#0d0887\"],[0.1111111111111111,\"#46039f\"],[0.2222222222222222,\"#7201a8\"],[0.3333333333333333,\"#9c179e\"],[0.4444444444444444,\"#bd3786\"],[0.5555555555555556,\"#d8576b\"],[0.6666666666666666,\"#ed7953\"],[0.7777777777777778,\"#fb9f3a\"],[0.8888888888888888,\"#fdca26\"],[1.0,\"#f0f921\"]],\"sequentialminus\":[[0.0,\"#0d0887\"],[0.1111111111111111,\"#46039f\"],[0.2222222222222222,\"#7201a8\"],[0.3333333333333333,\"#9c179e\"],[0.4444444444444444,\"#bd3786\"],[0.5555555555555556,\"#d8576b\"],[0.6666666666666666,\"#ed7953\"],[0.7777777777777778,\"#fb9f3a\"],[0.8888888888888888,\"#fdca26\"],[1.0,\"#f0f921\"]]},\"colorway\":[\"#636efa\",\"#EF553B\",\"#00cc96\",\"#ab63fa\",\"#FFA15A\",\"#19d3f3\",\"#FF6692\",\"#B6E880\",\"#FF97FF\",\"#FECB52\"],\"font\":{\"color\":\"#2a3f5f\"},\"geo\":{\"bgcolor\":\"white\",\"lakecolor\":\"white\",\"landcolor\":\"#E5ECF6\",\"showlakes\":true,\"showland\":true,\"subunitcolor\":\"white\"},\"hoverlabel\":{\"align\":\"left\"},\"hovermode\":\"closest\",\"mapbox\":{\"style\":\"light\"},\"paper_bgcolor\":\"white\",\"plot_bgcolor\":\"#E5ECF6\",\"polar\":{\"angularaxis\":{\"gridcolor\":\"white\",\"linecolor\":\"white\",\"ticks\":\"\"},\"bgcolor\":\"#E5ECF6\",\"radialaxis\":{\"gridcolor\":\"white\",\"linecolor\":\"white\",\"ticks\":\"\"}},\"scene\":{\"xaxis\":{\"backgroundcolor\":\"#E5ECF6\",\"gridcolor\":\"white\",\"gridwidth\":2,\"linecolor\":\"white\",\"showbackground\":true,\"ticks\":\"\",\"zerolinecolor\":\"white\"},\"yaxis\":{\"backgroundcolor\":\"#E5ECF6\",\"gridcolor\":\"white\",\"gridwidth\":2,\"linecolor\":\"white\",\"showbackground\":true,\"ticks\":\"\",\"zerolinecolor\":\"white\"},\"zaxis\":{\"backgroundcolor\":\"#E5ECF6\",\"gridcolor\":\"white\",\"gridwidth\":2,\"linecolor\":\"white\",\"showbackground\":true,\"ticks\":\"\",\"zerolinecolor\":\"white\"}},\"shapedefaults\":{\"line\":{\"color\":\"#2a3f5f\"}},\"ternary\":{\"aaxis\":{\"gridcolor\":\"white\",\"linecolor\":\"white\",\"ticks\":\"\"},\"baxis\":{\"gridcolor\":\"white\",\"linecolor\":\"white\",\"ticks\":\"\"},\"bgcolor\":\"#E5ECF6\",\"caxis\":{\"gridcolor\":\"white\",\"linecolor\":\"white\",\"ticks\":\"\"}},\"title\":{\"x\":0.05},\"xaxis\":{\"automargin\":true,\"gridcolor\":\"white\",\"linecolor\":\"white\",\"ticks\":\"\",\"title\":{\"standoff\":15},\"zerolinecolor\":\"white\",\"zerolinewidth\":2},\"yaxis\":{\"automargin\":true,\"gridcolor\":\"white\",\"linecolor\":\"white\",\"ticks\":\"\",\"title\":{\"standoff\":15},\"zerolinecolor\":\"white\",\"zerolinewidth\":2}}},\"title\":{\"font\":{\"color\":\"#4D5663\"},\"text\":\"Top 10 Bigrams in Liberal titles\"},\"xaxis\":{\"gridcolor\":\"#E1E5ED\",\"linecolor\":\"black\",\"showgrid\":true,\"tickfont\":{\"color\":\"#4D5663\"},\"title\":{\"font\":{\"color\":\"#4D5663\"},\"text\":\"\"},\"zerolinecolor\":\"#E1E5ED\"},\"yaxis\":{\"gridcolor\":\"#E1E5ED\",\"linecolor\":\"black\",\"showgrid\":true,\"tickfont\":{\"color\":\"#4D5663\"},\"title\":{\"font\":{\"color\":\"#4D5663\"},\"text\":\"Count\"},\"zerolinecolor\":\"#E1E5ED\"}},                        {\"showLink\": true, \"linkText\": \"Export to plot.ly\", \"plotlyServerURL\": \"https://plot.ly\", \"responsive\": true}                    ).then(function(){\n",
       "                            \n",
       "var gd = document.getElementById('a288a6f6-a956-4f25-86e1-6725684c035a');\n",
       "var x = new MutationObserver(function (mutations, observer) {{\n",
       "        var display = window.getComputedStyle(gd).display;\n",
       "        if (!display || display === 'none') {{\n",
       "            console.log([gd, 'removed!']);\n",
       "            Plotly.purge(gd);\n",
       "            observer.disconnect();\n",
       "        }}\n",
       "}});\n",
       "\n",
       "// Listen for the removal of the full notebook cells\n",
       "var notebookContainer = gd.closest('#notebook-container');\n",
       "if (notebookContainer) {{\n",
       "    x.observe(notebookContainer, {childList: true});\n",
       "}}\n",
       "\n",
       "// Listen for the clearing of the current output cell\n",
       "var outputEl = gd.closest('.output');\n",
       "if (outputEl) {{\n",
       "    x.observe(outputEl, {childList: true});\n",
       "}}\n",
       "\n",
       "                        })                };                });            </script>        </div>"
      ]
     },
     "metadata": {},
     "output_type": "display_data"
    },
    {
     "data": {
      "application/vnd.plotly.v1+json": {
       "config": {
        "linkText": "Export to plot.ly",
        "plotlyServerURL": "https://plot.ly",
        "showLink": true
       },
       "data": [
        {
         "marker": {
          "color": "rgba(0, 128, 0, 0.6)",
          "line": {
           "color": "rgba(0, 128, 0, 1.0)",
           "width": 1
          }
         },
         "name": "count",
         "orientation": "h",
         "text": "",
         "type": "bar",
         "x": [
          3265,
          3304,
          3305,
          3307,
          3307,
          3572,
          3684,
          3733,
          3978,
          4052
         ],
         "y": [
          "blazetv httpsgetblazetvcom",
          "join blazetv",
          "httpinstagramcomtheblazetv httpfacebookcomblazemedia",
          "httptwittercomblazetv httpinstagramcomtheblazetv",
          "medium httptwittercomblazetv",
          "glenn beck",
          "httptheblazecomtv connect",
          "click watch",
          "connect social",
          "social medium"
         ]
        }
       ],
       "layout": {
        "legend": {
         "bgcolor": "#F5F6F9",
         "font": {
          "color": "#4D5663"
         }
        },
        "paper_bgcolor": "#F5F6F9",
        "plot_bgcolor": "#F5F6F9",
        "template": {
         "data": {
          "bar": [
           {
            "error_x": {
             "color": "#2a3f5f"
            },
            "error_y": {
             "color": "#2a3f5f"
            },
            "marker": {
             "line": {
              "color": "#E5ECF6",
              "width": 0.5
             },
             "pattern": {
              "fillmode": "overlay",
              "size": 10,
              "solidity": 0.2
             }
            },
            "type": "bar"
           }
          ],
          "barpolar": [
           {
            "marker": {
             "line": {
              "color": "#E5ECF6",
              "width": 0.5
             },
             "pattern": {
              "fillmode": "overlay",
              "size": 10,
              "solidity": 0.2
             }
            },
            "type": "barpolar"
           }
          ],
          "carpet": [
           {
            "aaxis": {
             "endlinecolor": "#2a3f5f",
             "gridcolor": "white",
             "linecolor": "white",
             "minorgridcolor": "white",
             "startlinecolor": "#2a3f5f"
            },
            "baxis": {
             "endlinecolor": "#2a3f5f",
             "gridcolor": "white",
             "linecolor": "white",
             "minorgridcolor": "white",
             "startlinecolor": "#2a3f5f"
            },
            "type": "carpet"
           }
          ],
          "choropleth": [
           {
            "colorbar": {
             "outlinewidth": 0,
             "ticks": ""
            },
            "type": "choropleth"
           }
          ],
          "contour": [
           {
            "colorbar": {
             "outlinewidth": 0,
             "ticks": ""
            },
            "colorscale": [
             [
              0,
              "#0d0887"
             ],
             [
              0.1111111111111111,
              "#46039f"
             ],
             [
              0.2222222222222222,
              "#7201a8"
             ],
             [
              0.3333333333333333,
              "#9c179e"
             ],
             [
              0.4444444444444444,
              "#bd3786"
             ],
             [
              0.5555555555555556,
              "#d8576b"
             ],
             [
              0.6666666666666666,
              "#ed7953"
             ],
             [
              0.7777777777777778,
              "#fb9f3a"
             ],
             [
              0.8888888888888888,
              "#fdca26"
             ],
             [
              1,
              "#f0f921"
             ]
            ],
            "type": "contour"
           }
          ],
          "contourcarpet": [
           {
            "colorbar": {
             "outlinewidth": 0,
             "ticks": ""
            },
            "type": "contourcarpet"
           }
          ],
          "heatmap": [
           {
            "colorbar": {
             "outlinewidth": 0,
             "ticks": ""
            },
            "colorscale": [
             [
              0,
              "#0d0887"
             ],
             [
              0.1111111111111111,
              "#46039f"
             ],
             [
              0.2222222222222222,
              "#7201a8"
             ],
             [
              0.3333333333333333,
              "#9c179e"
             ],
             [
              0.4444444444444444,
              "#bd3786"
             ],
             [
              0.5555555555555556,
              "#d8576b"
             ],
             [
              0.6666666666666666,
              "#ed7953"
             ],
             [
              0.7777777777777778,
              "#fb9f3a"
             ],
             [
              0.8888888888888888,
              "#fdca26"
             ],
             [
              1,
              "#f0f921"
             ]
            ],
            "type": "heatmap"
           }
          ],
          "heatmapgl": [
           {
            "colorbar": {
             "outlinewidth": 0,
             "ticks": ""
            },
            "colorscale": [
             [
              0,
              "#0d0887"
             ],
             [
              0.1111111111111111,
              "#46039f"
             ],
             [
              0.2222222222222222,
              "#7201a8"
             ],
             [
              0.3333333333333333,
              "#9c179e"
             ],
             [
              0.4444444444444444,
              "#bd3786"
             ],
             [
              0.5555555555555556,
              "#d8576b"
             ],
             [
              0.6666666666666666,
              "#ed7953"
             ],
             [
              0.7777777777777778,
              "#fb9f3a"
             ],
             [
              0.8888888888888888,
              "#fdca26"
             ],
             [
              1,
              "#f0f921"
             ]
            ],
            "type": "heatmapgl"
           }
          ],
          "histogram": [
           {
            "marker": {
             "pattern": {
              "fillmode": "overlay",
              "size": 10,
              "solidity": 0.2
             }
            },
            "type": "histogram"
           }
          ],
          "histogram2d": [
           {
            "colorbar": {
             "outlinewidth": 0,
             "ticks": ""
            },
            "colorscale": [
             [
              0,
              "#0d0887"
             ],
             [
              0.1111111111111111,
              "#46039f"
             ],
             [
              0.2222222222222222,
              "#7201a8"
             ],
             [
              0.3333333333333333,
              "#9c179e"
             ],
             [
              0.4444444444444444,
              "#bd3786"
             ],
             [
              0.5555555555555556,
              "#d8576b"
             ],
             [
              0.6666666666666666,
              "#ed7953"
             ],
             [
              0.7777777777777778,
              "#fb9f3a"
             ],
             [
              0.8888888888888888,
              "#fdca26"
             ],
             [
              1,
              "#f0f921"
             ]
            ],
            "type": "histogram2d"
           }
          ],
          "histogram2dcontour": [
           {
            "colorbar": {
             "outlinewidth": 0,
             "ticks": ""
            },
            "colorscale": [
             [
              0,
              "#0d0887"
             ],
             [
              0.1111111111111111,
              "#46039f"
             ],
             [
              0.2222222222222222,
              "#7201a8"
             ],
             [
              0.3333333333333333,
              "#9c179e"
             ],
             [
              0.4444444444444444,
              "#bd3786"
             ],
             [
              0.5555555555555556,
              "#d8576b"
             ],
             [
              0.6666666666666666,
              "#ed7953"
             ],
             [
              0.7777777777777778,
              "#fb9f3a"
             ],
             [
              0.8888888888888888,
              "#fdca26"
             ],
             [
              1,
              "#f0f921"
             ]
            ],
            "type": "histogram2dcontour"
           }
          ],
          "mesh3d": [
           {
            "colorbar": {
             "outlinewidth": 0,
             "ticks": ""
            },
            "type": "mesh3d"
           }
          ],
          "parcoords": [
           {
            "line": {
             "colorbar": {
              "outlinewidth": 0,
              "ticks": ""
             }
            },
            "type": "parcoords"
           }
          ],
          "pie": [
           {
            "automargin": true,
            "type": "pie"
           }
          ],
          "scatter": [
           {
            "fillpattern": {
             "fillmode": "overlay",
             "size": 10,
             "solidity": 0.2
            },
            "type": "scatter"
           }
          ],
          "scatter3d": [
           {
            "line": {
             "colorbar": {
              "outlinewidth": 0,
              "ticks": ""
             }
            },
            "marker": {
             "colorbar": {
              "outlinewidth": 0,
              "ticks": ""
             }
            },
            "type": "scatter3d"
           }
          ],
          "scattercarpet": [
           {
            "marker": {
             "colorbar": {
              "outlinewidth": 0,
              "ticks": ""
             }
            },
            "type": "scattercarpet"
           }
          ],
          "scattergeo": [
           {
            "marker": {
             "colorbar": {
              "outlinewidth": 0,
              "ticks": ""
             }
            },
            "type": "scattergeo"
           }
          ],
          "scattergl": [
           {
            "marker": {
             "colorbar": {
              "outlinewidth": 0,
              "ticks": ""
             }
            },
            "type": "scattergl"
           }
          ],
          "scattermapbox": [
           {
            "marker": {
             "colorbar": {
              "outlinewidth": 0,
              "ticks": ""
             }
            },
            "type": "scattermapbox"
           }
          ],
          "scatterpolar": [
           {
            "marker": {
             "colorbar": {
              "outlinewidth": 0,
              "ticks": ""
             }
            },
            "type": "scatterpolar"
           }
          ],
          "scatterpolargl": [
           {
            "marker": {
             "colorbar": {
              "outlinewidth": 0,
              "ticks": ""
             }
            },
            "type": "scatterpolargl"
           }
          ],
          "scatterternary": [
           {
            "marker": {
             "colorbar": {
              "outlinewidth": 0,
              "ticks": ""
             }
            },
            "type": "scatterternary"
           }
          ],
          "surface": [
           {
            "colorbar": {
             "outlinewidth": 0,
             "ticks": ""
            },
            "colorscale": [
             [
              0,
              "#0d0887"
             ],
             [
              0.1111111111111111,
              "#46039f"
             ],
             [
              0.2222222222222222,
              "#7201a8"
             ],
             [
              0.3333333333333333,
              "#9c179e"
             ],
             [
              0.4444444444444444,
              "#bd3786"
             ],
             [
              0.5555555555555556,
              "#d8576b"
             ],
             [
              0.6666666666666666,
              "#ed7953"
             ],
             [
              0.7777777777777778,
              "#fb9f3a"
             ],
             [
              0.8888888888888888,
              "#fdca26"
             ],
             [
              1,
              "#f0f921"
             ]
            ],
            "type": "surface"
           }
          ],
          "table": [
           {
            "cells": {
             "fill": {
              "color": "#EBF0F8"
             },
             "line": {
              "color": "white"
             }
            },
            "header": {
             "fill": {
              "color": "#C8D4E3"
             },
             "line": {
              "color": "white"
             }
            },
            "type": "table"
           }
          ]
         },
         "layout": {
          "annotationdefaults": {
           "arrowcolor": "#2a3f5f",
           "arrowhead": 0,
           "arrowwidth": 1
          },
          "autotypenumbers": "strict",
          "coloraxis": {
           "colorbar": {
            "outlinewidth": 0,
            "ticks": ""
           }
          },
          "colorscale": {
           "diverging": [
            [
             0,
             "#8e0152"
            ],
            [
             0.1,
             "#c51b7d"
            ],
            [
             0.2,
             "#de77ae"
            ],
            [
             0.3,
             "#f1b6da"
            ],
            [
             0.4,
             "#fde0ef"
            ],
            [
             0.5,
             "#f7f7f7"
            ],
            [
             0.6,
             "#e6f5d0"
            ],
            [
             0.7,
             "#b8e186"
            ],
            [
             0.8,
             "#7fbc41"
            ],
            [
             0.9,
             "#4d9221"
            ],
            [
             1,
             "#276419"
            ]
           ],
           "sequential": [
            [
             0,
             "#0d0887"
            ],
            [
             0.1111111111111111,
             "#46039f"
            ],
            [
             0.2222222222222222,
             "#7201a8"
            ],
            [
             0.3333333333333333,
             "#9c179e"
            ],
            [
             0.4444444444444444,
             "#bd3786"
            ],
            [
             0.5555555555555556,
             "#d8576b"
            ],
            [
             0.6666666666666666,
             "#ed7953"
            ],
            [
             0.7777777777777778,
             "#fb9f3a"
            ],
            [
             0.8888888888888888,
             "#fdca26"
            ],
            [
             1,
             "#f0f921"
            ]
           ],
           "sequentialminus": [
            [
             0,
             "#0d0887"
            ],
            [
             0.1111111111111111,
             "#46039f"
            ],
            [
             0.2222222222222222,
             "#7201a8"
            ],
            [
             0.3333333333333333,
             "#9c179e"
            ],
            [
             0.4444444444444444,
             "#bd3786"
            ],
            [
             0.5555555555555556,
             "#d8576b"
            ],
            [
             0.6666666666666666,
             "#ed7953"
            ],
            [
             0.7777777777777778,
             "#fb9f3a"
            ],
            [
             0.8888888888888888,
             "#fdca26"
            ],
            [
             1,
             "#f0f921"
            ]
           ]
          },
          "colorway": [
           "#636efa",
           "#EF553B",
           "#00cc96",
           "#ab63fa",
           "#FFA15A",
           "#19d3f3",
           "#FF6692",
           "#B6E880",
           "#FF97FF",
           "#FECB52"
          ],
          "font": {
           "color": "#2a3f5f"
          },
          "geo": {
           "bgcolor": "white",
           "lakecolor": "white",
           "landcolor": "#E5ECF6",
           "showlakes": true,
           "showland": true,
           "subunitcolor": "white"
          },
          "hoverlabel": {
           "align": "left"
          },
          "hovermode": "closest",
          "mapbox": {
           "style": "light"
          },
          "paper_bgcolor": "white",
          "plot_bgcolor": "#E5ECF6",
          "polar": {
           "angularaxis": {
            "gridcolor": "white",
            "linecolor": "white",
            "ticks": ""
           },
           "bgcolor": "#E5ECF6",
           "radialaxis": {
            "gridcolor": "white",
            "linecolor": "white",
            "ticks": ""
           }
          },
          "scene": {
           "xaxis": {
            "backgroundcolor": "#E5ECF6",
            "gridcolor": "white",
            "gridwidth": 2,
            "linecolor": "white",
            "showbackground": true,
            "ticks": "",
            "zerolinecolor": "white"
           },
           "yaxis": {
            "backgroundcolor": "#E5ECF6",
            "gridcolor": "white",
            "gridwidth": 2,
            "linecolor": "white",
            "showbackground": true,
            "ticks": "",
            "zerolinecolor": "white"
           },
           "zaxis": {
            "backgroundcolor": "#E5ECF6",
            "gridcolor": "white",
            "gridwidth": 2,
            "linecolor": "white",
            "showbackground": true,
            "ticks": "",
            "zerolinecolor": "white"
           }
          },
          "shapedefaults": {
           "line": {
            "color": "#2a3f5f"
           }
          },
          "ternary": {
           "aaxis": {
            "gridcolor": "white",
            "linecolor": "white",
            "ticks": ""
           },
           "baxis": {
            "gridcolor": "white",
            "linecolor": "white",
            "ticks": ""
           },
           "bgcolor": "#E5ECF6",
           "caxis": {
            "gridcolor": "white",
            "linecolor": "white",
            "ticks": ""
           }
          },
          "title": {
           "x": 0.05
          },
          "xaxis": {
           "automargin": true,
           "gridcolor": "white",
           "linecolor": "white",
           "ticks": "",
           "title": {
            "standoff": 15
           },
           "zerolinecolor": "white",
           "zerolinewidth": 2
          },
          "yaxis": {
           "automargin": true,
           "gridcolor": "white",
           "linecolor": "white",
           "ticks": "",
           "title": {
            "standoff": 15
           },
           "zerolinecolor": "white",
           "zerolinewidth": 2
          }
         }
        },
        "title": {
         "font": {
          "color": "#4D5663"
         },
         "text": "Top 10 Bigrams in BlazeTV titles"
        },
        "xaxis": {
         "gridcolor": "#E1E5ED",
         "linecolor": "black",
         "showgrid": true,
         "tickfont": {
          "color": "#4D5663"
         },
         "title": {
          "font": {
           "color": "#4D5663"
          },
          "text": ""
         },
         "zerolinecolor": "#E1E5ED"
        },
        "yaxis": {
         "gridcolor": "#E1E5ED",
         "linecolor": "black",
         "showgrid": true,
         "tickfont": {
          "color": "#4D5663"
         },
         "title": {
          "font": {
           "color": "#4D5663"
          },
          "text": "Count"
         },
         "zerolinecolor": "#E1E5ED"
        }
       }
      },
      "text/html": [
       "<div>                            <div id=\"af661e40-4e30-438a-af03-c014b261a36e\" class=\"plotly-graph-div\" style=\"height:525px; width:100%;\"></div>            <script type=\"text/javascript\">                require([\"plotly\"], function(Plotly) {                    window.PLOTLYENV=window.PLOTLYENV || {};\n",
       "                    window.PLOTLYENV.BASE_URL='https://plot.ly';                                    if (document.getElementById(\"af661e40-4e30-438a-af03-c014b261a36e\")) {                    Plotly.newPlot(                        \"af661e40-4e30-438a-af03-c014b261a36e\",                        [{\"marker\":{\"color\":\"rgba(0, 128, 0, 0.6)\",\"line\":{\"color\":\"rgba(0, 128, 0, 1.0)\",\"width\":1}},\"name\":\"count\",\"orientation\":\"h\",\"text\":\"\",\"x\":[3265,3304,3305,3307,3307,3572,3684,3733,3978,4052],\"y\":[\"blazetv httpsgetblazetvcom\",\"join blazetv\",\"httpinstagramcomtheblazetv httpfacebookcomblazemedia\",\"httptwittercomblazetv httpinstagramcomtheblazetv\",\"medium httptwittercomblazetv\",\"glenn beck\",\"httptheblazecomtv connect\",\"click watch\",\"connect social\",\"social medium\"],\"type\":\"bar\"}],                        {\"legend\":{\"bgcolor\":\"#F5F6F9\",\"font\":{\"color\":\"#4D5663\"}},\"paper_bgcolor\":\"#F5F6F9\",\"plot_bgcolor\":\"#F5F6F9\",\"template\":{\"data\":{\"barpolar\":[{\"marker\":{\"line\":{\"color\":\"#E5ECF6\",\"width\":0.5},\"pattern\":{\"fillmode\":\"overlay\",\"size\":10,\"solidity\":0.2}},\"type\":\"barpolar\"}],\"bar\":[{\"error_x\":{\"color\":\"#2a3f5f\"},\"error_y\":{\"color\":\"#2a3f5f\"},\"marker\":{\"line\":{\"color\":\"#E5ECF6\",\"width\":0.5},\"pattern\":{\"fillmode\":\"overlay\",\"size\":10,\"solidity\":0.2}},\"type\":\"bar\"}],\"carpet\":[{\"aaxis\":{\"endlinecolor\":\"#2a3f5f\",\"gridcolor\":\"white\",\"linecolor\":\"white\",\"minorgridcolor\":\"white\",\"startlinecolor\":\"#2a3f5f\"},\"baxis\":{\"endlinecolor\":\"#2a3f5f\",\"gridcolor\":\"white\",\"linecolor\":\"white\",\"minorgridcolor\":\"white\",\"startlinecolor\":\"#2a3f5f\"},\"type\":\"carpet\"}],\"choropleth\":[{\"colorbar\":{\"outlinewidth\":0,\"ticks\":\"\"},\"type\":\"choropleth\"}],\"contourcarpet\":[{\"colorbar\":{\"outlinewidth\":0,\"ticks\":\"\"},\"type\":\"contourcarpet\"}],\"contour\":[{\"colorbar\":{\"outlinewidth\":0,\"ticks\":\"\"},\"colorscale\":[[0.0,\"#0d0887\"],[0.1111111111111111,\"#46039f\"],[0.2222222222222222,\"#7201a8\"],[0.3333333333333333,\"#9c179e\"],[0.4444444444444444,\"#bd3786\"],[0.5555555555555556,\"#d8576b\"],[0.6666666666666666,\"#ed7953\"],[0.7777777777777778,\"#fb9f3a\"],[0.8888888888888888,\"#fdca26\"],[1.0,\"#f0f921\"]],\"type\":\"contour\"}],\"heatmapgl\":[{\"colorbar\":{\"outlinewidth\":0,\"ticks\":\"\"},\"colorscale\":[[0.0,\"#0d0887\"],[0.1111111111111111,\"#46039f\"],[0.2222222222222222,\"#7201a8\"],[0.3333333333333333,\"#9c179e\"],[0.4444444444444444,\"#bd3786\"],[0.5555555555555556,\"#d8576b\"],[0.6666666666666666,\"#ed7953\"],[0.7777777777777778,\"#fb9f3a\"],[0.8888888888888888,\"#fdca26\"],[1.0,\"#f0f921\"]],\"type\":\"heatmapgl\"}],\"heatmap\":[{\"colorbar\":{\"outlinewidth\":0,\"ticks\":\"\"},\"colorscale\":[[0.0,\"#0d0887\"],[0.1111111111111111,\"#46039f\"],[0.2222222222222222,\"#7201a8\"],[0.3333333333333333,\"#9c179e\"],[0.4444444444444444,\"#bd3786\"],[0.5555555555555556,\"#d8576b\"],[0.6666666666666666,\"#ed7953\"],[0.7777777777777778,\"#fb9f3a\"],[0.8888888888888888,\"#fdca26\"],[1.0,\"#f0f921\"]],\"type\":\"heatmap\"}],\"histogram2dcontour\":[{\"colorbar\":{\"outlinewidth\":0,\"ticks\":\"\"},\"colorscale\":[[0.0,\"#0d0887\"],[0.1111111111111111,\"#46039f\"],[0.2222222222222222,\"#7201a8\"],[0.3333333333333333,\"#9c179e\"],[0.4444444444444444,\"#bd3786\"],[0.5555555555555556,\"#d8576b\"],[0.6666666666666666,\"#ed7953\"],[0.7777777777777778,\"#fb9f3a\"],[0.8888888888888888,\"#fdca26\"],[1.0,\"#f0f921\"]],\"type\":\"histogram2dcontour\"}],\"histogram2d\":[{\"colorbar\":{\"outlinewidth\":0,\"ticks\":\"\"},\"colorscale\":[[0.0,\"#0d0887\"],[0.1111111111111111,\"#46039f\"],[0.2222222222222222,\"#7201a8\"],[0.3333333333333333,\"#9c179e\"],[0.4444444444444444,\"#bd3786\"],[0.5555555555555556,\"#d8576b\"],[0.6666666666666666,\"#ed7953\"],[0.7777777777777778,\"#fb9f3a\"],[0.8888888888888888,\"#fdca26\"],[1.0,\"#f0f921\"]],\"type\":\"histogram2d\"}],\"histogram\":[{\"marker\":{\"pattern\":{\"fillmode\":\"overlay\",\"size\":10,\"solidity\":0.2}},\"type\":\"histogram\"}],\"mesh3d\":[{\"colorbar\":{\"outlinewidth\":0,\"ticks\":\"\"},\"type\":\"mesh3d\"}],\"parcoords\":[{\"line\":{\"colorbar\":{\"outlinewidth\":0,\"ticks\":\"\"}},\"type\":\"parcoords\"}],\"pie\":[{\"automargin\":true,\"type\":\"pie\"}],\"scatter3d\":[{\"line\":{\"colorbar\":{\"outlinewidth\":0,\"ticks\":\"\"}},\"marker\":{\"colorbar\":{\"outlinewidth\":0,\"ticks\":\"\"}},\"type\":\"scatter3d\"}],\"scattercarpet\":[{\"marker\":{\"colorbar\":{\"outlinewidth\":0,\"ticks\":\"\"}},\"type\":\"scattercarpet\"}],\"scattergeo\":[{\"marker\":{\"colorbar\":{\"outlinewidth\":0,\"ticks\":\"\"}},\"type\":\"scattergeo\"}],\"scattergl\":[{\"marker\":{\"colorbar\":{\"outlinewidth\":0,\"ticks\":\"\"}},\"type\":\"scattergl\"}],\"scattermapbox\":[{\"marker\":{\"colorbar\":{\"outlinewidth\":0,\"ticks\":\"\"}},\"type\":\"scattermapbox\"}],\"scatterpolargl\":[{\"marker\":{\"colorbar\":{\"outlinewidth\":0,\"ticks\":\"\"}},\"type\":\"scatterpolargl\"}],\"scatterpolar\":[{\"marker\":{\"colorbar\":{\"outlinewidth\":0,\"ticks\":\"\"}},\"type\":\"scatterpolar\"}],\"scatter\":[{\"fillpattern\":{\"fillmode\":\"overlay\",\"size\":10,\"solidity\":0.2},\"type\":\"scatter\"}],\"scatterternary\":[{\"marker\":{\"colorbar\":{\"outlinewidth\":0,\"ticks\":\"\"}},\"type\":\"scatterternary\"}],\"surface\":[{\"colorbar\":{\"outlinewidth\":0,\"ticks\":\"\"},\"colorscale\":[[0.0,\"#0d0887\"],[0.1111111111111111,\"#46039f\"],[0.2222222222222222,\"#7201a8\"],[0.3333333333333333,\"#9c179e\"],[0.4444444444444444,\"#bd3786\"],[0.5555555555555556,\"#d8576b\"],[0.6666666666666666,\"#ed7953\"],[0.7777777777777778,\"#fb9f3a\"],[0.8888888888888888,\"#fdca26\"],[1.0,\"#f0f921\"]],\"type\":\"surface\"}],\"table\":[{\"cells\":{\"fill\":{\"color\":\"#EBF0F8\"},\"line\":{\"color\":\"white\"}},\"header\":{\"fill\":{\"color\":\"#C8D4E3\"},\"line\":{\"color\":\"white\"}},\"type\":\"table\"}]},\"layout\":{\"annotationdefaults\":{\"arrowcolor\":\"#2a3f5f\",\"arrowhead\":0,\"arrowwidth\":1},\"autotypenumbers\":\"strict\",\"coloraxis\":{\"colorbar\":{\"outlinewidth\":0,\"ticks\":\"\"}},\"colorscale\":{\"diverging\":[[0,\"#8e0152\"],[0.1,\"#c51b7d\"],[0.2,\"#de77ae\"],[0.3,\"#f1b6da\"],[0.4,\"#fde0ef\"],[0.5,\"#f7f7f7\"],[0.6,\"#e6f5d0\"],[0.7,\"#b8e186\"],[0.8,\"#7fbc41\"],[0.9,\"#4d9221\"],[1,\"#276419\"]],\"sequential\":[[0.0,\"#0d0887\"],[0.1111111111111111,\"#46039f\"],[0.2222222222222222,\"#7201a8\"],[0.3333333333333333,\"#9c179e\"],[0.4444444444444444,\"#bd3786\"],[0.5555555555555556,\"#d8576b\"],[0.6666666666666666,\"#ed7953\"],[0.7777777777777778,\"#fb9f3a\"],[0.8888888888888888,\"#fdca26\"],[1.0,\"#f0f921\"]],\"sequentialminus\":[[0.0,\"#0d0887\"],[0.1111111111111111,\"#46039f\"],[0.2222222222222222,\"#7201a8\"],[0.3333333333333333,\"#9c179e\"],[0.4444444444444444,\"#bd3786\"],[0.5555555555555556,\"#d8576b\"],[0.6666666666666666,\"#ed7953\"],[0.7777777777777778,\"#fb9f3a\"],[0.8888888888888888,\"#fdca26\"],[1.0,\"#f0f921\"]]},\"colorway\":[\"#636efa\",\"#EF553B\",\"#00cc96\",\"#ab63fa\",\"#FFA15A\",\"#19d3f3\",\"#FF6692\",\"#B6E880\",\"#FF97FF\",\"#FECB52\"],\"font\":{\"color\":\"#2a3f5f\"},\"geo\":{\"bgcolor\":\"white\",\"lakecolor\":\"white\",\"landcolor\":\"#E5ECF6\",\"showlakes\":true,\"showland\":true,\"subunitcolor\":\"white\"},\"hoverlabel\":{\"align\":\"left\"},\"hovermode\":\"closest\",\"mapbox\":{\"style\":\"light\"},\"paper_bgcolor\":\"white\",\"plot_bgcolor\":\"#E5ECF6\",\"polar\":{\"angularaxis\":{\"gridcolor\":\"white\",\"linecolor\":\"white\",\"ticks\":\"\"},\"bgcolor\":\"#E5ECF6\",\"radialaxis\":{\"gridcolor\":\"white\",\"linecolor\":\"white\",\"ticks\":\"\"}},\"scene\":{\"xaxis\":{\"backgroundcolor\":\"#E5ECF6\",\"gridcolor\":\"white\",\"gridwidth\":2,\"linecolor\":\"white\",\"showbackground\":true,\"ticks\":\"\",\"zerolinecolor\":\"white\"},\"yaxis\":{\"backgroundcolor\":\"#E5ECF6\",\"gridcolor\":\"white\",\"gridwidth\":2,\"linecolor\":\"white\",\"showbackground\":true,\"ticks\":\"\",\"zerolinecolor\":\"white\"},\"zaxis\":{\"backgroundcolor\":\"#E5ECF6\",\"gridcolor\":\"white\",\"gridwidth\":2,\"linecolor\":\"white\",\"showbackground\":true,\"ticks\":\"\",\"zerolinecolor\":\"white\"}},\"shapedefaults\":{\"line\":{\"color\":\"#2a3f5f\"}},\"ternary\":{\"aaxis\":{\"gridcolor\":\"white\",\"linecolor\":\"white\",\"ticks\":\"\"},\"baxis\":{\"gridcolor\":\"white\",\"linecolor\":\"white\",\"ticks\":\"\"},\"bgcolor\":\"#E5ECF6\",\"caxis\":{\"gridcolor\":\"white\",\"linecolor\":\"white\",\"ticks\":\"\"}},\"title\":{\"x\":0.05},\"xaxis\":{\"automargin\":true,\"gridcolor\":\"white\",\"linecolor\":\"white\",\"ticks\":\"\",\"title\":{\"standoff\":15},\"zerolinecolor\":\"white\",\"zerolinewidth\":2},\"yaxis\":{\"automargin\":true,\"gridcolor\":\"white\",\"linecolor\":\"white\",\"ticks\":\"\",\"title\":{\"standoff\":15},\"zerolinecolor\":\"white\",\"zerolinewidth\":2}}},\"title\":{\"font\":{\"color\":\"#4D5663\"},\"text\":\"Top 10 Bigrams in BlazeTV titles\"},\"xaxis\":{\"gridcolor\":\"#E1E5ED\",\"linecolor\":\"black\",\"showgrid\":true,\"tickfont\":{\"color\":\"#4D5663\"},\"title\":{\"font\":{\"color\":\"#4D5663\"},\"text\":\"\"},\"zerolinecolor\":\"#E1E5ED\"},\"yaxis\":{\"gridcolor\":\"#E1E5ED\",\"linecolor\":\"black\",\"showgrid\":true,\"tickfont\":{\"color\":\"#4D5663\"},\"title\":{\"font\":{\"color\":\"#4D5663\"},\"text\":\"Count\"},\"zerolinecolor\":\"#E1E5ED\"}},                        {\"showLink\": true, \"linkText\": \"Export to plot.ly\", \"plotlyServerURL\": \"https://plot.ly\", \"responsive\": true}                    ).then(function(){\n",
       "                            \n",
       "var gd = document.getElementById('af661e40-4e30-438a-af03-c014b261a36e');\n",
       "var x = new MutationObserver(function (mutations, observer) {{\n",
       "        var display = window.getComputedStyle(gd).display;\n",
       "        if (!display || display === 'none') {{\n",
       "            console.log([gd, 'removed!']);\n",
       "            Plotly.purge(gd);\n",
       "            observer.disconnect();\n",
       "        }}\n",
       "}});\n",
       "\n",
       "// Listen for the removal of the full notebook cells\n",
       "var notebookContainer = gd.closest('#notebook-container');\n",
       "if (notebookContainer) {{\n",
       "    x.observe(notebookContainer, {childList: true});\n",
       "}}\n",
       "\n",
       "// Listen for the clearing of the current output cell\n",
       "var outputEl = gd.closest('.output');\n",
       "if (outputEl) {{\n",
       "    x.observe(outputEl, {childList: true});\n",
       "}}\n",
       "\n",
       "                        })                };                });            </script>        </div>"
      ]
     },
     "metadata": {},
     "output_type": "display_data"
    }
   ],
   "source": [
    "сon_bigrams = get_top_n_gram(df[df['politicallean'] == \"Conservative\"]['lematized'],(2,2),10)\n",
    "lib_bigrams = get_top_n_gram(df[df['politicallean'] == \"Liberal\"]['lematized'],(2,2),10)\n",
    "\n",
    "\n",
    "all_bigrams = get_top_n_gram(df['lematized'], (2,2), 10)\n",
    "print(all_bigrams)\n",
    "# dfall = pd.DataFrame(all_bigrams, columns = ['Text', 'count', 'Liberal', 'Conservative'])\n",
    "df1 = pd.DataFrame(сon_bigrams, columns = ['Text' , 'count'])\n",
    "\n",
    "df1.groupby('Text').sum()['count'].sort_values(ascending=True).iplot(\n",
    "    kind='bar', yTitle='Count', linecolor='black',color='red', title='Top 10 Bigrams in Conservative titles',orientation='h')\n",
    "\n",
    "df2 = pd.DataFrame(lib_bigrams, columns = ['Text' , 'count'])\n",
    "df2.groupby('Text').sum()['count'].sort_values(ascending=True).iplot(\n",
    "    kind='bar', yTitle='Count', linecolor='black', color='green',title='Top 10 Bigrams in Liberal titles',orientation='h')\n",
    "\n",
    "\n",
    "blaze_bigrams = get_top_n_gram(blazedf['lematized'], (2,2),10)\n",
    "\n",
    "df3 = pd.DataFrame(blaze_bigrams, columns = ['Text' , 'count'])\n",
    "df3.groupby('Text').sum()['count'].sort_values(ascending=True).iplot(\n",
    "    kind='bar', yTitle='Count', linecolor='black', color='green',title='Top 10 Bigrams in BlazeTV titles',orientation='h')\n"
   ]
  },
  {
   "cell_type": "code",
   "execution_count": 23,
   "id": "3b0af8e6",
   "metadata": {},
   "outputs": [
    {
     "ename": "TypeError",
     "evalue": "cannot unpack non-iterable int object",
     "output_type": "error",
     "traceback": [
      "\u001b[1;31m---------------------------------------------------------------------------\u001b[0m",
      "\u001b[1;31mTypeError\u001b[0m                                 Traceback (most recent call last)",
      "\u001b[1;32m~\\AppData\\Local\\Temp\\ipykernel_19060\\2637706371.py\u001b[0m in \u001b[0;36m<module>\u001b[1;34m\u001b[0m\n\u001b[0;32m      6\u001b[0m \u001b[1;31m#     df['pmi'] = np.log(len(df.index) * df['f_xy'] / (df['f_x'] * df['f_y']) )\u001b[0m\u001b[1;33m\u001b[0m\u001b[1;33m\u001b[0m\u001b[1;33m\u001b[0m\u001b[0m\n\u001b[0;32m      7\u001b[0m \u001b[1;31m#     return df\u001b[0m\u001b[1;33m\u001b[0m\u001b[1;33m\u001b[0m\u001b[1;33m\u001b[0m\u001b[0m\n\u001b[1;32m----> 8\u001b[1;33m \u001b[0mCountVectorizer\u001b[0m\u001b[1;33m(\u001b[0m\u001b[0mngram_range\u001b[0m\u001b[1;33m=\u001b[0m\u001b[1;36m2\u001b[0m\u001b[1;33m,\u001b[0m\u001b[0mstop_words\u001b[0m \u001b[1;33m=\u001b[0m \u001b[1;34m'english'\u001b[0m\u001b[1;33m)\u001b[0m\u001b[1;33m.\u001b[0m\u001b[0mfit\u001b[0m\u001b[1;33m(\u001b[0m\u001b[0mdf\u001b[0m\u001b[1;33m[\u001b[0m\u001b[1;34m'lematized'\u001b[0m\u001b[1;33m]\u001b[0m\u001b[1;33m)\u001b[0m\u001b[1;33m\u001b[0m\u001b[1;33m\u001b[0m\u001b[0m\n\u001b[0m",
      "\u001b[1;32mC:\\ProgramData\\Anaconda3\\lib\\site-packages\\sklearn\\feature_extraction\\text.py\u001b[0m in \u001b[0;36mfit\u001b[1;34m(self, raw_documents, y)\u001b[0m\n\u001b[0;32m   1281\u001b[0m         \"\"\"\n\u001b[0;32m   1282\u001b[0m         \u001b[0mself\u001b[0m\u001b[1;33m.\u001b[0m\u001b[0m_warn_for_unused_params\u001b[0m\u001b[1;33m(\u001b[0m\u001b[1;33m)\u001b[0m\u001b[1;33m\u001b[0m\u001b[1;33m\u001b[0m\u001b[0m\n\u001b[1;32m-> 1283\u001b[1;33m         \u001b[0mself\u001b[0m\u001b[1;33m.\u001b[0m\u001b[0mfit_transform\u001b[0m\u001b[1;33m(\u001b[0m\u001b[0mraw_documents\u001b[0m\u001b[1;33m)\u001b[0m\u001b[1;33m\u001b[0m\u001b[1;33m\u001b[0m\u001b[0m\n\u001b[0m\u001b[0;32m   1284\u001b[0m         \u001b[1;32mreturn\u001b[0m \u001b[0mself\u001b[0m\u001b[1;33m\u001b[0m\u001b[1;33m\u001b[0m\u001b[0m\n\u001b[0;32m   1285\u001b[0m \u001b[1;33m\u001b[0m\u001b[0m\n",
      "\u001b[1;32mC:\\ProgramData\\Anaconda3\\lib\\site-packages\\sklearn\\feature_extraction\\text.py\u001b[0m in \u001b[0;36mfit_transform\u001b[1;34m(self, raw_documents, y)\u001b[0m\n\u001b[0;32m   1311\u001b[0m             )\n\u001b[0;32m   1312\u001b[0m \u001b[1;33m\u001b[0m\u001b[0m\n\u001b[1;32m-> 1313\u001b[1;33m         \u001b[0mself\u001b[0m\u001b[1;33m.\u001b[0m\u001b[0m_validate_params\u001b[0m\u001b[1;33m(\u001b[0m\u001b[1;33m)\u001b[0m\u001b[1;33m\u001b[0m\u001b[1;33m\u001b[0m\u001b[0m\n\u001b[0m\u001b[0;32m   1314\u001b[0m         \u001b[0mself\u001b[0m\u001b[1;33m.\u001b[0m\u001b[0m_validate_vocabulary\u001b[0m\u001b[1;33m(\u001b[0m\u001b[1;33m)\u001b[0m\u001b[1;33m\u001b[0m\u001b[1;33m\u001b[0m\u001b[0m\n\u001b[0;32m   1315\u001b[0m         \u001b[0mmax_df\u001b[0m \u001b[1;33m=\u001b[0m \u001b[0mself\u001b[0m\u001b[1;33m.\u001b[0m\u001b[0mmax_df\u001b[0m\u001b[1;33m\u001b[0m\u001b[1;33m\u001b[0m\u001b[0m\n",
      "\u001b[1;32mC:\\ProgramData\\Anaconda3\\lib\\site-packages\\sklearn\\feature_extraction\\text.py\u001b[0m in \u001b[0;36m_validate_params\u001b[1;34m(self)\u001b[0m\n\u001b[0;32m   1249\u001b[0m     \u001b[1;32mdef\u001b[0m \u001b[0m_validate_params\u001b[0m\u001b[1;33m(\u001b[0m\u001b[0mself\u001b[0m\u001b[1;33m)\u001b[0m\u001b[1;33m:\u001b[0m\u001b[1;33m\u001b[0m\u001b[1;33m\u001b[0m\u001b[0m\n\u001b[0;32m   1250\u001b[0m         \u001b[1;34m\"\"\"Validation of min_df, max_df and max_features\"\"\"\u001b[0m\u001b[1;33m\u001b[0m\u001b[1;33m\u001b[0m\u001b[0m\n\u001b[1;32m-> 1251\u001b[1;33m         \u001b[0msuper\u001b[0m\u001b[1;33m(\u001b[0m\u001b[1;33m)\u001b[0m\u001b[1;33m.\u001b[0m\u001b[0m_validate_params\u001b[0m\u001b[1;33m(\u001b[0m\u001b[1;33m)\u001b[0m\u001b[1;33m\u001b[0m\u001b[1;33m\u001b[0m\u001b[0m\n\u001b[0m\u001b[0;32m   1252\u001b[0m \u001b[1;33m\u001b[0m\u001b[0m\n\u001b[0;32m   1253\u001b[0m         \u001b[1;32mif\u001b[0m \u001b[0mself\u001b[0m\u001b[1;33m.\u001b[0m\u001b[0mmax_features\u001b[0m \u001b[1;32mis\u001b[0m \u001b[1;32mnot\u001b[0m \u001b[1;32mNone\u001b[0m\u001b[1;33m:\u001b[0m\u001b[1;33m\u001b[0m\u001b[1;33m\u001b[0m\u001b[0m\n",
      "\u001b[1;32mC:\\ProgramData\\Anaconda3\\lib\\site-packages\\sklearn\\feature_extraction\\text.py\u001b[0m in \u001b[0;36m_validate_params\u001b[1;34m(self)\u001b[0m\n\u001b[0;32m    503\u001b[0m     \u001b[1;32mdef\u001b[0m \u001b[0m_validate_params\u001b[0m\u001b[1;33m(\u001b[0m\u001b[0mself\u001b[0m\u001b[1;33m)\u001b[0m\u001b[1;33m:\u001b[0m\u001b[1;33m\u001b[0m\u001b[1;33m\u001b[0m\u001b[0m\n\u001b[0;32m    504\u001b[0m         \u001b[1;34m\"\"\"Check validity of ngram_range parameter\"\"\"\u001b[0m\u001b[1;33m\u001b[0m\u001b[1;33m\u001b[0m\u001b[0m\n\u001b[1;32m--> 505\u001b[1;33m         \u001b[0mmin_n\u001b[0m\u001b[1;33m,\u001b[0m \u001b[0mmax_m\u001b[0m \u001b[1;33m=\u001b[0m \u001b[0mself\u001b[0m\u001b[1;33m.\u001b[0m\u001b[0mngram_range\u001b[0m\u001b[1;33m\u001b[0m\u001b[1;33m\u001b[0m\u001b[0m\n\u001b[0m\u001b[0;32m    506\u001b[0m         \u001b[1;32mif\u001b[0m \u001b[0mmin_n\u001b[0m \u001b[1;33m>\u001b[0m \u001b[0mmax_m\u001b[0m\u001b[1;33m:\u001b[0m\u001b[1;33m\u001b[0m\u001b[1;33m\u001b[0m\u001b[0m\n\u001b[0;32m    507\u001b[0m             raise ValueError(\n",
      "\u001b[1;31mTypeError\u001b[0m: cannot unpack non-iterable int object"
     ]
    }
   ],
   "source": [
    "# def pmi(dff, x, y):\n",
    "#     df = dff.copy()\n",
    "#     df['f_x'] = df.groupby(x)[x].transform('count')\n",
    "#     df['f_y'] = df.groupby(y)[y].transform('count')\n",
    "#     df['f_xy'] = df.groupby([x, y])[x].transform('count')\n",
    "#     df['pmi'] = np.log(len(df.index) * df['f_xy'] / (df['f_x'] * df['f_y']) )\n",
    "#     return df\n",
    "CountVectorizer(ngram_range=2,stop_words = 'english').fit(df['lematized'])\n"
   ]
  },
  {
   "cell_type": "code",
   "execution_count": 30,
   "id": "bb0c909a",
   "metadata": {},
   "outputs": [
    {
     "name": "stdout",
     "output_type": "stream",
     "text": [
      "Classification report on train data\n",
      "              precision    recall  f1-score   support\n",
      "\n",
      "Conservative       0.96      0.54      0.69      3395\n",
      "     Liberal       0.80      0.99      0.88      6245\n",
      "\n",
      "    accuracy                           0.83      9640\n",
      "   macro avg       0.88      0.77      0.79      9640\n",
      "weighted avg       0.86      0.83      0.82      9640\n",
      "\n",
      "Reddit r/Politics\n",
      "Liberal: 27755\n",
      "Conservative: 308\n",
      "\n",
      "Amalgamated news data\n",
      "Liberal: 80890\n",
      "Conservative: 6509\n",
      "\n",
      "blazedf news data\n",
      "Liberal: 7327\n",
      "Conservative: 90\n",
      "\n",
      "cnndf news data\n",
      "Liberal: 19518\n",
      "Conservative: 482\n",
      "\n",
      "nbcdf news data\n",
      "Liberal: 19996\n",
      "Conservative: 4\n",
      "\n",
      "pbsdf news data\n",
      "Liberal: 4537\n",
      "Conservative: 17\n",
      "\n",
      "Fox news data\n",
      "Liberal: 51049\n",
      "Conservative: 846\n"
     ]
    }
   ],
   "source": [
    "# Fitting lematized data\n",
    "X_train_lema, X_test_lema, y_train_lema, y_test_lema = train_test_split(df['lematized'], df['politicallean'], random_state = 0)\n",
    "model_lema = make_pipeline(TfidfVectorizer(), MultinomialNB())\n",
    "model_lema.fit(X_train_lema, y_train_lema)\n",
    "y_pred_lema = model_lema.predict(X_train_lema)\n",
    "\n",
    "clf_report = classification_report(y_train_lema, y_pred_lema)\n",
    "print('Classification report on train data')\n",
    "print(clf_report)\n",
    "\n",
    "y2_pred_lema = model_lema.predict(rdf.title)\n",
    "print(\"Reddit r/Politics\")\n",
    "# print(\"Liberal:\")\n",
    "print(\"Liberal:\", (y2_pred_lema == \"Liberal\").sum())\n",
    "print(\"Conservative:\", (y2_pred_lema == \"Conservative\").sum())\n",
    "\n",
    "print()\n",
    "y3_pred_lema = model_lema.predict(newsdf.title)\n",
    "print(\"Amalgamated news data\")\n",
    "print(\"Liberal:\", (y3_pred_lema == \"Liberal\").sum())\n",
    "print(\"Conservative:\",(y3_pred_lema == \"Conservative\").sum())\n",
    "\n",
    "print()\n",
    "y4_pred_lema = model_lema.predict(blazedf.title)\n",
    "print(\"blazedf news data\")\n",
    "print(\"Liberal:\", (y4_pred_lema == \"Liberal\").sum())\n",
    "print(\"Conservative:\",(y4_pred_lema == \"Conservative\").sum())\n",
    "\n",
    "print()\n",
    "y5_pred_lema = model_lema.predict(cnndf.title)\n",
    "print(\"cnndf news data\")\n",
    "print(\"Liberal:\", (y5_pred_lema == \"Liberal\").sum())\n",
    "print(\"Conservative:\",(y5_pred_lema == \"Conservative\").sum())\n",
    "\n",
    "print()\n",
    "y6_pred_lema = model_lema.predict(nbcdf.title)\n",
    "print(\"nbcdf news data\")\n",
    "print(\"Liberal:\", (y6_pred_lema == \"Liberal\").sum())\n",
    "print(\"Conservative:\",(y6_pred_lema == \"Conservative\").sum())\n",
    "\n",
    "print()\n",
    "y7_pred_lema = model_lema.predict(pbsdf.title)\n",
    "print(\"pbsdf news data\")\n",
    "print(\"Liberal:\", (y7_pred_lema == \"Liberal\").sum())\n",
    "print(\"Conservative:\",(y7_pred_lema == \"Conservative\").sum())\n",
    "\n",
    "print()\n",
    "y8_pred_lema = model_lema.predict(fdf.title)\n",
    "print(\"Fox news data\")\n",
    "print(\"Liberal:\", (y8_pred_lema == \"Liberal\").sum())\n",
    "print(\"Conservative:\",(y8_pred_lema == \"Conservative\").sum())"
   ]
  },
  {
   "cell_type": "code",
   "execution_count": 23,
   "id": "ac899a71",
   "metadata": {},
   "outputs": [
    {
     "name": "stdout",
     "output_type": "stream",
     "text": [
      "r/Politics\n"
     ]
    },
    {
     "data": {
      "text/plain": [
       "([<matplotlib.patches.Wedge at 0x17c27aa08d0>,\n",
       "  <matplotlib.patches.Wedge at 0x17c27aa0da0>],\n",
       " [Text(-1.0993461888715155, 0.03792040365916776, 'Liberal'),\n",
       "  Text(1.09934618942626, -0.03792038757663305, 'Conservative')])"
      ]
     },
     "execution_count": 23,
     "metadata": {},
     "output_type": "execute_result"
    },
    {
     "data": {
      "image/png": "[encoded data removed]",
      "text/plain": [
       "<Figure size 432x288 with 1 Axes>"
      ]
     },
     "metadata": {},
     "output_type": "display_data"
    }
   ],
   "source": [
    "y2_lib = (y2_pred_lema == \"Liberal\").sum()\n",
    "y2_con = (y2_pred_lema == \"Conservative\").sum()\n",
    "total = len(y2_pred_lema)\n",
    "labels = ['Liberal', 'Conservative']\n",
    "slices = [y2_lib/total, y2_con/total]\n",
    "colors = ['blue', 'red']\n",
    "print(\"r/Politics\")\n",
    "plt.pie(slices, labels = labels, wedgeprops = {'edgecolor' : 'blue'})"
   ]
  },
  {
   "cell_type": "code",
   "execution_count": 24,
   "id": "9809b5fe",
   "metadata": {},
   "outputs": [
    {
     "name": "stdout",
     "output_type": "stream",
     "text": [
      "BlazeTV\n"
     ]
    },
    {
     "data": {
      "text/plain": [
       "([<matplotlib.patches.Wedge at 0x17c27aed9b0>,\n",
       "  <matplotlib.patches.Wedge at 0x17c27aede80>],\n",
       " [Text(-1.070029380029471, 0.2550237751146868, 'Liberal'),\n",
       "  Text(1.070029397937255, -0.2550236999771505, 'Conservative')])"
      ]
     },
     "execution_count": 24,
     "metadata": {},
     "output_type": "execute_result"
    },
    {
     "data": {
      "image/png": "[encoded data removed]",
      "text/plain": [
       "<Figure size 432x288 with 1 Axes>"
      ]
     },
     "metadata": {},
     "output_type": "display_data"
    }
   ],
   "source": [
    "y3_lib = (y3_pred_lema == \"Liberal\").sum()\n",
    "y3_con = (y3_pred_lema == \"Conservative\").sum()\n",
    "total = len(y3_pred_lema)\n",
    "labels = ['Liberal', 'Conservative']\n",
    "slices = [y3_lib/total, y3_con/total]\n",
    "colors = ['blue', 'red']\n",
    "print(\"BlazeTV\")\n",
    "plt.pie(slices, labels = labels, wedgeprops = {'edgecolor' : 'blue'})"
   ]
  },
  {
   "cell_type": "code",
   "execution_count": 25,
   "id": "a0931d0f",
   "metadata": {},
   "outputs": [
    {
     "name": "stdout",
     "output_type": "stream",
     "text": [
      "CNN\n"
     ]
    },
    {
     "data": {
      "text/plain": [
       "([<matplotlib.patches.Wedge at 0x17c27b3ea58>,\n",
       "  <matplotlib.patches.Wedge at 0x17c27b3ef60>],\n",
       " [Text(-1.0992008279827727, 0.04192302186134775, 'Liberal'),\n",
       "  Text(1.0992008243029716, -0.04192311834379381, 'Conservative')])"
      ]
     },
     "execution_count": 25,
     "metadata": {},
     "output_type": "execute_result"
    },
    {
     "data": {
      "image/png": "[encoded data removed]",
      "text/plain": [
       "<Figure size 432x288 with 1 Axes>"
      ]
     },
     "metadata": {},
     "output_type": "display_data"
    }
   ],
   "source": [
    "y4_lib = (y4_pred_lema == \"Liberal\").sum()\n",
    "y4_con = (y4_pred_lema == \"Conservative\").sum()\n",
    "total = len(y4_pred_lema)\n",
    "labels = ['Liberal', 'Conservative']\n",
    "slices = [y4_lib/total, y4_con/total]\n",
    "colors = ['blue', 'red']\n",
    "print(\"CNN\")\n",
    "plt.pie(slices, labels = labels, wedgeprops = {'edgecolor' : 'blue'})"
   ]
  },
  {
   "cell_type": "code",
   "execution_count": 27,
   "id": "0c55357c",
   "metadata": {},
   "outputs": [
    {
     "name": "stdout",
     "output_type": "stream",
     "text": [
      "PBS\n"
     ]
    },
    {
     "data": {
      "text/plain": [
       "([<matplotlib.patches.Wedge at 0x17c27bdbb70>,\n",
       "  <matplotlib.patches.Wedge at 0x17c27be90b8>],\n",
       " [Text(-1.0968487036124515, 0.08320409475311381, 'Liberal'),\n",
       "  Text(1.0968487021518019, -0.08320411400831107, 'Conservative')])"
      ]
     },
     "execution_count": 27,
     "metadata": {},
     "output_type": "execute_result"
    },
    {
     "data": {
      "image/png": "[encoded data removed]",
      "text/plain": [
       "<Figure size 432x288 with 1 Axes>"
      ]
     },
     "metadata": {},
     "output_type": "display_data"
    }
   ],
   "source": [
    "y5_lib = (y5_pred_lema == \"Liberal\").sum()\n",
    "y5_con = (y5_pred_lema == \"Conservative\").sum()\n",
    "total = len(y5_pred_lema)\n",
    "labels = ['Liberal', 'Conservative']\n",
    "slices = [y5_lib/total, y5_con/total]\n",
    "colors = ['blue', 'red']\n",
    "print(\"PBS\")\n",
    "plt.pie(slices, labels = labels, wedgeprops = {'edgecolor' : 'blue'})"
   ]
  },
  {
   "cell_type": "code",
   "execution_count": 31,
   "id": "1a22f22f",
   "metadata": {},
   "outputs": [
    {
     "name": "stdout",
     "output_type": "stream",
     "text": [
      "Fox\n"
     ]
    },
    {
     "data": {
      "text/plain": [
       "([<matplotlib.patches.Wedge at 0x17c2a1d6e10>,\n",
       "  <matplotlib.patches.Wedge at 0x17c2a1c4320>],\n",
       " [Text(-1.0985576911995218, 0.05631162496657784, 'Liberal'),\n",
       "  Text(1.0985576875748304, -0.05631169567897332, 'Conservative')])"
      ]
     },
     "execution_count": 31,
     "metadata": {},
     "output_type": "execute_result"
    },
    {
     "data": {
      "image/png": "[encoded data removed]",
      "text/plain": [
       "<Figure size 432x288 with 1 Axes>"
      ]
     },
     "metadata": {},
     "output_type": "display_data"
    }
   ],
   "source": [
    "y8_lib = (y8_pred_lema == \"Liberal\").sum()\n",
    "y8_con = (y8_pred_lema == \"Conservative\").sum()\n",
    "total = len(y8_pred_lema)\n",
    "labels = ['Liberal', 'Conservative']\n",
    "slices = [y8_lib/total, y8_con/total]\n",
    "colors = ['blue', 'red']\n",
    "print(\"Fox\")\n",
    "plt.pie(slices, labels = labels, wedgeprops = {'edgecolor' : 'blue'})"
   ]
  },
  {
   "cell_type": "code",
   "execution_count": 37,
   "id": "68e3fc0b",
   "metadata": {},
   "outputs": [
    {
     "name": "stdout",
     "output_type": "stream",
     "text": [
      "Classification report on test data\n",
      "              precision    recall  f1-score   support\n",
      "\n",
      "Conservative       0.82      0.33      0.48      1140\n",
      "     Liberal       0.72      0.96      0.83      2074\n",
      "\n",
      "    accuracy                           0.74      3214\n",
      "   macro avg       0.77      0.65      0.65      3214\n",
      "weighted avg       0.76      0.74      0.70      3214\n",
      "\n"
     ]
    }
   ],
   "source": [
    "y_pred_lema = model_lema.predict(X_test_lema)\n",
    "\n",
    "clf_report = classification_report(y_test_lema,y_pred_lema)\n",
    "print('Classification report on test data')\n",
    "print(clf_report)"
   ]
  },
  {
   "cell_type": "code",
   "execution_count": 30,
   "id": "7f541640",
   "metadata": {},
   "outputs": [
    {
     "name": "stdout",
     "output_type": "stream",
     "text": [
      "Classification report on train data\n",
      "              precision    recall  f1-score   support\n",
      "\n",
      "Conservative       0.94      0.39      0.55      3395\n",
      "     Liberal       0.75      0.99      0.85      6245\n",
      "\n",
      "    accuracy                           0.78      9640\n",
      "   macro avg       0.84      0.69      0.70      9640\n",
      "weighted avg       0.81      0.78      0.75      9640\n",
      "\n"
     ]
    }
   ],
   "source": [
    "# Fitting stemmed data\n",
    "X_train_stem, X_test_stem, y_train_stem, y_test_stem = train_test_split(df['stemmed'], df['PoliticalLean'], random_state = 0)\n",
    "model_stem = make_pipeline(TfidfVectorizer(), MultinomialNB())\n",
    "model_stem.fit(X_train_stem, y_train_stem)\n",
    "y_pred_stem = model_lema.predict(X_train_stem)\n",
    "\n",
    "clf_report = classification_report(y_train_stem, y_pred_stem)\n",
    "print('Classification report on train data')\n",
    "print(clf_report)"
   ]
  },
  {
   "cell_type": "code",
   "execution_count": 38,
   "id": "018511ae",
   "metadata": {},
   "outputs": [
    {
     "name": "stdout",
     "output_type": "stream",
     "text": [
      "Classification report on test data\n",
      "              precision    recall  f1-score   support\n",
      "\n",
      "Conservative       0.81      0.27      0.40      1140\n",
      "     Liberal       0.71      0.97      0.82      2074\n",
      "\n",
      "    accuracy                           0.72      3214\n",
      "   macro avg       0.76      0.62      0.61      3214\n",
      "weighted avg       0.74      0.72      0.67      3214\n",
      "\n"
     ]
    }
   ],
   "source": [
    "y_pred_stem = model_lema.predict(X_test_stem)\n",
    "\n",
    "clf_report = classification_report(y_test_stem, y_pred_stem)\n",
    "print('Classification report on test data')\n",
    "print(clf_report)"
   ]
  },
  {
   "cell_type": "code",
   "execution_count": null,
   "id": "da17cb43",
   "metadata": {},
   "outputs": [],
   "source": []
  }
 ],
 "metadata": {
  "kernelspec": {
   "display_name": "Python 3 (ipykernel)",
   "language": "python",
   "name": "python3"
  },
  "language_info": {
   "codemirror_mode": {
    "name": "ipython",
    "version": 3
   },
   "file_extension": ".py",
   "mimetype": "text/x-python",
   "name": "python",
   "nbconvert_exporter": "python",
   "pygments_lexer": "ipython3",
   "version": "3.7.3"
  }
 },
 "nbformat": 4,
 "nbformat_minor": 5
}
