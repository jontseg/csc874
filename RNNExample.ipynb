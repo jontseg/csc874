{
 "cells": [
  {
   "cell_type": "code",
   "execution_count": 1,
   "id": "c2d0914b",
   "metadata": {},
   "outputs": [
    {
     "data": {
      "text/plain": [
       "'2.8.0'"
      ]
     },
     "execution_count": 1,
     "metadata": {},
     "output_type": "execute_result"
    }
   ],
   "source": [
    "import matplotlib.pyplot as plt\n",
    "import numpy as np\n",
    "import pandas as pd\n",
    "import tensorflow as tf\n",
    "from tensorflow import keras\n",
    "from tensorflow.keras import layers\n",
    "\n",
    "tf.__version__"
   ]
  },
  {
   "cell_type": "code",
   "execution_count": 2,
   "id": "b6938e93",
   "metadata": {},
   "outputs": [],
   "source": [
    "default_reber_grammar=[\n",
    "    [(\"B\",1)],  #(state 0) =B=> (state 1)\n",
    "    [(\"T\", 2),(\"P\", 3)],  # (state 1) =T=> (state 2) or =P=> (state 3)\n",
    "    [(\"X\", 5), (\"S\", 2)], # (state 2) =X=> (state 5) or =S=> (state 2)\n",
    "    [(\"T\", 3), (\"V\", 4)], # (state 3) =T=> (state 3) or =V=> (state 4)\n",
    "    [(\"V\", 6), (\"P\", 5)], # (state 4) =V=> (state 6) or =P=> (state 5)\n",
    "    [(\"X\",3), (\"S\", 6)],  # (state 5) =X=> (state 3) or =S=> (state 6)\n",
    "    [(\"E\", None)]         # (state 6) =E=> <EOS>\n",
    "    \n",
    "]"
   ]
  },
  {
   "cell_type": "code",
   "execution_count": 3,
   "id": "0541d998",
   "metadata": {},
   "outputs": [],
   "source": [
    "embedded_reber_grammar=[\n",
    "    [(\"B\",1)],  #(state 0) =B=> (state 1)\n",
    "    [(\"T\", 2),(\"P\", 3)],  # (state 1) =T=> (state 2) or =P=> (state 3)\n",
    "    [(default_reber_grammar,4)], # (state 2) =REBER=> (state 4)\n",
    "    [(default_reber_grammar,5)], # (state 3) =REBER=> (state 5)\n",
    "    [(\"P\", 6)], # (state 4) =P=> (state 6)\n",
    "    [(\"T\",6)],  # (state 5) =T=> (state 3)\n",
    "    [(\"E\", None)]         # (state 6) =E=> <EOS>\n",
    "    \n",
    "]"
   ]
  },
  {
   "cell_type": "code",
   "execution_count": 4,
   "id": "efd4e1a7",
   "metadata": {},
   "outputs": [],
   "source": [
    "def generate_valid_string(grammar):\n",
    "    state = 0\n",
    "    output = []\n",
    "    while state is not None:\n",
    "        char, state = grammar[state][np.random.randint(len(grammar[state]))]\n",
    "        if isinstance(char, list):  # embedded reber\n",
    "            char = generate_valid_string(char)\n",
    "        output.append(char)\n",
    "    return \"\".join(output)"
   ]
  },
  {
   "cell_type": "code",
   "execution_count": 5,
   "id": "c4bcc587",
   "metadata": {},
   "outputs": [],
   "source": [
    "def generate_corrupted_string(grammar, chars='BTSXPVE'):\n",
    "    '''Substitute one character to violate the grammar'''\n",
    "    good_string = generate_valid_string(grammar)\n",
    "    idx = np.random.randint(len(good_string))\n",
    "    good_char = good_string[idx]\n",
    "    bad_char = np.random.choice(sorted(set(chars)-set(good_char)))\n",
    "    return good_string[:idx]+bad_char+good_string[idx+1:]"
   ]
  },
  {
   "cell_type": "code",
   "execution_count": 6,
   "id": "a10319cc",
   "metadata": {},
   "outputs": [
    {
     "data": {
      "text/plain": [
       "{'B': 0, 'T': 1, 'S': 2, 'X': 3, 'P': 4, 'V': 5, 'E': 6}"
      ]
     },
     "execution_count": 6,
     "metadata": {},
     "output_type": "execute_result"
    }
   ],
   "source": [
    "chars = 'BTSXPVE'\n",
    "chars_dict = {a:i for i, a in enumerate(chars)}\n",
    "chars_dict"
   ]
  },
  {
   "cell_type": "code",
   "execution_count": 7,
   "id": "be0bbe6a",
   "metadata": {},
   "outputs": [],
   "source": [
    "def str2onehot(string, num_steps=12, chars_dict=chars_dict):\n",
    "    res = np.zeros((num_steps, len(chars_dict)))\n",
    "    for i in range(min(len(string), num_steps)):\n",
    "        c = string[i]\n",
    "        res[i][chars_dict[c]] = 1\n",
    "    return res"
   ]
  },
  {
   "cell_type": "code",
   "execution_count": 8,
   "id": "cf829106",
   "metadata": {},
   "outputs": [],
   "source": [
    "def generate_data(data_size=10000, grammar=embedded_reber_grammar, num_steps=None):\n",
    "    good = [generate_valid_string(grammar) for _ in range(data_size//2)]\n",
    "    bad = [generate_corrupted_string(grammar) for _ in range(data_size//2)]\n",
    "    all_strings = good+bad\n",
    "    if num_steps is None:\n",
    "        num_steps = max([len(s) for s in all_strings])\n",
    "    X = np.array([str2onehot(s) for s in all_strings])\n",
    "    l = np.array([len(s) for s in all_strings])\n",
    "    y = np.concatenate((np.ones(len(good)), np.zeros((len(bad))))).reshape(-1, 1)\n",
    "    idx = np.random.permutation(data_size)\n",
    "    return X[idx], l[idx], y[idx]"
   ]
  },
  {
   "cell_type": "code",
   "execution_count": 9,
   "id": "b9ef6255",
   "metadata": {},
   "outputs": [
    {
     "data": {
      "text/plain": [
       "array([[[1., 0., 0., ..., 0., 0., 0.],\n",
       "        [0., 0., 0., ..., 1., 0., 0.],\n",
       "        [1., 0., 0., ..., 0., 0., 0.],\n",
       "        ...,\n",
       "        [0., 0., 0., ..., 0., 0., 0.],\n",
       "        [0., 0., 0., ..., 0., 0., 0.],\n",
       "        [0., 0., 0., ..., 0., 0., 0.]],\n",
       "\n",
       "       [[1., 0., 0., ..., 0., 0., 0.],\n",
       "        [0., 0., 0., ..., 1., 0., 0.],\n",
       "        [1., 0., 0., ..., 0., 0., 0.],\n",
       "        ...,\n",
       "        [0., 0., 0., ..., 1., 0., 0.],\n",
       "        [0., 1., 0., ..., 0., 0., 0.],\n",
       "        [0., 0., 0., ..., 0., 1., 0.]],\n",
       "\n",
       "       [[1., 0., 0., ..., 0., 0., 0.],\n",
       "        [0., 0., 0., ..., 1., 0., 0.],\n",
       "        [1., 0., 0., ..., 0., 0., 0.],\n",
       "        ...,\n",
       "        [0., 0., 0., ..., 0., 0., 1.],\n",
       "        [0., 1., 0., ..., 0., 0., 0.],\n",
       "        [0., 0., 0., ..., 0., 0., 1.]],\n",
       "\n",
       "       ...,\n",
       "\n",
       "       [[1., 0., 0., ..., 0., 0., 0.],\n",
       "        [0., 0., 0., ..., 1., 0., 0.],\n",
       "        [1., 0., 0., ..., 0., 0., 0.],\n",
       "        ...,\n",
       "        [0., 0., 0., ..., 0., 0., 1.],\n",
       "        [0., 0., 0., ..., 0., 0., 0.],\n",
       "        [0., 0., 0., ..., 0., 0., 0.]],\n",
       "\n",
       "       [[1., 0., 0., ..., 0., 0., 0.],\n",
       "        [0., 1., 0., ..., 0., 0., 0.],\n",
       "        [1., 0., 0., ..., 0., 0., 0.],\n",
       "        ...,\n",
       "        [0., 0., 0., ..., 0., 0., 1.],\n",
       "        [0., 0., 0., ..., 0., 0., 0.],\n",
       "        [0., 0., 0., ..., 0., 0., 0.]],\n",
       "\n",
       "       [[1., 0., 0., ..., 0., 0., 0.],\n",
       "        [0., 1., 0., ..., 0., 0., 0.],\n",
       "        [1., 0., 0., ..., 0., 0., 0.],\n",
       "        ...,\n",
       "        [0., 0., 0., ..., 0., 0., 0.],\n",
       "        [0., 1., 0., ..., 0., 0., 0.],\n",
       "        [0., 1., 0., ..., 0., 0., 0.]]])"
      ]
     },
     "execution_count": 9,
     "metadata": {},
     "output_type": "execute_result"
    }
   ],
   "source": [
    "np.random.seed(42)\n",
    "X_train, seq_lens_train, y_train = generate_data(10000)\n",
    "seq_lens_train = np.asarray(seq_lens_train).astype('float32')\n",
    "# X_train = np.asarray(X_train).astype('float32')\n",
    "# y_train = np.asarray(y_train).astype('float32')\n",
    "X_val, seq_lens_val, y_val = generate_data(5000)\n",
    "X_train"
   ]
  },
  {
   "cell_type": "code",
   "execution_count": 10,
   "id": "5ca5dd61",
   "metadata": {},
   "outputs": [],
   "source": [
    "x = layers.Input(shape=(12, 7)) # we define our input's shape\n",
    "# first we define our RNN cells to use in the RNN model\n",
    "# let's keep the model simple ...\n",
    "cell = layers.SimpleRNNCell(4, activation='tanh')  # ... by just using 4 units (like 4 units in hidden layers)\n",
    "rnn = layers.RNN(cell)\n",
    "rnn_output = rnn(x)"
   ]
  },
  {
   "cell_type": "code",
   "execution_count": 11,
   "id": "b0b4390b",
   "metadata": {},
   "outputs": [],
   "source": [
    "output = layers.Dense(units=1, activation='sigmoid')(rnn_output)"
   ]
  },
  {
   "cell_type": "code",
   "execution_count": 12,
   "id": "131578d3",
   "metadata": {
    "scrolled": true
   },
   "outputs": [
    {
     "name": "stdout",
     "output_type": "stream",
     "text": [
      "Model: \"model\"\n",
      "_________________________________________________________________\n",
      " Layer (type)                Output Shape              Param #   \n",
      "=================================================================\n",
      " input_1 (InputLayer)        [(None, 12, 7)]           0         \n",
      "                                                                 \n",
      " rnn (RNN)                   (None, 4)                 48        \n",
      "                                                                 \n",
      " dense (Dense)               (None, 1)                 5         \n",
      "                                                                 \n",
      "=================================================================\n",
      "Total params: 53\n",
      "Trainable params: 53\n",
      "Non-trainable params: 0\n",
      "_________________________________________________________________\n"
     ]
    }
   ],
   "source": [
    "# let's compile the model\n",
    "model = keras.Model(inputs=x, outputs=output)\n",
    "# loss is binary cropss entropy since this is a binary classification task\n",
    "# and evaluation metric as f1\n",
    "model.compile(loss=\"binary_crossentropy\", metrics=[\"accuracy\"])\n",
    "model.summary()"
   ]
  },
  {
   "cell_type": "code",
   "execution_count": 13,
   "id": "04199ca9",
   "metadata": {},
   "outputs": [
    {
     "name": "stdout",
     "output_type": "stream",
     "text": [
      "Epoch 1/100\n",
      "313/313 - 1s - loss: 0.7243 - accuracy: 0.4983 - val_loss: 0.7026 - val_accuracy: 0.5192 - 1s/epoch - 5ms/step\n",
      "Epoch 2/100\n",
      "313/313 - 1s - loss: 0.6978 - accuracy: 0.5127 - val_loss: 0.6953 - val_accuracy: 0.5096 - 595ms/epoch - 2ms/step\n",
      "Epoch 3/100\n",
      "313/313 - 1s - loss: 0.6934 - accuracy: 0.5243 - val_loss: 0.6925 - val_accuracy: 0.5098 - 594ms/epoch - 2ms/step\n",
      "Epoch 4/100\n",
      "313/313 - 1s - loss: 0.6917 - accuracy: 0.5353 - val_loss: 0.6907 - val_accuracy: 0.5306 - 594ms/epoch - 2ms/step\n",
      "Epoch 5/100\n",
      "313/313 - 1s - loss: 0.6902 - accuracy: 0.5394 - val_loss: 0.6892 - val_accuracy: 0.5318 - 591ms/epoch - 2ms/step\n",
      "Epoch 6/100\n",
      "313/313 - 1s - loss: 0.6889 - accuracy: 0.5396 - val_loss: 0.6870 - val_accuracy: 0.5456 - 593ms/epoch - 2ms/step\n",
      "Epoch 7/100\n",
      "313/313 - 1s - loss: 0.6872 - accuracy: 0.5440 - val_loss: 0.6847 - val_accuracy: 0.5506 - 590ms/epoch - 2ms/step\n",
      "Epoch 8/100\n",
      "313/313 - 1s - loss: 0.6853 - accuracy: 0.5542 - val_loss: 0.6823 - val_accuracy: 0.5776 - 603ms/epoch - 2ms/step\n",
      "Epoch 9/100\n",
      "313/313 - 1s - loss: 0.6826 - accuracy: 0.5527 - val_loss: 0.6790 - val_accuracy: 0.5892 - 603ms/epoch - 2ms/step\n",
      "Epoch 10/100\n",
      "313/313 - 1s - loss: 0.6782 - accuracy: 0.5849 - val_loss: 0.6693 - val_accuracy: 0.6138 - 597ms/epoch - 2ms/step\n",
      "Epoch 11/100\n",
      "313/313 - 1s - loss: 0.6698 - accuracy: 0.6088 - val_loss: 0.6603 - val_accuracy: 0.6376 - 602ms/epoch - 2ms/step\n",
      "Epoch 12/100\n",
      "313/313 - 1s - loss: 0.6636 - accuracy: 0.6270 - val_loss: 0.6561 - val_accuracy: 0.6222 - 598ms/epoch - 2ms/step\n",
      "Epoch 13/100\n",
      "313/313 - 1s - loss: 0.6586 - accuracy: 0.6333 - val_loss: 0.6466 - val_accuracy: 0.6712 - 607ms/epoch - 2ms/step\n",
      "Epoch 14/100\n",
      "313/313 - 1s - loss: 0.6537 - accuracy: 0.6510 - val_loss: 0.6401 - val_accuracy: 0.6712 - 599ms/epoch - 2ms/step\n",
      "Epoch 15/100\n",
      "313/313 - 1s - loss: 0.6478 - accuracy: 0.6578 - val_loss: 0.6318 - val_accuracy: 0.6798 - 601ms/epoch - 2ms/step\n",
      "Epoch 16/100\n",
      "313/313 - 1s - loss: 0.6390 - accuracy: 0.6665 - val_loss: 0.6200 - val_accuracy: 0.6946 - 603ms/epoch - 2ms/step\n",
      "Epoch 17/100\n",
      "313/313 - 1s - loss: 0.6258 - accuracy: 0.6881 - val_loss: 0.6032 - val_accuracy: 0.7194 - 593ms/epoch - 2ms/step\n",
      "Epoch 18/100\n",
      "313/313 - 1s - loss: 0.6117 - accuracy: 0.7017 - val_loss: 0.5892 - val_accuracy: 0.7266 - 595ms/epoch - 2ms/step\n",
      "Epoch 19/100\n",
      "313/313 - 1s - loss: 0.5993 - accuracy: 0.7083 - val_loss: 0.5808 - val_accuracy: 0.7196 - 600ms/epoch - 2ms/step\n",
      "Epoch 20/100\n",
      "313/313 - 1s - loss: 0.5895 - accuracy: 0.7139 - val_loss: 0.5658 - val_accuracy: 0.7314 - 591ms/epoch - 2ms/step\n",
      "Epoch 21/100\n",
      "313/313 - 1s - loss: 0.5799 - accuracy: 0.7155 - val_loss: 0.5614 - val_accuracy: 0.7298 - 607ms/epoch - 2ms/step\n",
      "Epoch 22/100\n",
      "313/313 - 1s - loss: 0.5720 - accuracy: 0.7220 - val_loss: 0.5474 - val_accuracy: 0.7290 - 596ms/epoch - 2ms/step\n",
      "Epoch 23/100\n",
      "313/313 - 1s - loss: 0.5633 - accuracy: 0.7253 - val_loss: 0.5397 - val_accuracy: 0.7336 - 595ms/epoch - 2ms/step\n",
      "Epoch 24/100\n",
      "313/313 - 1s - loss: 0.5554 - accuracy: 0.7228 - val_loss: 0.5291 - val_accuracy: 0.7392 - 589ms/epoch - 2ms/step\n",
      "Epoch 25/100\n",
      "313/313 - 1s - loss: 0.5477 - accuracy: 0.7291 - val_loss: 0.5202 - val_accuracy: 0.7444 - 593ms/epoch - 2ms/step\n",
      "Epoch 26/100\n",
      "313/313 - 1s - loss: 0.5396 - accuracy: 0.7284 - val_loss: 0.5190 - val_accuracy: 0.7526 - 592ms/epoch - 2ms/step\n",
      "Epoch 27/100\n",
      "313/313 - 1s - loss: 0.5330 - accuracy: 0.7342 - val_loss: 0.5077 - val_accuracy: 0.7512 - 590ms/epoch - 2ms/step\n",
      "Epoch 28/100\n",
      "313/313 - 1s - loss: 0.5279 - accuracy: 0.7343 - val_loss: 0.5012 - val_accuracy: 0.7574 - 594ms/epoch - 2ms/step\n",
      "Epoch 29/100\n",
      "313/313 - 1s - loss: 0.5218 - accuracy: 0.7392 - val_loss: 0.4982 - val_accuracy: 0.7544 - 589ms/epoch - 2ms/step\n",
      "Epoch 30/100\n",
      "313/313 - 1s - loss: 0.5171 - accuracy: 0.7387 - val_loss: 0.4910 - val_accuracy: 0.7626 - 590ms/epoch - 2ms/step\n",
      "Epoch 31/100\n",
      "313/313 - 1s - loss: 0.5127 - accuracy: 0.7402 - val_loss: 0.4889 - val_accuracy: 0.7588 - 589ms/epoch - 2ms/step\n",
      "Epoch 32/100\n",
      "313/313 - 1s - loss: 0.5080 - accuracy: 0.7431 - val_loss: 0.4896 - val_accuracy: 0.7598 - 595ms/epoch - 2ms/step\n",
      "Epoch 33/100\n",
      "313/313 - 1s - loss: 0.5056 - accuracy: 0.7404 - val_loss: 0.4775 - val_accuracy: 0.7658 - 594ms/epoch - 2ms/step\n",
      "Epoch 34/100\n",
      "313/313 - 1s - loss: 0.5008 - accuracy: 0.7442 - val_loss: 0.4821 - val_accuracy: 0.7606 - 594ms/epoch - 2ms/step\n",
      "Epoch 35/100\n",
      "313/313 - 1s - loss: 0.4977 - accuracy: 0.7463 - val_loss: 0.4782 - val_accuracy: 0.7598 - 594ms/epoch - 2ms/step\n",
      "Epoch 36/100\n",
      "313/313 - 1s - loss: 0.4945 - accuracy: 0.7467 - val_loss: 0.4668 - val_accuracy: 0.7656 - 591ms/epoch - 2ms/step\n",
      "Epoch 37/100\n",
      "313/313 - 1s - loss: 0.4916 - accuracy: 0.7496 - val_loss: 0.4680 - val_accuracy: 0.7694 - 585ms/epoch - 2ms/step\n",
      "Epoch 38/100\n",
      "313/313 - 1s - loss: 0.4882 - accuracy: 0.7507 - val_loss: 0.4604 - val_accuracy: 0.7748 - 595ms/epoch - 2ms/step\n",
      "Epoch 39/100\n",
      "313/313 - 1s - loss: 0.4853 - accuracy: 0.7533 - val_loss: 0.4565 - val_accuracy: 0.7764 - 592ms/epoch - 2ms/step\n",
      "Epoch 40/100\n",
      "313/313 - 1s - loss: 0.4821 - accuracy: 0.7518 - val_loss: 0.4529 - val_accuracy: 0.7800 - 597ms/epoch - 2ms/step\n",
      "Epoch 41/100\n",
      "313/313 - 1s - loss: 0.4782 - accuracy: 0.7549 - val_loss: 0.4534 - val_accuracy: 0.7758 - 592ms/epoch - 2ms/step\n",
      "Epoch 42/100\n",
      "313/313 - 1s - loss: 0.4747 - accuracy: 0.7597 - val_loss: 0.4456 - val_accuracy: 0.7792 - 589ms/epoch - 2ms/step\n",
      "Epoch 43/100\n",
      "313/313 - 1s - loss: 0.4711 - accuracy: 0.7583 - val_loss: 0.4466 - val_accuracy: 0.7828 - 593ms/epoch - 2ms/step\n",
      "Epoch 44/100\n",
      "313/313 - 1s - loss: 0.4657 - accuracy: 0.7619 - val_loss: 0.4392 - val_accuracy: 0.7818 - 593ms/epoch - 2ms/step\n",
      "Epoch 45/100\n",
      "313/313 - 1s - loss: 0.4626 - accuracy: 0.7627 - val_loss: 0.4420 - val_accuracy: 0.7812 - 592ms/epoch - 2ms/step\n",
      "Epoch 46/100\n",
      "313/313 - 1s - loss: 0.4602 - accuracy: 0.7637 - val_loss: 0.5054 - val_accuracy: 0.7232 - 588ms/epoch - 2ms/step\n",
      "Epoch 47/100\n",
      "313/313 - 1s - loss: 0.4570 - accuracy: 0.7657 - val_loss: 0.4338 - val_accuracy: 0.7848 - 596ms/epoch - 2ms/step\n",
      "Epoch 48/100\n",
      "313/313 - 1s - loss: 0.4536 - accuracy: 0.7672 - val_loss: 0.4257 - val_accuracy: 0.7914 - 601ms/epoch - 2ms/step\n",
      "Epoch 49/100\n",
      "313/313 - 1s - loss: 0.4492 - accuracy: 0.7698 - val_loss: 0.4253 - val_accuracy: 0.7962 - 599ms/epoch - 2ms/step\n",
      "Epoch 50/100\n",
      "313/313 - 1s - loss: 0.4480 - accuracy: 0.7693 - val_loss: 0.4287 - val_accuracy: 0.7908 - 593ms/epoch - 2ms/step\n",
      "Epoch 51/100\n",
      "313/313 - 1s - loss: 0.4442 - accuracy: 0.7731 - val_loss: 0.4156 - val_accuracy: 0.7942 - 592ms/epoch - 2ms/step\n",
      "Epoch 52/100\n",
      "313/313 - 1s - loss: 0.4412 - accuracy: 0.7748 - val_loss: 0.4148 - val_accuracy: 0.7980 - 597ms/epoch - 2ms/step\n",
      "Epoch 53/100\n",
      "313/313 - 1s - loss: 0.4395 - accuracy: 0.7732 - val_loss: 0.4254 - val_accuracy: 0.7910 - 600ms/epoch - 2ms/step\n",
      "Epoch 54/100\n",
      "313/313 - 1s - loss: 0.4383 - accuracy: 0.7751 - val_loss: 0.4063 - val_accuracy: 0.8006 - 591ms/epoch - 2ms/step\n",
      "Epoch 55/100\n",
      "313/313 - 1s - loss: 0.4363 - accuracy: 0.7773 - val_loss: 0.5246 - val_accuracy: 0.7460 - 603ms/epoch - 2ms/step\n",
      "Epoch 56/100\n",
      "313/313 - 1s - loss: 0.4367 - accuracy: 0.7755 - val_loss: 0.4099 - val_accuracy: 0.8046 - 593ms/epoch - 2ms/step\n",
      "Epoch 57/100\n",
      "313/313 - 1s - loss: 0.4343 - accuracy: 0.7772 - val_loss: 0.4174 - val_accuracy: 0.7926 - 593ms/epoch - 2ms/step\n",
      "Epoch 58/100\n",
      "313/313 - 1s - loss: 0.4309 - accuracy: 0.7801 - val_loss: 0.4047 - val_accuracy: 0.8034 - 602ms/epoch - 2ms/step\n",
      "Epoch 59/100\n",
      "313/313 - 1s - loss: 0.4297 - accuracy: 0.7801 - val_loss: 0.3998 - val_accuracy: 0.8078 - 596ms/epoch - 2ms/step\n",
      "Epoch 60/100\n",
      "313/313 - 1s - loss: 0.4276 - accuracy: 0.7817 - val_loss: 0.4212 - val_accuracy: 0.7958 - 592ms/epoch - 2ms/step\n",
      "Epoch 61/100\n",
      "313/313 - 1s - loss: 0.4271 - accuracy: 0.7797 - val_loss: 0.4444 - val_accuracy: 0.7572 - 593ms/epoch - 2ms/step\n",
      "Epoch 62/100\n",
      "313/313 - 1s - loss: 0.4247 - accuracy: 0.7833 - val_loss: 0.4299 - val_accuracy: 0.7960 - 597ms/epoch - 2ms/step\n",
      "Epoch 63/100\n",
      "313/313 - 1s - loss: 0.4234 - accuracy: 0.7825 - val_loss: 0.3926 - val_accuracy: 0.8064 - 606ms/epoch - 2ms/step\n",
      "Epoch 64/100\n",
      "313/313 - 1s - loss: 0.4224 - accuracy: 0.7838 - val_loss: 0.4821 - val_accuracy: 0.7464 - 603ms/epoch - 2ms/step\n",
      "Epoch 65/100\n",
      "313/313 - 1s - loss: 0.4210 - accuracy: 0.7850 - val_loss: 0.3876 - val_accuracy: 0.8132 - 602ms/epoch - 2ms/step\n"
     ]
    },
    {
     "name": "stdout",
     "output_type": "stream",
     "text": [
      "Epoch 66/100\n",
      "313/313 - 1s - loss: 0.4200 - accuracy: 0.7854 - val_loss: 0.3856 - val_accuracy: 0.8086 - 597ms/epoch - 2ms/step\n",
      "Epoch 67/100\n",
      "313/313 - 1s - loss: 0.4167 - accuracy: 0.7845 - val_loss: 0.4142 - val_accuracy: 0.8002 - 591ms/epoch - 2ms/step\n",
      "Epoch 68/100\n",
      "313/313 - 1s - loss: 0.4184 - accuracy: 0.7828 - val_loss: 0.4072 - val_accuracy: 0.8038 - 587ms/epoch - 2ms/step\n",
      "Epoch 69/100\n",
      "313/313 - 1s - loss: 0.4130 - accuracy: 0.7894 - val_loss: 0.3811 - val_accuracy: 0.8090 - 600ms/epoch - 2ms/step\n",
      "Epoch 70/100\n",
      "313/313 - 1s - loss: 0.4125 - accuracy: 0.7890 - val_loss: 0.3798 - val_accuracy: 0.8126 - 589ms/epoch - 2ms/step\n",
      "Epoch 71/100\n",
      "313/313 - 1s - loss: 0.4133 - accuracy: 0.7885 - val_loss: 0.4154 - val_accuracy: 0.7996 - 602ms/epoch - 2ms/step\n",
      "Epoch 72/100\n",
      "313/313 - 1s - loss: 0.4095 - accuracy: 0.7927 - val_loss: 0.3800 - val_accuracy: 0.8100 - 592ms/epoch - 2ms/step\n",
      "Epoch 73/100\n",
      "313/313 - 1s - loss: 0.4091 - accuracy: 0.7901 - val_loss: 0.3867 - val_accuracy: 0.8202 - 597ms/epoch - 2ms/step\n",
      "Epoch 74/100\n",
      "313/313 - 1s - loss: 0.4062 - accuracy: 0.7939 - val_loss: 0.3768 - val_accuracy: 0.8154 - 598ms/epoch - 2ms/step\n",
      "Epoch 75/100\n",
      "313/313 - 1s - loss: 0.4073 - accuracy: 0.7927 - val_loss: 0.3757 - val_accuracy: 0.8184 - 595ms/epoch - 2ms/step\n",
      "Epoch 76/100\n",
      "313/313 - 1s - loss: 0.4038 - accuracy: 0.7961 - val_loss: 0.4728 - val_accuracy: 0.7698 - 598ms/epoch - 2ms/step\n",
      "Epoch 77/100\n",
      "313/313 - 1s - loss: 0.4041 - accuracy: 0.7948 - val_loss: 0.3946 - val_accuracy: 0.8190 - 599ms/epoch - 2ms/step\n",
      "Epoch 78/100\n",
      "313/313 - 1s - loss: 0.4048 - accuracy: 0.7937 - val_loss: 0.3732 - val_accuracy: 0.8200 - 595ms/epoch - 2ms/step\n",
      "Epoch 79/100\n",
      "313/313 - 1s - loss: 0.4013 - accuracy: 0.7976 - val_loss: 0.3940 - val_accuracy: 0.8104 - 594ms/epoch - 2ms/step\n",
      "Epoch 80/100\n",
      "313/313 - 1s - loss: 0.4007 - accuracy: 0.7967 - val_loss: 0.3963 - val_accuracy: 0.8102 - 596ms/epoch - 2ms/step\n",
      "Epoch 81/100\n",
      "313/313 - 1s - loss: 0.3987 - accuracy: 0.8002 - val_loss: 0.3672 - val_accuracy: 0.8198 - 598ms/epoch - 2ms/step\n",
      "Epoch 82/100\n",
      "313/313 - 1s - loss: 0.4008 - accuracy: 0.7972 - val_loss: 0.3870 - val_accuracy: 0.8178 - 596ms/epoch - 2ms/step\n",
      "Epoch 83/100\n",
      "313/313 - 1s - loss: 0.3978 - accuracy: 0.7985 - val_loss: 0.3730 - val_accuracy: 0.8242 - 596ms/epoch - 2ms/step\n",
      "Epoch 84/100\n",
      "313/313 - 1s - loss: 0.3986 - accuracy: 0.7995 - val_loss: 0.3686 - val_accuracy: 0.8226 - 598ms/epoch - 2ms/step\n",
      "Epoch 85/100\n",
      "313/313 - 1s - loss: 0.3969 - accuracy: 0.8000 - val_loss: 0.3638 - val_accuracy: 0.8218 - 595ms/epoch - 2ms/step\n",
      "Epoch 86/100\n",
      "313/313 - 1s - loss: 0.3950 - accuracy: 0.8025 - val_loss: 0.3660 - val_accuracy: 0.8234 - 595ms/epoch - 2ms/step\n",
      "Epoch 87/100\n",
      "313/313 - 1s - loss: 0.3945 - accuracy: 0.8022 - val_loss: 0.3683 - val_accuracy: 0.8206 - 596ms/epoch - 2ms/step\n",
      "Epoch 88/100\n",
      "313/313 - 1s - loss: 0.3947 - accuracy: 0.8012 - val_loss: 0.6548 - val_accuracy: 0.6306 - 594ms/epoch - 2ms/step\n",
      "Epoch 89/100\n",
      "313/313 - 1s - loss: 0.3920 - accuracy: 0.8014 - val_loss: 0.3933 - val_accuracy: 0.7884 - 597ms/epoch - 2ms/step\n",
      "Epoch 90/100\n",
      "313/313 - 1s - loss: 0.3924 - accuracy: 0.8038 - val_loss: 0.3634 - val_accuracy: 0.8190 - 593ms/epoch - 2ms/step\n",
      "Epoch 91/100\n",
      "313/313 - 1s - loss: 0.3907 - accuracy: 0.8038 - val_loss: 0.3597 - val_accuracy: 0.8214 - 596ms/epoch - 2ms/step\n",
      "Epoch 92/100\n",
      "313/313 - 1s - loss: 0.3919 - accuracy: 0.8030 - val_loss: 0.3679 - val_accuracy: 0.8196 - 592ms/epoch - 2ms/step\n",
      "Epoch 93/100\n",
      "313/313 - 1s - loss: 0.3908 - accuracy: 0.8024 - val_loss: 0.3583 - val_accuracy: 0.8222 - 598ms/epoch - 2ms/step\n",
      "Epoch 94/100\n",
      "313/313 - 1s - loss: 0.3889 - accuracy: 0.8024 - val_loss: 0.3635 - val_accuracy: 0.8244 - 603ms/epoch - 2ms/step\n",
      "Epoch 95/100\n",
      "313/313 - 1s - loss: 0.3889 - accuracy: 0.8049 - val_loss: 0.3596 - val_accuracy: 0.8260 - 605ms/epoch - 2ms/step\n",
      "Epoch 96/100\n",
      "313/313 - 1s - loss: 0.3883 - accuracy: 0.8051 - val_loss: 0.6186 - val_accuracy: 0.6636 - 608ms/epoch - 2ms/step\n",
      "Epoch 97/100\n",
      "313/313 - 1s - loss: 0.3890 - accuracy: 0.8063 - val_loss: 0.3574 - val_accuracy: 0.8232 - 628ms/epoch - 2ms/step\n",
      "Epoch 98/100\n",
      "313/313 - 1s - loss: 0.3868 - accuracy: 0.8065 - val_loss: 0.4747 - val_accuracy: 0.7810 - 614ms/epoch - 2ms/step\n",
      "Epoch 99/100\n",
      "313/313 - 1s - loss: 0.3873 - accuracy: 0.8066 - val_loss: 0.3589 - val_accuracy: 0.8286 - 601ms/epoch - 2ms/step\n",
      "Epoch 100/100\n",
      "313/313 - 1s - loss: 0.3845 - accuracy: 0.8076 - val_loss: 0.3628 - val_accuracy: 0.8242 - 595ms/epoch - 2ms/step\n"
     ]
    }
   ],
   "source": [
    "# we train the model for 100 epochs\n",
    "# verbose level 2 displays more info while trianing`\n",
    "# np.expand_dims(X_train, axis=0)\n",
    "# X_train\n",
    "H = model.fit(X_train, y_train, epochs=100, verbose=2, validation_data=(X_val, y_val))"
   ]
  },
  {
   "cell_type": "code",
   "execution_count": 14,
   "id": "3eda6f29",
   "metadata": {},
   "outputs": [],
   "source": [
    "def plot_results(H):\n",
    "    results = pd.DataFrame({\"Train Loss\": H.history['loss'], \"Validation Loss\": H.history['val_loss'],\n",
    "              \"Train Accuracy\": H.history['accuracy'], \"Validation Accuracy\": H.history['val_accuracy']\n",
    "             })\n",
    "    fig, ax = plt.subplots(nrows=2, figsize=(16, 9))\n",
    "    results[[\"Train Loss\", \"Validation Loss\"]].plot(ax=ax[0])\n",
    "    results[[\"Train Accuracy\", \"Validation Accuracy\"]].plot(ax=ax[1])\n",
    "    ax[0].set_xlabel(\"Epoch\")\n",
    "    ax[1].set_xlabel(\"Epoch\")\n",
    "    plt.show()"
   ]
  },
  {
   "cell_type": "code",
   "execution_count": 15,
   "id": "a858a48d",
   "metadata": {},
   "outputs": [
    {
     "data": {
      "image/png": "[encoded data removed]",
      "text/plain": [
       "<Figure size 1152x648 with 2 Axes>"
      ]
     },
     "metadata": {
      "needs_background": "light"
     },
     "output_type": "display_data"
    }
   ],
   "source": [
    "plot_results(H)"
   ]
  },
  {
   "cell_type": "code",
   "execution_count": null,
   "id": "759d04ec",
   "metadata": {},
   "outputs": [],
   "source": []
  }
 ],
 "metadata": {
  "kernelspec": {
   "display_name": "Python 3 (ipykernel)",
   "language": "python",
   "name": "python3"
  },
  "language_info": {
   "codemirror_mode": {
    "name": "ipython",
    "version": 3
   },
   "file_extension": ".py",
   "mimetype": "text/x-python",
   "name": "python",
   "nbconvert_exporter": "python",
   "pygments_lexer": "ipython3",
   "version": "3.7.3"
  }
 },
 "nbformat": 4,
 "nbformat_minor": 5
}
